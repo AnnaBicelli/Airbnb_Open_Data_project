{
  "nbformat": 4,
  "nbformat_minor": 0,
  "metadata": {
    "colab": {
      "provenance": [],
      "authorship_tag": "ABX9TyM94UEGHf8ODSxJHp6mq4F+",
      "include_colab_link": true
    },
    "kernelspec": {
      "name": "python3",
      "display_name": "Python 3"
    },
    "language_info": {
      "name": "python"
    }
  },
  "cells": [
    {
      "cell_type": "markdown",
      "metadata": {
        "id": "view-in-github",
        "colab_type": "text"
      },
      "source": [
        "<a href=\"https://colab.research.google.com/github/AnnaBicelli/Airbnb_Open_Data_project/blob/main/Modeling_Airbnb_project.ipynb\" target=\"_parent\"><img src=\"https://colab.research.google.com/assets/colab-badge.svg\" alt=\"Open In Colab\"/></a>"
      ]
    },
    {
      "cell_type": "markdown",
      "source": [
        "I use Google Colab to do the modeling part because I had serious problems importing the sklearn library in VSCode.<br>I also do the first part of the project here that I've done in the Airbnb_Open_Data_project file so that I've the DataFrame set up correctly."
      ],
      "metadata": {
        "id": "vioa6Ff9Vmpj"
      }
    },
    {
      "cell_type": "markdown",
      "source": [
        "https://github.com/AnnaBicelli/another-try-.git"
      ],
      "metadata": {
        "id": "XoHisuVaadaC"
      }
    },
    {
      "cell_type": "code",
      "execution_count": 39,
      "metadata": {
        "id": "l3NhpIAQU6Gc"
      },
      "outputs": [],
      "source": [
        "import pandas as pd\n",
        "import numpy as np\n",
        "import matplotlib.pyplot as plt\n",
        "import seaborn as sns\n",
        "import sklearn"
      ]
    },
    {
      "cell_type": "code",
      "source": [
        "pd.set_option('display.max_columns', None)"
      ],
      "metadata": {
        "id": "SLkVltVcVqDa"
      },
      "execution_count": 40,
      "outputs": []
    },
    {
      "cell_type": "code",
      "source": [
        "!unzip Airbnb_Open_Data.zip"
      ],
      "metadata": {
        "colab": {
          "base_uri": "https://localhost:8080/"
        },
        "id": "fc6sNWUWVsX8",
        "outputId": "e46e550b-eda7-4bc1-9232-58dcb69f332f"
      },
      "execution_count": 41,
      "outputs": [
        {
          "output_type": "stream",
          "name": "stdout",
          "text": [
            "Archive:  Airbnb_Open_Data.zip\n",
            "  inflating: Airbnb_Open_Data.csv    \n"
          ]
        }
      ]
    },
    {
      "cell_type": "code",
      "source": [
        "airbnb_df = pd.read_csv('Airbnb_Open_Data.csv')"
      ],
      "metadata": {
        "colab": {
          "base_uri": "https://localhost:8080/"
        },
        "id": "z4H7MNn0V-vW",
        "outputId": "b6cc0adf-cdf8-45c6-a51a-b9c502e81075"
      },
      "execution_count": 67,
      "outputs": [
        {
          "output_type": "stream",
          "name": "stderr",
          "text": [
            "<ipython-input-67-0e7af51ed738>:1: DtypeWarning: Columns (25) have mixed types. Specify dtype option on import or set low_memory=False.\n",
            "  airbnb_df = pd.read_csv('Airbnb_Open_Data.csv')\n"
          ]
        }
      ]
    },
    {
      "cell_type": "markdown",
      "source": [
        "# First Part"
      ],
      "metadata": {
        "id": "riYA7X6lXnhe"
      }
    },
    {
      "cell_type": "code",
      "source": [
        "#in the 25th column I have problematic values, so I replace them with NaN\n",
        "airbnb_df=airbnb_df.replace('#NAME?', np.nan)"
      ],
      "metadata": {
        "id": "-IEsXmYCWBt2"
      },
      "execution_count": 68,
      "outputs": []
    },
    {
      "cell_type": "code",
      "source": [
        "# I fix the column indixes\n",
        "airbnb_df.columns = airbnb_df.columns.map(lambda x: x.lower().replace(' ', '_'))"
      ],
      "metadata": {
        "id": "bJeEtU3sWPfh"
      },
      "execution_count": 69,
      "outputs": []
    },
    {
      "cell_type": "markdown",
      "source": [
        "I remove the dollar sign $ and the commas in the `price` and `service fee` columns and transform them from object to float:"
      ],
      "metadata": {
        "id": "LKZvJt3HWssI"
      }
    },
    {
      "cell_type": "code",
      "source": [
        "airbnb_df.price = airbnb_df.price.replace({'\\$': '', ',': ''}, regex=True).astype(float)"
      ],
      "metadata": {
        "id": "7uFU2bM7WlEk"
      },
      "execution_count": 70,
      "outputs": []
    },
    {
      "cell_type": "code",
      "source": [
        "airbnb_df.service_fee = airbnb_df.service_fee.replace({'\\$': '', ',': ''}, regex=True).astype(float)"
      ],
      "metadata": {
        "id": "Hb-Pej_HW2A4"
      },
      "execution_count": 71,
      "outputs": []
    },
    {
      "cell_type": "code",
      "source": [
        "# Convert 'id' and 'host_id' columns from float to object\n",
        "airbnb_df['id'] = airbnb_df['id'].astype(str)\n",
        "airbnb_df['host_id'] = airbnb_df['host_id'].astype(str)\n"
      ],
      "metadata": {
        "id": "Jpgki2w59PI5"
      },
      "execution_count": 72,
      "outputs": []
    },
    {
      "cell_type": "code",
      "source": [
        "airbnb_df.info()"
      ],
      "metadata": {
        "colab": {
          "base_uri": "https://localhost:8080/"
        },
        "id": "XOfsnE7U-SdN",
        "outputId": "83243442-8510-4d94-8e43-eda17503ff9d"
      },
      "execution_count": 73,
      "outputs": [
        {
          "output_type": "stream",
          "name": "stdout",
          "text": [
            "<class 'pandas.core.frame.DataFrame'>\n",
            "RangeIndex: 102599 entries, 0 to 102598\n",
            "Data columns (total 26 columns):\n",
            " #   Column                          Non-Null Count   Dtype  \n",
            "---  ------                          --------------   -----  \n",
            " 0   id                              102599 non-null  object \n",
            " 1   name                            102329 non-null  object \n",
            " 2   host_id                         102599 non-null  object \n",
            " 3   host_identity_verified          102310 non-null  object \n",
            " 4   host_name                       102191 non-null  object \n",
            " 5   neighbourhood_group             102570 non-null  object \n",
            " 6   neighbourhood                   102583 non-null  object \n",
            " 7   lat                             102591 non-null  float64\n",
            " 8   long                            102591 non-null  float64\n",
            " 9   country                         102067 non-null  object \n",
            " 10  country_code                    102468 non-null  object \n",
            " 11  instant_bookable                102494 non-null  object \n",
            " 12  cancellation_policy             102523 non-null  object \n",
            " 13  room_type                       102599 non-null  object \n",
            " 14  construction_year               102385 non-null  float64\n",
            " 15  price                           102352 non-null  float64\n",
            " 16  service_fee                     102326 non-null  float64\n",
            " 17  minimum_nights                  102190 non-null  float64\n",
            " 18  number_of_reviews               102416 non-null  float64\n",
            " 19  last_review                     86706 non-null   object \n",
            " 20  reviews_per_month               86720 non-null   float64\n",
            " 21  review_rate_number              102273 non-null  float64\n",
            " 22  calculated_host_listings_count  102280 non-null  float64\n",
            " 23  availability_365                102151 non-null  float64\n",
            " 24  house_rules                     47756 non-null   object \n",
            " 25  license                         2 non-null       object \n",
            "dtypes: float64(11), object(15)\n",
            "memory usage: 20.4+ MB\n"
          ]
        }
      ]
    },
    {
      "cell_type": "code",
      "source": [
        "# Null values in columns of float type\n",
        "null_float_columns = airbnb_df.select_dtypes(include=['float']).isnull().sum()\n",
        "print(\"Null values in columns of float type:\")\n",
        "print(null_float_columns)\n",
        "\n",
        "# Null values in columns of object type\n",
        "null_text_columns = airbnb_df.select_dtypes(include=['object']).isnull().sum()\n",
        "print(\"\\nNull values in columns of object type:\")\n",
        "print(null_text_columns)\n",
        "\n",
        "# Null values in columns of integer type\n",
        "null_int_columns = airbnb_df.select_dtypes(include=['int']).isnull().sum()\n",
        "print(\"\\nNull values in columns of integer type:\")\n",
        "print(null_int_columns)"
      ],
      "metadata": {
        "colab": {
          "base_uri": "https://localhost:8080/"
        },
        "id": "c3UCrOG8XBQo",
        "outputId": "2e1b57f8-f74f-45d7-c4fa-f1e5e7fdf0b9"
      },
      "execution_count": 74,
      "outputs": [
        {
          "output_type": "stream",
          "name": "stdout",
          "text": [
            "Null values in columns of float type:\n",
            "lat                                   8\n",
            "long                                  8\n",
            "construction_year                   214\n",
            "price                               247\n",
            "service_fee                         273\n",
            "minimum_nights                      409\n",
            "number_of_reviews                   183\n",
            "reviews_per_month                 15879\n",
            "review_rate_number                  326\n",
            "calculated_host_listings_count      319\n",
            "availability_365                    448\n",
            "dtype: int64\n",
            "\n",
            "Null values in columns of object type:\n",
            "id                             0\n",
            "name                         270\n",
            "host_id                        0\n",
            "host_identity_verified       289\n",
            "host_name                    408\n",
            "neighbourhood_group           29\n",
            "neighbourhood                 16\n",
            "country                      532\n",
            "country_code                 131\n",
            "instant_bookable             105\n",
            "cancellation_policy           76\n",
            "room_type                      0\n",
            "last_review                15893\n",
            "house_rules                54843\n",
            "license                   102597\n",
            "dtype: int64\n",
            "\n",
            "Null values in columns of integer type:\n",
            "Series([], dtype: float64)\n"
          ]
        }
      ]
    },
    {
      "cell_type": "markdown",
      "source": [
        "For float variables:\n",
        "- **replace** the null values related to *float* data with their **mean value** because the percentages are really close to zero.<br>\n",
        "- **remove** the variable `reviews_per_month`,  from the variable itself. The percentage of null values is excessive and would not lead to useful information for the dataset.<br>\n",
        "- **drop** the NaN values in the columns `price` and `service_fee`."
      ],
      "metadata": {
        "id": "C6Rd5ZsIW9x4"
      }
    },
    {
      "cell_type": "code",
      "source": [
        "lat_mean = airbnb_df['lat'].mean()\n",
        "airbnb_df['lat'].fillna(lat_mean, inplace=True)\n",
        "\n",
        "long_mean = airbnb_df['long'].mean()\n",
        "airbnb_df['long'].fillna(long_mean, inplace=True)\n",
        "\n",
        "construction_year_mean = airbnb_df['construction_year'].mean()\n",
        "airbnb_df['construction_year'].fillna(construction_year_mean, inplace=True)\n",
        "\n",
        "minimum_nights_mean = airbnb_df['minimum_nights'].mean()\n",
        "airbnb_df['minimum_nights'].fillna(minimum_nights_mean, inplace=True)\n",
        "\n",
        "number_of_reviews_mean = airbnb_df['number_of_reviews'].mean()\n",
        "airbnb_df['number_of_reviews'].fillna(number_of_reviews_mean, inplace=True)\n",
        "\n",
        "review_rate_number_mean = airbnb_df['review_rate_number'].mean()\n",
        "airbnb_df['review_rate_number'].fillna(review_rate_number_mean, inplace=True)\n",
        "\n",
        "calculated_host_listings_count_mean = airbnb_df['calculated_host_listings_count'].mean()\n",
        "airbnb_df['calculated_host_listings_count'].fillna(calculated_host_listings_count_mean, inplace=True)\n",
        "\n",
        "availability_365_mean = airbnb_df['availability_365'].mean()\n",
        "airbnb_df['availability_365'].fillna(availability_365_mean, inplace=True)"
      ],
      "metadata": {
        "id": "97kww0sAW4zI"
      },
      "execution_count": 75,
      "outputs": []
    },
    {
      "cell_type": "code",
      "source": [
        "airbnb_df.dropna(subset=['price'],inplace=True)\n",
        "airbnb_df.dropna(subset=['service_fee'],inplace=True)"
      ],
      "metadata": {
        "id": "T_AhsFsAXHBE"
      },
      "execution_count": 76,
      "outputs": []
    },
    {
      "cell_type": "code",
      "source": [
        "airbnb_df.drop(columns = [ \"reviews_per_month\"], axis=1, inplace = True)"
      ],
      "metadata": {
        "id": "Hn7q-p9sXE7_"
      },
      "execution_count": 77,
      "outputs": []
    },
    {
      "cell_type": "markdown",
      "source": [
        "For object type:\n",
        "-  **drop** the columns `last_review`,`license` and `house_rules` because the percentage of null values is excessive and would not lead to useful information\n",
        "<br>The `house_rules` column is the one in which there were problematic values that I replaced with null values, being null more than half of the values of this variable means that I can delete the column.<br>\n",
        "- **replace** the null values related to *object* variables with the **mode** that is the value that occurs the most in the variable, so it doesn't change the distribution a lot\n"
      ],
      "metadata": {
        "id": "g8EZ731dXMlq"
      }
    },
    {
      "cell_type": "code",
      "source": [
        "name_mode = airbnb_df['name'].mode()[0]\n",
        "airbnb_df['name'].fillna(name_mode, inplace=True)\n",
        "\n",
        "host_identity_verified_mode = airbnb_df['host_identity_verified'].mode()[0]\n",
        "airbnb_df['host_identity_verified'].fillna(host_identity_verified_mode, inplace=True)\n",
        "\n",
        "host_name_mode = airbnb_df['host_name'].mode()[0]\n",
        "airbnb_df['host_name'].fillna(host_name_mode, inplace=True)\n",
        "\n",
        "neighbourhood_group_mode = airbnb_df['neighbourhood_group'].mode()[0]\n",
        "airbnb_df['neighbourhood_group'].fillna(neighbourhood_group_mode, inplace=True)\n",
        "\n",
        "neighbourhood_mode = airbnb_df['neighbourhood'].mode()[0]\n",
        "airbnb_df['neighbourhood'].fillna(neighbourhood_mode, inplace=True)\n",
        "\n",
        "country_mode = airbnb_df['country'].mode()[0]\n",
        "airbnb_df['country'].fillna(country_mode, inplace=True)\n",
        "\n",
        "country_code_mode = airbnb_df['country_code'].mode()[0]\n",
        "airbnb_df['country_code'].fillna(country_code_mode, inplace=True)\n",
        "\n",
        "instant_bookable_mode = airbnb_df['instant_bookable'].mode()[0]\n",
        "airbnb_df['instant_bookable'].fillna(instant_bookable_mode, inplace=True)\n",
        "\n",
        "cancellation_policy_mode = airbnb_df['cancellation_policy'].mode()[0]\n",
        "airbnb_df['cancellation_policy'].fillna(cancellation_policy_mode, inplace=True)\n",
        "\n",
        "room_type_mode = airbnb_df['room_type'].mode()[0]\n",
        "airbnb_df['room_type'].fillna(room_type_mode, inplace=True)"
      ],
      "metadata": {
        "id": "ddgZ5xI4XJNo"
      },
      "execution_count": 78,
      "outputs": []
    },
    {
      "cell_type": "code",
      "source": [
        "airbnb_df.drop(columns = [\"license\",\"house_rules\", \"last_review\"], axis=1, inplace = True)"
      ],
      "metadata": {
        "id": "EVYyK5KbXXx8"
      },
      "execution_count": 79,
      "outputs": []
    },
    {
      "cell_type": "code",
      "source": [
        "airbnb_df.isnull().sum()"
      ],
      "metadata": {
        "colab": {
          "base_uri": "https://localhost:8080/"
        },
        "id": "rMw7sYCOXaNL",
        "outputId": "3f064af6-8d7c-411d-a7d0-f8ab6e6e2161"
      },
      "execution_count": 80,
      "outputs": [
        {
          "output_type": "execute_result",
          "data": {
            "text/plain": [
              "id                                0\n",
              "name                              0\n",
              "host_id                           0\n",
              "host_identity_verified            0\n",
              "host_name                         0\n",
              "neighbourhood_group               0\n",
              "neighbourhood                     0\n",
              "lat                               0\n",
              "long                              0\n",
              "country                           0\n",
              "country_code                      0\n",
              "instant_bookable                  0\n",
              "cancellation_policy               0\n",
              "room_type                         0\n",
              "construction_year                 0\n",
              "price                             0\n",
              "service_fee                       0\n",
              "minimum_nights                    0\n",
              "number_of_reviews                 0\n",
              "review_rate_number                0\n",
              "calculated_host_listings_count    0\n",
              "availability_365                  0\n",
              "dtype: int64"
            ]
          },
          "metadata": {},
          "execution_count": 80
        }
      ]
    },
    {
      "cell_type": "markdown",
      "source": [
        "# Modeling"
      ],
      "metadata": {
        "id": "QWXkWJI-XvnQ"
      }
    },
    {
      "cell_type": "markdown",
      "source": [
        "import libraries"
      ],
      "metadata": {
        "id": "Hc5tabiNuo5z"
      }
    },
    {
      "cell_type": "code",
      "source": [
        "from sklearn.model_selection import train_test_split\n",
        "from sklearn.linear_model import LinearRegression\n",
        "from sklearn.metrics import mean_squared_error, r2_score"
      ],
      "metadata": {
        "id": "4SBTiwzMXc_c"
      },
      "execution_count": 81,
      "outputs": []
    },
    {
      "cell_type": "markdown",
      "source": [
        "prima di fare il modello devo eliminare tutte le colonne non float che non mi servono per fare previsioni"
      ],
      "metadata": {
        "id": "VDuYS3WbdMvu"
      }
    },
    {
      "cell_type": "code",
      "source": [
        "airbnb_df.info()"
      ],
      "metadata": {
        "colab": {
          "base_uri": "https://localhost:8080/"
        },
        "id": "G5EAyGA6dSJU",
        "outputId": "9612c702-186d-4541-e899-1336a9f404b8"
      },
      "execution_count": 82,
      "outputs": [
        {
          "output_type": "stream",
          "name": "stdout",
          "text": [
            "<class 'pandas.core.frame.DataFrame'>\n",
            "Int64Index: 102113 entries, 0 to 102598\n",
            "Data columns (total 22 columns):\n",
            " #   Column                          Non-Null Count   Dtype  \n",
            "---  ------                          --------------   -----  \n",
            " 0   id                              102113 non-null  object \n",
            " 1   name                            102113 non-null  object \n",
            " 2   host_id                         102113 non-null  object \n",
            " 3   host_identity_verified          102113 non-null  object \n",
            " 4   host_name                       102113 non-null  object \n",
            " 5   neighbourhood_group             102113 non-null  object \n",
            " 6   neighbourhood                   102113 non-null  object \n",
            " 7   lat                             102113 non-null  float64\n",
            " 8   long                            102113 non-null  float64\n",
            " 9   country                         102113 non-null  object \n",
            " 10  country_code                    102113 non-null  object \n",
            " 11  instant_bookable                102113 non-null  bool   \n",
            " 12  cancellation_policy             102113 non-null  object \n",
            " 13  room_type                       102113 non-null  object \n",
            " 14  construction_year               102113 non-null  float64\n",
            " 15  price                           102113 non-null  float64\n",
            " 16  service_fee                     102113 non-null  float64\n",
            " 17  minimum_nights                  102113 non-null  float64\n",
            " 18  number_of_reviews               102113 non-null  float64\n",
            " 19  review_rate_number              102113 non-null  float64\n",
            " 20  calculated_host_listings_count  102113 non-null  float64\n",
            " 21  availability_365                102113 non-null  float64\n",
            "dtypes: bool(1), float64(10), object(11)\n",
            "memory usage: 17.2+ MB\n"
          ]
        }
      ]
    },
    {
      "cell_type": "code",
      "source": [
        "# Selezionare le colonne di tipo 'object' e 'bool' perchè non influenzano il prezzo\n",
        "colonne_da_eliminare = airbnb_df.select_dtypes(include=['object', 'bool']).columns\n",
        "\n",
        "# Eliminare le colonne di tipo 'object'\n",
        "airbnb_df = airbnb_df.drop(columns=colonne_da_eliminare)\n",
        "airbnb_df.info()"
      ],
      "metadata": {
        "colab": {
          "base_uri": "https://localhost:8080/"
        },
        "id": "FmjoKE9wdpp1",
        "outputId": "fd9a08eb-9bd9-46ff-c20a-e8baf3ff64a5"
      },
      "execution_count": 83,
      "outputs": [
        {
          "output_type": "stream",
          "name": "stdout",
          "text": [
            "<class 'pandas.core.frame.DataFrame'>\n",
            "Int64Index: 102113 entries, 0 to 102598\n",
            "Data columns (total 10 columns):\n",
            " #   Column                          Non-Null Count   Dtype  \n",
            "---  ------                          --------------   -----  \n",
            " 0   lat                             102113 non-null  float64\n",
            " 1   long                            102113 non-null  float64\n",
            " 2   construction_year               102113 non-null  float64\n",
            " 3   price                           102113 non-null  float64\n",
            " 4   service_fee                     102113 non-null  float64\n",
            " 5   minimum_nights                  102113 non-null  float64\n",
            " 6   number_of_reviews               102113 non-null  float64\n",
            " 7   review_rate_number              102113 non-null  float64\n",
            " 8   calculated_host_listings_count  102113 non-null  float64\n",
            " 9   availability_365                102113 non-null  float64\n",
            "dtypes: float64(10)\n",
            "memory usage: 8.6 MB\n"
          ]
        }
      ]
    },
    {
      "cell_type": "markdown",
      "source": [
        "e voglio eliminare anche lecolonne id e host_id perchè in realtà sono oggetti VAI NELL ALTRO FILE E FALLE DIVENTARE OGGETTI"
      ],
      "metadata": {
        "id": "nkmkZZ6L87fI"
      }
    },
    {
      "cell_type": "code",
      "source": [
        "airbnb_df.head()"
      ],
      "metadata": {
        "colab": {
          "base_uri": "https://localhost:8080/",
          "height": 226
        },
        "id": "MPkLh6oftqp5",
        "outputId": "3bf5ef9e-6918-415c-8783-1ad8fb7c2d50"
      },
      "execution_count": 84,
      "outputs": [
        {
          "output_type": "execute_result",
          "data": {
            "text/plain": [
              "        lat      long  construction_year  price  service_fee  minimum_nights  \\\n",
              "0  40.64749 -73.97237             2020.0  966.0        193.0            10.0   \n",
              "1  40.75362 -73.98377             2007.0  142.0         28.0            30.0   \n",
              "2  40.80902 -73.94190             2005.0  620.0        124.0             3.0   \n",
              "3  40.68514 -73.95976             2005.0  368.0         74.0            30.0   \n",
              "4  40.79851 -73.94399             2009.0  204.0         41.0            10.0   \n",
              "\n",
              "   number_of_reviews  review_rate_number  calculated_host_listings_count  \\\n",
              "0                9.0                 4.0                             6.0   \n",
              "1               45.0                 4.0                             2.0   \n",
              "2                0.0                 5.0                             1.0   \n",
              "3              270.0                 4.0                             1.0   \n",
              "4                9.0                 3.0                             1.0   \n",
              "\n",
              "   availability_365  \n",
              "0             286.0  \n",
              "1             228.0  \n",
              "2             352.0  \n",
              "3             322.0  \n",
              "4             289.0  "
            ],
            "text/html": [
              "\n",
              "  <div id=\"df-2c77786d-f8f9-4ca2-9452-ea6c5fdeed8e\" class=\"colab-df-container\">\n",
              "    <div>\n",
              "<style scoped>\n",
              "    .dataframe tbody tr th:only-of-type {\n",
              "        vertical-align: middle;\n",
              "    }\n",
              "\n",
              "    .dataframe tbody tr th {\n",
              "        vertical-align: top;\n",
              "    }\n",
              "\n",
              "    .dataframe thead th {\n",
              "        text-align: right;\n",
              "    }\n",
              "</style>\n",
              "<table border=\"1\" class=\"dataframe\">\n",
              "  <thead>\n",
              "    <tr style=\"text-align: right;\">\n",
              "      <th></th>\n",
              "      <th>lat</th>\n",
              "      <th>long</th>\n",
              "      <th>construction_year</th>\n",
              "      <th>price</th>\n",
              "      <th>service_fee</th>\n",
              "      <th>minimum_nights</th>\n",
              "      <th>number_of_reviews</th>\n",
              "      <th>review_rate_number</th>\n",
              "      <th>calculated_host_listings_count</th>\n",
              "      <th>availability_365</th>\n",
              "    </tr>\n",
              "  </thead>\n",
              "  <tbody>\n",
              "    <tr>\n",
              "      <th>0</th>\n",
              "      <td>40.64749</td>\n",
              "      <td>-73.97237</td>\n",
              "      <td>2020.0</td>\n",
              "      <td>966.0</td>\n",
              "      <td>193.0</td>\n",
              "      <td>10.0</td>\n",
              "      <td>9.0</td>\n",
              "      <td>4.0</td>\n",
              "      <td>6.0</td>\n",
              "      <td>286.0</td>\n",
              "    </tr>\n",
              "    <tr>\n",
              "      <th>1</th>\n",
              "      <td>40.75362</td>\n",
              "      <td>-73.98377</td>\n",
              "      <td>2007.0</td>\n",
              "      <td>142.0</td>\n",
              "      <td>28.0</td>\n",
              "      <td>30.0</td>\n",
              "      <td>45.0</td>\n",
              "      <td>4.0</td>\n",
              "      <td>2.0</td>\n",
              "      <td>228.0</td>\n",
              "    </tr>\n",
              "    <tr>\n",
              "      <th>2</th>\n",
              "      <td>40.80902</td>\n",
              "      <td>-73.94190</td>\n",
              "      <td>2005.0</td>\n",
              "      <td>620.0</td>\n",
              "      <td>124.0</td>\n",
              "      <td>3.0</td>\n",
              "      <td>0.0</td>\n",
              "      <td>5.0</td>\n",
              "      <td>1.0</td>\n",
              "      <td>352.0</td>\n",
              "    </tr>\n",
              "    <tr>\n",
              "      <th>3</th>\n",
              "      <td>40.68514</td>\n",
              "      <td>-73.95976</td>\n",
              "      <td>2005.0</td>\n",
              "      <td>368.0</td>\n",
              "      <td>74.0</td>\n",
              "      <td>30.0</td>\n",
              "      <td>270.0</td>\n",
              "      <td>4.0</td>\n",
              "      <td>1.0</td>\n",
              "      <td>322.0</td>\n",
              "    </tr>\n",
              "    <tr>\n",
              "      <th>4</th>\n",
              "      <td>40.79851</td>\n",
              "      <td>-73.94399</td>\n",
              "      <td>2009.0</td>\n",
              "      <td>204.0</td>\n",
              "      <td>41.0</td>\n",
              "      <td>10.0</td>\n",
              "      <td>9.0</td>\n",
              "      <td>3.0</td>\n",
              "      <td>1.0</td>\n",
              "      <td>289.0</td>\n",
              "    </tr>\n",
              "  </tbody>\n",
              "</table>\n",
              "</div>\n",
              "    <div class=\"colab-df-buttons\">\n",
              "\n",
              "  <div class=\"colab-df-container\">\n",
              "    <button class=\"colab-df-convert\" onclick=\"convertToInteractive('df-2c77786d-f8f9-4ca2-9452-ea6c5fdeed8e')\"\n",
              "            title=\"Convert this dataframe to an interactive table.\"\n",
              "            style=\"display:none;\">\n",
              "\n",
              "  <svg xmlns=\"http://www.w3.org/2000/svg\" height=\"24px\" viewBox=\"0 -960 960 960\">\n",
              "    <path d=\"M120-120v-720h720v720H120Zm60-500h600v-160H180v160Zm220 220h160v-160H400v160Zm0 220h160v-160H400v160ZM180-400h160v-160H180v160Zm440 0h160v-160H620v160ZM180-180h160v-160H180v160Zm440 0h160v-160H620v160Z\"/>\n",
              "  </svg>\n",
              "    </button>\n",
              "\n",
              "  <style>\n",
              "    .colab-df-container {\n",
              "      display:flex;\n",
              "      gap: 12px;\n",
              "    }\n",
              "\n",
              "    .colab-df-convert {\n",
              "      background-color: #E8F0FE;\n",
              "      border: none;\n",
              "      border-radius: 50%;\n",
              "      cursor: pointer;\n",
              "      display: none;\n",
              "      fill: #1967D2;\n",
              "      height: 32px;\n",
              "      padding: 0 0 0 0;\n",
              "      width: 32px;\n",
              "    }\n",
              "\n",
              "    .colab-df-convert:hover {\n",
              "      background-color: #E2EBFA;\n",
              "      box-shadow: 0px 1px 2px rgba(60, 64, 67, 0.3), 0px 1px 3px 1px rgba(60, 64, 67, 0.15);\n",
              "      fill: #174EA6;\n",
              "    }\n",
              "\n",
              "    .colab-df-buttons div {\n",
              "      margin-bottom: 4px;\n",
              "    }\n",
              "\n",
              "    [theme=dark] .colab-df-convert {\n",
              "      background-color: #3B4455;\n",
              "      fill: #D2E3FC;\n",
              "    }\n",
              "\n",
              "    [theme=dark] .colab-df-convert:hover {\n",
              "      background-color: #434B5C;\n",
              "      box-shadow: 0px 1px 3px 1px rgba(0, 0, 0, 0.15);\n",
              "      filter: drop-shadow(0px 1px 2px rgba(0, 0, 0, 0.3));\n",
              "      fill: #FFFFFF;\n",
              "    }\n",
              "  </style>\n",
              "\n",
              "    <script>\n",
              "      const buttonEl =\n",
              "        document.querySelector('#df-2c77786d-f8f9-4ca2-9452-ea6c5fdeed8e button.colab-df-convert');\n",
              "      buttonEl.style.display =\n",
              "        google.colab.kernel.accessAllowed ? 'block' : 'none';\n",
              "\n",
              "      async function convertToInteractive(key) {\n",
              "        const element = document.querySelector('#df-2c77786d-f8f9-4ca2-9452-ea6c5fdeed8e');\n",
              "        const dataTable =\n",
              "          await google.colab.kernel.invokeFunction('convertToInteractive',\n",
              "                                                    [key], {});\n",
              "        if (!dataTable) return;\n",
              "\n",
              "        const docLinkHtml = 'Like what you see? Visit the ' +\n",
              "          '<a target=\"_blank\" href=https://colab.research.google.com/notebooks/data_table.ipynb>data table notebook</a>'\n",
              "          + ' to learn more about interactive tables.';\n",
              "        element.innerHTML = '';\n",
              "        dataTable['output_type'] = 'display_data';\n",
              "        await google.colab.output.renderOutput(dataTable, element);\n",
              "        const docLink = document.createElement('div');\n",
              "        docLink.innerHTML = docLinkHtml;\n",
              "        element.appendChild(docLink);\n",
              "      }\n",
              "    </script>\n",
              "  </div>\n",
              "\n",
              "\n",
              "<div id=\"df-83a91e08-0baf-4817-bcd3-0ded1a649e7b\">\n",
              "  <button class=\"colab-df-quickchart\" onclick=\"quickchart('df-83a91e08-0baf-4817-bcd3-0ded1a649e7b')\"\n",
              "            title=\"Suggest charts\"\n",
              "            style=\"display:none;\">\n",
              "\n",
              "<svg xmlns=\"http://www.w3.org/2000/svg\" height=\"24px\"viewBox=\"0 0 24 24\"\n",
              "     width=\"24px\">\n",
              "    <g>\n",
              "        <path d=\"M19 3H5c-1.1 0-2 .9-2 2v14c0 1.1.9 2 2 2h14c1.1 0 2-.9 2-2V5c0-1.1-.9-2-2-2zM9 17H7v-7h2v7zm4 0h-2V7h2v10zm4 0h-2v-4h2v4z\"/>\n",
              "    </g>\n",
              "</svg>\n",
              "  </button>\n",
              "\n",
              "<style>\n",
              "  .colab-df-quickchart {\n",
              "      --bg-color: #E8F0FE;\n",
              "      --fill-color: #1967D2;\n",
              "      --hover-bg-color: #E2EBFA;\n",
              "      --hover-fill-color: #174EA6;\n",
              "      --disabled-fill-color: #AAA;\n",
              "      --disabled-bg-color: #DDD;\n",
              "  }\n",
              "\n",
              "  [theme=dark] .colab-df-quickchart {\n",
              "      --bg-color: #3B4455;\n",
              "      --fill-color: #D2E3FC;\n",
              "      --hover-bg-color: #434B5C;\n",
              "      --hover-fill-color: #FFFFFF;\n",
              "      --disabled-bg-color: #3B4455;\n",
              "      --disabled-fill-color: #666;\n",
              "  }\n",
              "\n",
              "  .colab-df-quickchart {\n",
              "    background-color: var(--bg-color);\n",
              "    border: none;\n",
              "    border-radius: 50%;\n",
              "    cursor: pointer;\n",
              "    display: none;\n",
              "    fill: var(--fill-color);\n",
              "    height: 32px;\n",
              "    padding: 0;\n",
              "    width: 32px;\n",
              "  }\n",
              "\n",
              "  .colab-df-quickchart:hover {\n",
              "    background-color: var(--hover-bg-color);\n",
              "    box-shadow: 0 1px 2px rgba(60, 64, 67, 0.3), 0 1px 3px 1px rgba(60, 64, 67, 0.15);\n",
              "    fill: var(--button-hover-fill-color);\n",
              "  }\n",
              "\n",
              "  .colab-df-quickchart-complete:disabled,\n",
              "  .colab-df-quickchart-complete:disabled:hover {\n",
              "    background-color: var(--disabled-bg-color);\n",
              "    fill: var(--disabled-fill-color);\n",
              "    box-shadow: none;\n",
              "  }\n",
              "\n",
              "  .colab-df-spinner {\n",
              "    border: 2px solid var(--fill-color);\n",
              "    border-color: transparent;\n",
              "    border-bottom-color: var(--fill-color);\n",
              "    animation:\n",
              "      spin 1s steps(1) infinite;\n",
              "  }\n",
              "\n",
              "  @keyframes spin {\n",
              "    0% {\n",
              "      border-color: transparent;\n",
              "      border-bottom-color: var(--fill-color);\n",
              "      border-left-color: var(--fill-color);\n",
              "    }\n",
              "    20% {\n",
              "      border-color: transparent;\n",
              "      border-left-color: var(--fill-color);\n",
              "      border-top-color: var(--fill-color);\n",
              "    }\n",
              "    30% {\n",
              "      border-color: transparent;\n",
              "      border-left-color: var(--fill-color);\n",
              "      border-top-color: var(--fill-color);\n",
              "      border-right-color: var(--fill-color);\n",
              "    }\n",
              "    40% {\n",
              "      border-color: transparent;\n",
              "      border-right-color: var(--fill-color);\n",
              "      border-top-color: var(--fill-color);\n",
              "    }\n",
              "    60% {\n",
              "      border-color: transparent;\n",
              "      border-right-color: var(--fill-color);\n",
              "    }\n",
              "    80% {\n",
              "      border-color: transparent;\n",
              "      border-right-color: var(--fill-color);\n",
              "      border-bottom-color: var(--fill-color);\n",
              "    }\n",
              "    90% {\n",
              "      border-color: transparent;\n",
              "      border-bottom-color: var(--fill-color);\n",
              "    }\n",
              "  }\n",
              "</style>\n",
              "\n",
              "  <script>\n",
              "    async function quickchart(key) {\n",
              "      const quickchartButtonEl =\n",
              "        document.querySelector('#' + key + ' button');\n",
              "      quickchartButtonEl.disabled = true;  // To prevent multiple clicks.\n",
              "      quickchartButtonEl.classList.add('colab-df-spinner');\n",
              "      try {\n",
              "        const charts = await google.colab.kernel.invokeFunction(\n",
              "            'suggestCharts', [key], {});\n",
              "      } catch (error) {\n",
              "        console.error('Error during call to suggestCharts:', error);\n",
              "      }\n",
              "      quickchartButtonEl.classList.remove('colab-df-spinner');\n",
              "      quickchartButtonEl.classList.add('colab-df-quickchart-complete');\n",
              "    }\n",
              "    (() => {\n",
              "      let quickchartButtonEl =\n",
              "        document.querySelector('#df-83a91e08-0baf-4817-bcd3-0ded1a649e7b button');\n",
              "      quickchartButtonEl.style.display =\n",
              "        google.colab.kernel.accessAllowed ? 'block' : 'none';\n",
              "    })();\n",
              "  </script>\n",
              "</div>\n",
              "    </div>\n",
              "  </div>\n"
            ],
            "application/vnd.google.colaboratory.intrinsic+json": {
              "type": "dataframe",
              "variable_name": "airbnb_df"
            }
          },
          "metadata": {},
          "execution_count": 84
        }
      ]
    },
    {
      "cell_type": "markdown",
      "source": [
        "ora provo tenendo la colonna id anche se in realtà non sono numeri, in caso dopo faccio airbnb_df.drop('id', axis=1)"
      ],
      "metadata": {
        "id": "AvB-NYhit0wP"
      }
    },
    {
      "cell_type": "markdown",
      "source": [
        "I want to predict the daily price for the Airbnbs in New York City and I want use the linear regression.\n",
        "To begin, I define the target variable."
      ],
      "metadata": {
        "id": "HRLYTl_gX3IF"
      }
    },
    {
      "cell_type": "markdown",
      "source": [
        "Split dataset to X and Y variables"
      ],
      "metadata": {
        "id": "fddo2xiAuDRg"
      }
    },
    {
      "cell_type": "code",
      "source": [
        "# I want to predict the daily price of the Airbnb in New York City\n",
        "Y = airbnb_df.price\n",
        "Y"
      ],
      "metadata": {
        "colab": {
          "base_uri": "https://localhost:8080/"
        },
        "id": "taEYs2K1fgEd",
        "outputId": "8ba632f4-aabb-4d31-c0d9-17d0f3e077d8"
      },
      "execution_count": 85,
      "outputs": [
        {
          "output_type": "execute_result",
          "data": {
            "text/plain": [
              "0          966.0\n",
              "1          142.0\n",
              "2          620.0\n",
              "3          368.0\n",
              "4          204.0\n",
              "           ...  \n",
              "102594     844.0\n",
              "102595     837.0\n",
              "102596     988.0\n",
              "102597     546.0\n",
              "102598    1032.0\n",
              "Name: price, Length: 102113, dtype: float64"
            ]
          },
          "metadata": {},
          "execution_count": 85
        }
      ]
    },
    {
      "cell_type": "code",
      "source": [
        "X = airbnb_df.drop(['price'], axis = 1) #per fare la previsioen elimino la colonna che devo prevedere\n",
        "X"
      ],
      "metadata": {
        "colab": {
          "base_uri": "https://localhost:8080/",
          "height": 443
        },
        "id": "WVg-vabUuXOO",
        "outputId": "11e26965-53fe-4f5e-a205-957e994a17ac"
      },
      "execution_count": 86,
      "outputs": [
        {
          "output_type": "execute_result",
          "data": {
            "text/plain": [
              "             lat      long  construction_year  service_fee  minimum_nights  \\\n",
              "0       40.64749 -73.97237             2020.0        193.0            10.0   \n",
              "1       40.75362 -73.98377             2007.0         28.0            30.0   \n",
              "2       40.80902 -73.94190             2005.0        124.0             3.0   \n",
              "3       40.68514 -73.95976             2005.0         74.0            30.0   \n",
              "4       40.79851 -73.94399             2009.0         41.0            10.0   \n",
              "...          ...       ...                ...          ...             ...   \n",
              "102594  40.70862 -73.94651             2003.0        169.0             1.0   \n",
              "102595  40.80460 -73.96545             2016.0        167.0             1.0   \n",
              "102596  40.67505 -73.98045             2009.0        198.0             3.0   \n",
              "102597  40.74989 -73.93777             2015.0        109.0             2.0   \n",
              "102598  40.76807 -73.98342             2010.0        206.0             1.0   \n",
              "\n",
              "        number_of_reviews  review_rate_number  calculated_host_listings_count  \\\n",
              "0                     9.0                 4.0                             6.0   \n",
              "1                    45.0                 4.0                             2.0   \n",
              "2                     0.0                 5.0                             1.0   \n",
              "3                   270.0                 4.0                             1.0   \n",
              "4                     9.0                 3.0                             1.0   \n",
              "...                   ...                 ...                             ...   \n",
              "102594                0.0                 3.0                             1.0   \n",
              "102595                1.0                 2.0                             2.0   \n",
              "102596                0.0                 5.0                             1.0   \n",
              "102597                5.0                 3.0                             1.0   \n",
              "102598                0.0                 3.0                             1.0   \n",
              "\n",
              "        availability_365  \n",
              "0                  286.0  \n",
              "1                  228.0  \n",
              "2                  352.0  \n",
              "3                  322.0  \n",
              "4                  289.0  \n",
              "...                  ...  \n",
              "102594             227.0  \n",
              "102595             395.0  \n",
              "102596             342.0  \n",
              "102597             386.0  \n",
              "102598              69.0  \n",
              "\n",
              "[102113 rows x 9 columns]"
            ],
            "text/html": [
              "\n",
              "  <div id=\"df-3c36861c-5a1c-4af5-b77d-7b176bc6ae17\" class=\"colab-df-container\">\n",
              "    <div>\n",
              "<style scoped>\n",
              "    .dataframe tbody tr th:only-of-type {\n",
              "        vertical-align: middle;\n",
              "    }\n",
              "\n",
              "    .dataframe tbody tr th {\n",
              "        vertical-align: top;\n",
              "    }\n",
              "\n",
              "    .dataframe thead th {\n",
              "        text-align: right;\n",
              "    }\n",
              "</style>\n",
              "<table border=\"1\" class=\"dataframe\">\n",
              "  <thead>\n",
              "    <tr style=\"text-align: right;\">\n",
              "      <th></th>\n",
              "      <th>lat</th>\n",
              "      <th>long</th>\n",
              "      <th>construction_year</th>\n",
              "      <th>service_fee</th>\n",
              "      <th>minimum_nights</th>\n",
              "      <th>number_of_reviews</th>\n",
              "      <th>review_rate_number</th>\n",
              "      <th>calculated_host_listings_count</th>\n",
              "      <th>availability_365</th>\n",
              "    </tr>\n",
              "  </thead>\n",
              "  <tbody>\n",
              "    <tr>\n",
              "      <th>0</th>\n",
              "      <td>40.64749</td>\n",
              "      <td>-73.97237</td>\n",
              "      <td>2020.0</td>\n",
              "      <td>193.0</td>\n",
              "      <td>10.0</td>\n",
              "      <td>9.0</td>\n",
              "      <td>4.0</td>\n",
              "      <td>6.0</td>\n",
              "      <td>286.0</td>\n",
              "    </tr>\n",
              "    <tr>\n",
              "      <th>1</th>\n",
              "      <td>40.75362</td>\n",
              "      <td>-73.98377</td>\n",
              "      <td>2007.0</td>\n",
              "      <td>28.0</td>\n",
              "      <td>30.0</td>\n",
              "      <td>45.0</td>\n",
              "      <td>4.0</td>\n",
              "      <td>2.0</td>\n",
              "      <td>228.0</td>\n",
              "    </tr>\n",
              "    <tr>\n",
              "      <th>2</th>\n",
              "      <td>40.80902</td>\n",
              "      <td>-73.94190</td>\n",
              "      <td>2005.0</td>\n",
              "      <td>124.0</td>\n",
              "      <td>3.0</td>\n",
              "      <td>0.0</td>\n",
              "      <td>5.0</td>\n",
              "      <td>1.0</td>\n",
              "      <td>352.0</td>\n",
              "    </tr>\n",
              "    <tr>\n",
              "      <th>3</th>\n",
              "      <td>40.68514</td>\n",
              "      <td>-73.95976</td>\n",
              "      <td>2005.0</td>\n",
              "      <td>74.0</td>\n",
              "      <td>30.0</td>\n",
              "      <td>270.0</td>\n",
              "      <td>4.0</td>\n",
              "      <td>1.0</td>\n",
              "      <td>322.0</td>\n",
              "    </tr>\n",
              "    <tr>\n",
              "      <th>4</th>\n",
              "      <td>40.79851</td>\n",
              "      <td>-73.94399</td>\n",
              "      <td>2009.0</td>\n",
              "      <td>41.0</td>\n",
              "      <td>10.0</td>\n",
              "      <td>9.0</td>\n",
              "      <td>3.0</td>\n",
              "      <td>1.0</td>\n",
              "      <td>289.0</td>\n",
              "    </tr>\n",
              "    <tr>\n",
              "      <th>...</th>\n",
              "      <td>...</td>\n",
              "      <td>...</td>\n",
              "      <td>...</td>\n",
              "      <td>...</td>\n",
              "      <td>...</td>\n",
              "      <td>...</td>\n",
              "      <td>...</td>\n",
              "      <td>...</td>\n",
              "      <td>...</td>\n",
              "    </tr>\n",
              "    <tr>\n",
              "      <th>102594</th>\n",
              "      <td>40.70862</td>\n",
              "      <td>-73.94651</td>\n",
              "      <td>2003.0</td>\n",
              "      <td>169.0</td>\n",
              "      <td>1.0</td>\n",
              "      <td>0.0</td>\n",
              "      <td>3.0</td>\n",
              "      <td>1.0</td>\n",
              "      <td>227.0</td>\n",
              "    </tr>\n",
              "    <tr>\n",
              "      <th>102595</th>\n",
              "      <td>40.80460</td>\n",
              "      <td>-73.96545</td>\n",
              "      <td>2016.0</td>\n",
              "      <td>167.0</td>\n",
              "      <td>1.0</td>\n",
              "      <td>1.0</td>\n",
              "      <td>2.0</td>\n",
              "      <td>2.0</td>\n",
              "      <td>395.0</td>\n",
              "    </tr>\n",
              "    <tr>\n",
              "      <th>102596</th>\n",
              "      <td>40.67505</td>\n",
              "      <td>-73.98045</td>\n",
              "      <td>2009.0</td>\n",
              "      <td>198.0</td>\n",
              "      <td>3.0</td>\n",
              "      <td>0.0</td>\n",
              "      <td>5.0</td>\n",
              "      <td>1.0</td>\n",
              "      <td>342.0</td>\n",
              "    </tr>\n",
              "    <tr>\n",
              "      <th>102597</th>\n",
              "      <td>40.74989</td>\n",
              "      <td>-73.93777</td>\n",
              "      <td>2015.0</td>\n",
              "      <td>109.0</td>\n",
              "      <td>2.0</td>\n",
              "      <td>5.0</td>\n",
              "      <td>3.0</td>\n",
              "      <td>1.0</td>\n",
              "      <td>386.0</td>\n",
              "    </tr>\n",
              "    <tr>\n",
              "      <th>102598</th>\n",
              "      <td>40.76807</td>\n",
              "      <td>-73.98342</td>\n",
              "      <td>2010.0</td>\n",
              "      <td>206.0</td>\n",
              "      <td>1.0</td>\n",
              "      <td>0.0</td>\n",
              "      <td>3.0</td>\n",
              "      <td>1.0</td>\n",
              "      <td>69.0</td>\n",
              "    </tr>\n",
              "  </tbody>\n",
              "</table>\n",
              "<p>102113 rows × 9 columns</p>\n",
              "</div>\n",
              "    <div class=\"colab-df-buttons\">\n",
              "\n",
              "  <div class=\"colab-df-container\">\n",
              "    <button class=\"colab-df-convert\" onclick=\"convertToInteractive('df-3c36861c-5a1c-4af5-b77d-7b176bc6ae17')\"\n",
              "            title=\"Convert this dataframe to an interactive table.\"\n",
              "            style=\"display:none;\">\n",
              "\n",
              "  <svg xmlns=\"http://www.w3.org/2000/svg\" height=\"24px\" viewBox=\"0 -960 960 960\">\n",
              "    <path d=\"M120-120v-720h720v720H120Zm60-500h600v-160H180v160Zm220 220h160v-160H400v160Zm0 220h160v-160H400v160ZM180-400h160v-160H180v160Zm440 0h160v-160H620v160ZM180-180h160v-160H180v160Zm440 0h160v-160H620v160Z\"/>\n",
              "  </svg>\n",
              "    </button>\n",
              "\n",
              "  <style>\n",
              "    .colab-df-container {\n",
              "      display:flex;\n",
              "      gap: 12px;\n",
              "    }\n",
              "\n",
              "    .colab-df-convert {\n",
              "      background-color: #E8F0FE;\n",
              "      border: none;\n",
              "      border-radius: 50%;\n",
              "      cursor: pointer;\n",
              "      display: none;\n",
              "      fill: #1967D2;\n",
              "      height: 32px;\n",
              "      padding: 0 0 0 0;\n",
              "      width: 32px;\n",
              "    }\n",
              "\n",
              "    .colab-df-convert:hover {\n",
              "      background-color: #E2EBFA;\n",
              "      box-shadow: 0px 1px 2px rgba(60, 64, 67, 0.3), 0px 1px 3px 1px rgba(60, 64, 67, 0.15);\n",
              "      fill: #174EA6;\n",
              "    }\n",
              "\n",
              "    .colab-df-buttons div {\n",
              "      margin-bottom: 4px;\n",
              "    }\n",
              "\n",
              "    [theme=dark] .colab-df-convert {\n",
              "      background-color: #3B4455;\n",
              "      fill: #D2E3FC;\n",
              "    }\n",
              "\n",
              "    [theme=dark] .colab-df-convert:hover {\n",
              "      background-color: #434B5C;\n",
              "      box-shadow: 0px 1px 3px 1px rgba(0, 0, 0, 0.15);\n",
              "      filter: drop-shadow(0px 1px 2px rgba(0, 0, 0, 0.3));\n",
              "      fill: #FFFFFF;\n",
              "    }\n",
              "  </style>\n",
              "\n",
              "    <script>\n",
              "      const buttonEl =\n",
              "        document.querySelector('#df-3c36861c-5a1c-4af5-b77d-7b176bc6ae17 button.colab-df-convert');\n",
              "      buttonEl.style.display =\n",
              "        google.colab.kernel.accessAllowed ? 'block' : 'none';\n",
              "\n",
              "      async function convertToInteractive(key) {\n",
              "        const element = document.querySelector('#df-3c36861c-5a1c-4af5-b77d-7b176bc6ae17');\n",
              "        const dataTable =\n",
              "          await google.colab.kernel.invokeFunction('convertToInteractive',\n",
              "                                                    [key], {});\n",
              "        if (!dataTable) return;\n",
              "\n",
              "        const docLinkHtml = 'Like what you see? Visit the ' +\n",
              "          '<a target=\"_blank\" href=https://colab.research.google.com/notebooks/data_table.ipynb>data table notebook</a>'\n",
              "          + ' to learn more about interactive tables.';\n",
              "        element.innerHTML = '';\n",
              "        dataTable['output_type'] = 'display_data';\n",
              "        await google.colab.output.renderOutput(dataTable, element);\n",
              "        const docLink = document.createElement('div');\n",
              "        docLink.innerHTML = docLinkHtml;\n",
              "        element.appendChild(docLink);\n",
              "      }\n",
              "    </script>\n",
              "  </div>\n",
              "\n",
              "\n",
              "<div id=\"df-855df513-c00f-4da3-89da-f17954fa2681\">\n",
              "  <button class=\"colab-df-quickchart\" onclick=\"quickchart('df-855df513-c00f-4da3-89da-f17954fa2681')\"\n",
              "            title=\"Suggest charts\"\n",
              "            style=\"display:none;\">\n",
              "\n",
              "<svg xmlns=\"http://www.w3.org/2000/svg\" height=\"24px\"viewBox=\"0 0 24 24\"\n",
              "     width=\"24px\">\n",
              "    <g>\n",
              "        <path d=\"M19 3H5c-1.1 0-2 .9-2 2v14c0 1.1.9 2 2 2h14c1.1 0 2-.9 2-2V5c0-1.1-.9-2-2-2zM9 17H7v-7h2v7zm4 0h-2V7h2v10zm4 0h-2v-4h2v4z\"/>\n",
              "    </g>\n",
              "</svg>\n",
              "  </button>\n",
              "\n",
              "<style>\n",
              "  .colab-df-quickchart {\n",
              "      --bg-color: #E8F0FE;\n",
              "      --fill-color: #1967D2;\n",
              "      --hover-bg-color: #E2EBFA;\n",
              "      --hover-fill-color: #174EA6;\n",
              "      --disabled-fill-color: #AAA;\n",
              "      --disabled-bg-color: #DDD;\n",
              "  }\n",
              "\n",
              "  [theme=dark] .colab-df-quickchart {\n",
              "      --bg-color: #3B4455;\n",
              "      --fill-color: #D2E3FC;\n",
              "      --hover-bg-color: #434B5C;\n",
              "      --hover-fill-color: #FFFFFF;\n",
              "      --disabled-bg-color: #3B4455;\n",
              "      --disabled-fill-color: #666;\n",
              "  }\n",
              "\n",
              "  .colab-df-quickchart {\n",
              "    background-color: var(--bg-color);\n",
              "    border: none;\n",
              "    border-radius: 50%;\n",
              "    cursor: pointer;\n",
              "    display: none;\n",
              "    fill: var(--fill-color);\n",
              "    height: 32px;\n",
              "    padding: 0;\n",
              "    width: 32px;\n",
              "  }\n",
              "\n",
              "  .colab-df-quickchart:hover {\n",
              "    background-color: var(--hover-bg-color);\n",
              "    box-shadow: 0 1px 2px rgba(60, 64, 67, 0.3), 0 1px 3px 1px rgba(60, 64, 67, 0.15);\n",
              "    fill: var(--button-hover-fill-color);\n",
              "  }\n",
              "\n",
              "  .colab-df-quickchart-complete:disabled,\n",
              "  .colab-df-quickchart-complete:disabled:hover {\n",
              "    background-color: var(--disabled-bg-color);\n",
              "    fill: var(--disabled-fill-color);\n",
              "    box-shadow: none;\n",
              "  }\n",
              "\n",
              "  .colab-df-spinner {\n",
              "    border: 2px solid var(--fill-color);\n",
              "    border-color: transparent;\n",
              "    border-bottom-color: var(--fill-color);\n",
              "    animation:\n",
              "      spin 1s steps(1) infinite;\n",
              "  }\n",
              "\n",
              "  @keyframes spin {\n",
              "    0% {\n",
              "      border-color: transparent;\n",
              "      border-bottom-color: var(--fill-color);\n",
              "      border-left-color: var(--fill-color);\n",
              "    }\n",
              "    20% {\n",
              "      border-color: transparent;\n",
              "      border-left-color: var(--fill-color);\n",
              "      border-top-color: var(--fill-color);\n",
              "    }\n",
              "    30% {\n",
              "      border-color: transparent;\n",
              "      border-left-color: var(--fill-color);\n",
              "      border-top-color: var(--fill-color);\n",
              "      border-right-color: var(--fill-color);\n",
              "    }\n",
              "    40% {\n",
              "      border-color: transparent;\n",
              "      border-right-color: var(--fill-color);\n",
              "      border-top-color: var(--fill-color);\n",
              "    }\n",
              "    60% {\n",
              "      border-color: transparent;\n",
              "      border-right-color: var(--fill-color);\n",
              "    }\n",
              "    80% {\n",
              "      border-color: transparent;\n",
              "      border-right-color: var(--fill-color);\n",
              "      border-bottom-color: var(--fill-color);\n",
              "    }\n",
              "    90% {\n",
              "      border-color: transparent;\n",
              "      border-bottom-color: var(--fill-color);\n",
              "    }\n",
              "  }\n",
              "</style>\n",
              "\n",
              "  <script>\n",
              "    async function quickchart(key) {\n",
              "      const quickchartButtonEl =\n",
              "        document.querySelector('#' + key + ' button');\n",
              "      quickchartButtonEl.disabled = true;  // To prevent multiple clicks.\n",
              "      quickchartButtonEl.classList.add('colab-df-spinner');\n",
              "      try {\n",
              "        const charts = await google.colab.kernel.invokeFunction(\n",
              "            'suggestCharts', [key], {});\n",
              "      } catch (error) {\n",
              "        console.error('Error during call to suggestCharts:', error);\n",
              "      }\n",
              "      quickchartButtonEl.classList.remove('colab-df-spinner');\n",
              "      quickchartButtonEl.classList.add('colab-df-quickchart-complete');\n",
              "    }\n",
              "    (() => {\n",
              "      let quickchartButtonEl =\n",
              "        document.querySelector('#df-855df513-c00f-4da3-89da-f17954fa2681 button');\n",
              "      quickchartButtonEl.style.display =\n",
              "        google.colab.kernel.accessAllowed ? 'block' : 'none';\n",
              "    })();\n",
              "  </script>\n",
              "</div>\n",
              "    </div>\n",
              "  </div>\n"
            ],
            "application/vnd.google.colaboratory.intrinsic+json": {
              "type": "dataframe",
              "variable_name": "X"
            }
          },
          "metadata": {},
          "execution_count": 86
        }
      ]
    },
    {
      "cell_type": "markdown",
      "source": [
        "Data split"
      ],
      "metadata": {
        "id": "628tHF0VullR"
      }
    },
    {
      "cell_type": "code",
      "source": [
        "X_train, X_test, Y_train, Y_test = train_test_split(X, Y, test_size = 0.2, random_state = 101) #80% of X and Y are test and 20% are train"
      ],
      "metadata": {
        "id": "K1KKdlf4uiUL"
      },
      "execution_count": 104,
      "outputs": []
    },
    {
      "cell_type": "code",
      "source": [
        "# 80% of X and Y\n",
        "X_train.shape , Y_train.shape"
      ],
      "metadata": {
        "colab": {
          "base_uri": "https://localhost:8080/"
        },
        "id": "hyDichquvBjM",
        "outputId": "b77e7d3f-8c7e-4403-c5e7-b58e2c2c4195"
      },
      "execution_count": 105,
      "outputs": [
        {
          "output_type": "execute_result",
          "data": {
            "text/plain": [
              "((81690, 9), (81690,))"
            ]
          },
          "metadata": {},
          "execution_count": 105
        }
      ]
    },
    {
      "cell_type": "code",
      "source": [
        "# 20% of X and Y\n",
        "X_test.shape , Y_test.shape"
      ],
      "metadata": {
        "colab": {
          "base_uri": "https://localhost:8080/"
        },
        "id": "QXiJlHcCvEfi",
        "outputId": "b76e225b-7b50-4685-89ca-d6b8910fbbf1"
      },
      "execution_count": 106,
      "outputs": [
        {
          "output_type": "execute_result",
          "data": {
            "text/plain": [
              "((20423, 9), (20423,))"
            ]
          },
          "metadata": {},
          "execution_count": 106
        }
      ]
    },
    {
      "cell_type": "markdown",
      "source": [
        "Linear Regression Model"
      ],
      "metadata": {
        "id": "4qYbeU3Kvc9I"
      }
    },
    {
      "cell_type": "code",
      "source": [
        "# define the Regression model\n",
        "model = LinearRegression()"
      ],
      "metadata": {
        "id": "1cxjPG-PvH7_"
      },
      "execution_count": 107,
      "outputs": []
    },
    {
      "cell_type": "code",
      "source": [
        "# build the training model\n",
        "model.fit(X_train, Y_train)"
      ],
      "metadata": {
        "colab": {
          "base_uri": "https://localhost:8080/",
          "height": 74
        },
        "id": "qCmm5Acmvqi4",
        "outputId": "3e317b3f-04c0-4adf-d343-f107add8501b"
      },
      "execution_count": 108,
      "outputs": [
        {
          "output_type": "execute_result",
          "data": {
            "text/plain": [
              "LinearRegression()"
            ],
            "text/html": [
              "<style>#sk-container-id-3 {color: black;background-color: white;}#sk-container-id-3 pre{padding: 0;}#sk-container-id-3 div.sk-toggleable {background-color: white;}#sk-container-id-3 label.sk-toggleable__label {cursor: pointer;display: block;width: 100%;margin-bottom: 0;padding: 0.3em;box-sizing: border-box;text-align: center;}#sk-container-id-3 label.sk-toggleable__label-arrow:before {content: \"▸\";float: left;margin-right: 0.25em;color: #696969;}#sk-container-id-3 label.sk-toggleable__label-arrow:hover:before {color: black;}#sk-container-id-3 div.sk-estimator:hover label.sk-toggleable__label-arrow:before {color: black;}#sk-container-id-3 div.sk-toggleable__content {max-height: 0;max-width: 0;overflow: hidden;text-align: left;background-color: #f0f8ff;}#sk-container-id-3 div.sk-toggleable__content pre {margin: 0.2em;color: black;border-radius: 0.25em;background-color: #f0f8ff;}#sk-container-id-3 input.sk-toggleable__control:checked~div.sk-toggleable__content {max-height: 200px;max-width: 100%;overflow: auto;}#sk-container-id-3 input.sk-toggleable__control:checked~label.sk-toggleable__label-arrow:before {content: \"▾\";}#sk-container-id-3 div.sk-estimator input.sk-toggleable__control:checked~label.sk-toggleable__label {background-color: #d4ebff;}#sk-container-id-3 div.sk-label input.sk-toggleable__control:checked~label.sk-toggleable__label {background-color: #d4ebff;}#sk-container-id-3 input.sk-hidden--visually {border: 0;clip: rect(1px 1px 1px 1px);clip: rect(1px, 1px, 1px, 1px);height: 1px;margin: -1px;overflow: hidden;padding: 0;position: absolute;width: 1px;}#sk-container-id-3 div.sk-estimator {font-family: monospace;background-color: #f0f8ff;border: 1px dotted black;border-radius: 0.25em;box-sizing: border-box;margin-bottom: 0.5em;}#sk-container-id-3 div.sk-estimator:hover {background-color: #d4ebff;}#sk-container-id-3 div.sk-parallel-item::after {content: \"\";width: 100%;border-bottom: 1px solid gray;flex-grow: 1;}#sk-container-id-3 div.sk-label:hover label.sk-toggleable__label {background-color: #d4ebff;}#sk-container-id-3 div.sk-serial::before {content: \"\";position: absolute;border-left: 1px solid gray;box-sizing: border-box;top: 0;bottom: 0;left: 50%;z-index: 0;}#sk-container-id-3 div.sk-serial {display: flex;flex-direction: column;align-items: center;background-color: white;padding-right: 0.2em;padding-left: 0.2em;position: relative;}#sk-container-id-3 div.sk-item {position: relative;z-index: 1;}#sk-container-id-3 div.sk-parallel {display: flex;align-items: stretch;justify-content: center;background-color: white;position: relative;}#sk-container-id-3 div.sk-item::before, #sk-container-id-3 div.sk-parallel-item::before {content: \"\";position: absolute;border-left: 1px solid gray;box-sizing: border-box;top: 0;bottom: 0;left: 50%;z-index: -1;}#sk-container-id-3 div.sk-parallel-item {display: flex;flex-direction: column;z-index: 1;position: relative;background-color: white;}#sk-container-id-3 div.sk-parallel-item:first-child::after {align-self: flex-end;width: 50%;}#sk-container-id-3 div.sk-parallel-item:last-child::after {align-self: flex-start;width: 50%;}#sk-container-id-3 div.sk-parallel-item:only-child::after {width: 0;}#sk-container-id-3 div.sk-dashed-wrapped {border: 1px dashed gray;margin: 0 0.4em 0.5em 0.4em;box-sizing: border-box;padding-bottom: 0.4em;background-color: white;}#sk-container-id-3 div.sk-label label {font-family: monospace;font-weight: bold;display: inline-block;line-height: 1.2em;}#sk-container-id-3 div.sk-label-container {text-align: center;}#sk-container-id-3 div.sk-container {/* jupyter's `normalize.less` sets `[hidden] { display: none; }` but bootstrap.min.css set `[hidden] { display: none !important; }` so we also need the `!important` here to be able to override the default hidden behavior on the sphinx rendered scikit-learn.org. See: https://github.com/scikit-learn/scikit-learn/issues/21755 */display: inline-block !important;position: relative;}#sk-container-id-3 div.sk-text-repr-fallback {display: none;}</style><div id=\"sk-container-id-3\" class=\"sk-top-container\"><div class=\"sk-text-repr-fallback\"><pre>LinearRegression()</pre><b>In a Jupyter environment, please rerun this cell to show the HTML representation or trust the notebook. <br />On GitHub, the HTML representation is unable to render, please try loading this page with nbviewer.org.</b></div><div class=\"sk-container\" hidden><div class=\"sk-item\"><div class=\"sk-estimator sk-toggleable\"><input class=\"sk-toggleable__control sk-hidden--visually\" id=\"sk-estimator-id-3\" type=\"checkbox\" checked><label for=\"sk-estimator-id-3\" class=\"sk-toggleable__label sk-toggleable__label-arrow\">LinearRegression</label><div class=\"sk-toggleable__content\"><pre>LinearRegression()</pre></div></div></div></div></div>"
            ]
          },
          "metadata": {},
          "execution_count": 108
        }
      ]
    },
    {
      "cell_type": "code",
      "source": [
        "# apply the trained model to make prediction on test set\n",
        "Y_pred = model.predict(X_test)"
      ],
      "metadata": {
        "id": "ltVbxzKIwJnd"
      },
      "execution_count": 109,
      "outputs": []
    },
    {
      "cell_type": "markdown",
      "source": [
        "Prediction results: Model performances"
      ],
      "metadata": {
        "id": "98Rx_avlwTwV"
      }
    },
    {
      "cell_type": "code",
      "source": [
        "print('Coefficients:', model.coef_)\n",
        "print('Intercept:', model.intercept_)\n",
        "print('Mean squared error (MSE): %.2f'% mean_squared_error(Y_test, Y_pred))\n",
        "print('Coefficient of determiantion (R^2) :%.2f' % r2_score(Y_test, Y_pred))"
      ],
      "metadata": {
        "colab": {
          "base_uri": "https://localhost:8080/"
        },
        "id": "PBF_uyorwSUq",
        "outputId": "e1f940c1-27d1-4827-8ed7-35a40ce650c7"
      },
      "execution_count": 110,
      "outputs": [
        {
          "output_type": "stream",
          "name": "stdout",
          "text": [
            "Coefficients: [-1.85864360e-01  1.19193933e-02 -1.78832688e-03  4.99972923e+00\n",
            " -7.67014393e-05  1.95836897e-04 -3.71652642e-04  1.24224694e-04\n",
            " -2.72064284e-05]\n",
            "Intercept: 12.078969530151312\n",
            "Mean squared error (MSE): 2.01\n",
            "Coefficient of determiantion (R^2) :1.00\n"
          ]
        }
      ]
    },
    {
      "cell_type": "markdown",
      "source": [
        "so the equation of the model is:<br>\n",
        "price = -8.385 * (id) + 1.907 * (host_id) - 1.57856 * (lat) + 1.129 *(long) - 9.321 * (construction_year) + 4.999 * (service_fee) - 1.4187 * (minimum_nights) + 1.3003 * (number_of_reviews) + 1.8624 * (review_rate_number) - 2.022 * (calculated_host_listings_count) - 2.5296 * (availability_365)"
      ],
      "metadata": {
        "id": "CSsvcaKzw-Em"
      }
    },
    {
      "cell_type": "markdown",
      "source": [
        "Scatter plot"
      ],
      "metadata": {
        "id": "2ixDlLugx5mt"
      }
    },
    {
      "cell_type": "code",
      "source": [
        "Y_test"
      ],
      "metadata": {
        "colab": {
          "base_uri": "https://localhost:8080/"
        },
        "id": "CMmcrP3Lw73m",
        "outputId": "f359104d-2010-42c9-851c-b382ea68752d"
      },
      "execution_count": 111,
      "outputs": [
        {
          "output_type": "execute_result",
          "data": {
            "text/plain": [
              "3643       181.0\n",
              "52111      756.0\n",
              "8990       979.0\n",
              "99393      904.0\n",
              "36571     1005.0\n",
              "           ...  \n",
              "80022      229.0\n",
              "85395      485.0\n",
              "71158      143.0\n",
              "32136      928.0\n",
              "101971     929.0\n",
              "Name: price, Length: 20423, dtype: float64"
            ]
          },
          "metadata": {},
          "execution_count": 111
        }
      ]
    },
    {
      "cell_type": "code",
      "source": [
        "Y_pred"
      ],
      "metadata": {
        "colab": {
          "base_uri": "https://localhost:8080/"
        },
        "id": "V_4gD2h9x-Fp",
        "outputId": "15e1dbd9-c934-425f-a192-100642ddc731"
      },
      "execution_count": 112,
      "outputs": [
        {
          "output_type": "execute_result",
          "data": {
            "text/plain": [
              "array([179.99601731, 754.97570898, 979.96198172, ..., 145.02530025,\n",
              "       929.94279467, 929.96435301])"
            ]
          },
          "metadata": {},
          "execution_count": 112
        }
      ]
    },
    {
      "cell_type": "code",
      "source": [
        "sns.scatterplot(x=Y_test, y=Y_pred)"
      ],
      "metadata": {
        "colab": {
          "base_uri": "https://localhost:8080/",
          "height": 466
        },
        "id": "O9wcB-_My8Dl",
        "outputId": "f99bb8a0-e86d-46f5-979c-8f9fdd13b7d3"
      },
      "execution_count": 113,
      "outputs": [
        {
          "output_type": "execute_result",
          "data": {
            "text/plain": [
              "<Axes: xlabel='price'>"
            ]
          },
          "metadata": {},
          "execution_count": 113
        },
        {
          "output_type": "display_data",
          "data": {
            "text/plain": [
              "<Figure size 640x480 with 1 Axes>"
            ],
            "image/png": "[encoded data removed]"
          },
          "metadata": {}
        }
      ]
    },
    {
      "cell_type": "markdown",
      "source": [
        "siccome price è correlata solamente con service_fee il modello di regressione lineare produce questo risultato in cui i plot nello scatterplot seguono una linea reatta diagonale ascendente"
      ],
      "metadata": {
        "id": "E5syKIDB8IDh"
      }
    },
    {
      "cell_type": "code",
      "source": [
        "intercept = model.intercept_\n",
        "coefficients = model.coef_\n",
        "print(\"Equazione della linea di regressione:\")\n",
        "print(\"Y = {:.2f} + {:.2f} * X\".format(intercept, coefficients[0]))\n"
      ],
      "metadata": {
        "colab": {
          "base_uri": "https://localhost:8080/"
        },
        "id": "t3Xat_cz8j5P",
        "outputId": "eceeae28-1636-4148-8605-fa15a3374fce"
      },
      "execution_count": 114,
      "outputs": [
        {
          "output_type": "stream",
          "name": "stdout",
          "text": [
            "Equazione della linea di regressione:\n",
            "Y = 12.08 + -0.19 * X\n"
          ]
        }
      ]
    },
    {
      "cell_type": "code",
      "source": [
        "# Plot della distribuzione dei residui\n",
        "# Calcola i residui\n",
        "residui = Y_test - Y_pred\n",
        "sns.histplot(residui, kde=True)\n"
      ],
      "metadata": {
        "colab": {
          "base_uri": "https://localhost:8080/",
          "height": 466
        },
        "id": "5IR_bY6b0jcn",
        "outputId": "e02243dc-ed37-43ff-909b-e216f11fef28"
      },
      "execution_count": 115,
      "outputs": [
        {
          "output_type": "execute_result",
          "data": {
            "text/plain": [
              "<Axes: xlabel='price', ylabel='Count'>"
            ]
          },
          "metadata": {},
          "execution_count": 115
        },
        {
          "output_type": "display_data",
          "data": {
            "text/plain": [
              "<Figure size 640x480 with 1 Axes>"
            ],
            "image/png": "[encoded data removed]"
          },
          "metadata": {}
        }
      ]
    },
    {
      "cell_type": "markdown",
      "source": [
        "ORa fai classification come ha fatto il profe e poi calcola accuracy--> classification si fa su varibaili categoriche e quidni cerca di capire su quale variabile farla"
      ],
      "metadata": {
        "id": "P08HypI3HNjy"
      }
    },
    {
      "cell_type": "markdown",
      "source": [
        "probabilmente andava fatta prima di regression perche ho eliminato dal dataframe tutte le colonne rigaurdanti object e bool quindi dovrei farla prima"
      ],
      "metadata": {
        "id": "hGEv4moFHW6P"
      }
    },
    {
      "cell_type": "code",
      "source": [],
      "metadata": {
        "id": "BzqtNS0qG2eg"
      },
      "execution_count": null,
      "outputs": []
    }
  ]
}