{
 "cells": [
  {
   "cell_type": "markdown",
   "metadata": {},
   "source": [
    "# **PROGRAMMING FOR DATA SCIENCE: Final Project**"
   ]
  },
  {
   "cell_type": "markdown",
   "metadata": {},
   "source": [
    "**Student:** Anna Bicelli <br> \n",
    "**ID:** VR509594"
   ]
  },
  {
   "cell_type": "markdown",
   "metadata": {},
   "source": [
    "# **Part 1:** dataset import"
   ]
  },
  {
   "cell_type": "markdown",
   "metadata": {},
   "source": [
    "brief explanation of the dataset, where I found it and waht i analyzes and what it contains\n",
    "link: https://www.kaggle.com/datasets/arianazmoudeh/airbnbopendata\n",
    "\n",
    "\n",
    "It reports the listing activity of homestays in New York City"
   ]
  },
  {
   "cell_type": "markdown",
   "metadata": {},
   "source": [
    "**packages:**"
   ]
  },
  {
   "cell_type": "code",
   "execution_count": 2,
   "metadata": {},
   "outputs": [],
   "source": [
    "import pandas as pd\n",
    "import numpy as numpy\n",
    "import matplotlib.pyplot as plt "
   ]
  },
  {
   "cell_type": "code",
   "execution_count": 8,
   "metadata": {},
   "outputs": [
    {
     "name": "stderr",
     "output_type": "stream",
     "text": [
      "C:\\Users\\bicel\\AppData\\Local\\Temp\\ipykernel_8420\\4082681128.py:2: DtypeWarning: Columns (25) have mixed types. Specify dtype option on import or set low_memory=False.\n",
      "  airbnb_df = pd.read_csv('Airbnb_Open_Data.csv')\n"
     ]
    }
   ],
   "source": [
    "# Load CSV file into DataFrame\n",
    "airbnb_df = pd.read_csv('Airbnb_Open_Data.csv')\n"
   ]
  },
  {
   "cell_type": "code",
   "execution_count": 10,
   "metadata": {},
   "outputs": [
    {
     "data": {
      "text/plain": [
       "id                                     0\n",
       "NAME                                 250\n",
       "host id                                0\n",
       "host_identity_verified               289\n",
       "host name                            406\n",
       "neighbourhood group                   29\n",
       "neighbourhood                         16\n",
       "lat                                    8\n",
       "long                                   8\n",
       "country                              532\n",
       "country code                         131\n",
       "instant_bookable                     105\n",
       "cancellation_policy                   76\n",
       "room type                              0\n",
       "Construction year                    214\n",
       "price                                247\n",
       "service fee                          273\n",
       "minimum nights                       409\n",
       "number of reviews                    183\n",
       "last review                        15893\n",
       "reviews per month                  15879\n",
       "review rate number                   326\n",
       "calculated host listings count       319\n",
       "availability 365                     448\n",
       "house_rules                        52131\n",
       "license                           102597\n",
       "dtype: int64"
      ]
     },
     "execution_count": 10,
     "metadata": {},
     "output_type": "execute_result"
    }
   ],
   "source": [
    "airbnb_df.isnull().sum()"
   ]
  },
  {
   "cell_type": "code",
   "execution_count": 13,
   "metadata": {},
   "outputs": [
    {
     "name": "stdout",
     "output_type": "stream",
     "text": [
      "id                                                          6049358\n",
      "NAME                              Huge Loft - Heart of Williamsburg\n",
      "host id                                                 83359846384\n",
      "host_identity_verified                                  unconfirmed\n",
      "host name                                                   Gabriel\n",
      "neighbourhood group                                        Brooklyn\n",
      "neighbourhood                                          Williamsburg\n",
      "lat                                                         40.7166\n",
      "long                                                      -73.96379\n",
      "country                                               United States\n",
      "country code                                                     US\n",
      "instant_bookable                                              False\n",
      "cancellation_policy                                        moderate\n",
      "room type                                           Entire home/apt\n",
      "Construction year                                            2021.0\n",
      "price                                                         $518 \n",
      "service fee                                                   $104 \n",
      "minimum nights                                                  2.0\n",
      "number of reviews                                               0.0\n",
      "last review                                                     NaN\n",
      "reviews per month                                               NaN\n",
      "review rate number                                              3.0\n",
      "calculated host listings count                                  1.0\n",
      "availability 365                                              412.0\n",
      "house_rules                                                  #NAME?\n",
      "license                                                         NaN\n",
      "Name: 9140, dtype: object\n"
     ]
    }
   ],
   "source": [
    "row_with_problem = airbnb_df.iloc[9140, :]  # Select one row that I know that has a problem\n",
    "print(row_with_problem)"
   ]
  },
  {
   "cell_type": "markdown",
   "metadata": {},
   "source": [
    "Since this dataset in column 25, that is the column house_rules, has the value #NAME? that is a different type from all other values in this column, I can choose one of this three options:\n",
    "* set low_memory=False when importing the csv file<br>    airbnb_df = pd.read_csv('Airbnb_Open_Data.csv', low_memory=False)<br>    --> however if I ever need to use this column during EDA I may have problems\n",
    "* replace the values #NAME? with null values NaN --><br>    airbnb_df=pd.read_csv('Airbnb_Open_Data.csv', na_values='#NAME?') <br>  or in this way <br>     airbnb_df=airbnb_df.replace('#NAME?', np.nan)<br>   --> I'll get more null values in the house_rules column\n",
    "* since all the other values in this column are strings, I can turn all the values (strings,NaN and #NAME?) into strings <br>    airbnb_df.house_rules=airbnb.house_rules.astype(str)<br>     --> I'll not have more null values in the column\n"
   ]
  },
  {
   "cell_type": "markdown",
   "metadata": {},
   "source": []
  }
 ],
 "metadata": {
  "kernelspec": {
   "display_name": "Python 3",
   "language": "python",
   "name": "python3"
  },
  "language_info": {
   "codemirror_mode": {
    "name": "ipython",
    "version": 3
   },
   "file_extension": ".py",
   "mimetype": "text/x-python",
   "name": "python",
   "nbconvert_exporter": "python",
   "pygments_lexer": "ipython3",
   "version": "3.9.0"
  }
 },
 "nbformat": 4,
 "nbformat_minor": 2
}
