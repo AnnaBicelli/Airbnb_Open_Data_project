{
 "cells": [
  {
   "cell_type": "markdown",
   "metadata": {},
   "source": [
    "# **PROGRAMMING FOR DATA SCIENCE: Final Project**"
   ]
  },
  {
   "cell_type": "markdown",
   "metadata": {},
   "source": [
    "**Student:** Anna Bicelli <br> \n",
    "**ID:** VR509594"
   ]
  },
  {
   "cell_type": "markdown",
   "metadata": {},
   "source": [
    "# **Part 1:** dataset import"
   ]
  },
  {
   "cell_type": "markdown",
   "metadata": {},
   "source": [
    "brief explanation of the dataset, where I found it and waht i analyzes and what it contains\n",
    "link: https://www.kaggle.com/datasets/arianazmoudeh/airbnbopendata\n",
    "\n",
    "\n",
    "It reports the listing activity of homestays in New York City"
   ]
  },
  {
   "cell_type": "markdown",
   "metadata": {},
   "source": [
    "**packages:**"
   ]
  },
  {
   "cell_type": "code",
   "execution_count": 117,
   "metadata": {},
   "outputs": [],
   "source": [
    "import pandas as pd\n",
    "import numpy as np \n",
    "import matplotlib.pyplot as plt \n",
    "import seaborn as sns"
   ]
  },
  {
   "cell_type": "code",
   "execution_count": 118,
   "metadata": {},
   "outputs": [
    {
     "name": "stderr",
     "output_type": "stream",
     "text": [
      "C:\\Users\\bicel\\AppData\\Local\\Temp\\ipykernel_8684\\4082681128.py:2: DtypeWarning: Columns (25) have mixed types. Specify dtype option on import or set low_memory=False.\n",
      "  airbnb_df = pd.read_csv('Airbnb_Open_Data.csv')\n"
     ]
    }
   ],
   "source": [
    "# Load CSV file into DataFrame\n",
    "airbnb_df = pd.read_csv('Airbnb_Open_Data.csv')\n"
   ]
  },
  {
   "cell_type": "markdown",
   "metadata": {},
   "source": [
    "Since this dataset in column 25 has some mixted types values, I've to check them"
   ]
  },
  {
   "cell_type": "code",
   "execution_count": 119,
   "metadata": {},
   "outputs": [
    {
     "data": {
      "text/html": [
       "<div>\n",
       "<style scoped>\n",
       "    .dataframe tbody tr th:only-of-type {\n",
       "        vertical-align: middle;\n",
       "    }\n",
       "\n",
       "    .dataframe tbody tr th {\n",
       "        vertical-align: top;\n",
       "    }\n",
       "\n",
       "    .dataframe thead th {\n",
       "        text-align: right;\n",
       "    }\n",
       "</style>\n",
       "<table border=\"1\" class=\"dataframe\">\n",
       "  <thead>\n",
       "    <tr style=\"text-align: right;\">\n",
       "      <th></th>\n",
       "      <th>id</th>\n",
       "      <th>NAME</th>\n",
       "      <th>host id</th>\n",
       "      <th>host_identity_verified</th>\n",
       "      <th>host name</th>\n",
       "      <th>neighbourhood group</th>\n",
       "      <th>neighbourhood</th>\n",
       "      <th>lat</th>\n",
       "      <th>long</th>\n",
       "      <th>country</th>\n",
       "      <th>...</th>\n",
       "      <th>service fee</th>\n",
       "      <th>minimum nights</th>\n",
       "      <th>number of reviews</th>\n",
       "      <th>last review</th>\n",
       "      <th>reviews per month</th>\n",
       "      <th>review rate number</th>\n",
       "      <th>calculated host listings count</th>\n",
       "      <th>availability 365</th>\n",
       "      <th>house_rules</th>\n",
       "      <th>license</th>\n",
       "    </tr>\n",
       "  </thead>\n",
       "  <tbody>\n",
       "    <tr>\n",
       "      <th>0</th>\n",
       "      <td>1001254</td>\n",
       "      <td>Clean &amp; quiet apt home by the park</td>\n",
       "      <td>80014485718</td>\n",
       "      <td>unconfirmed</td>\n",
       "      <td>Madaline</td>\n",
       "      <td>Brooklyn</td>\n",
       "      <td>Kensington</td>\n",
       "      <td>40.64749</td>\n",
       "      <td>-73.97237</td>\n",
       "      <td>United States</td>\n",
       "      <td>...</td>\n",
       "      <td>$193</td>\n",
       "      <td>10.0</td>\n",
       "      <td>9.0</td>\n",
       "      <td>10/19/2021</td>\n",
       "      <td>0.21</td>\n",
       "      <td>4.0</td>\n",
       "      <td>6.0</td>\n",
       "      <td>286.0</td>\n",
       "      <td>Clean up and treat the home the way you'd like...</td>\n",
       "      <td>NaN</td>\n",
       "    </tr>\n",
       "    <tr>\n",
       "      <th>1</th>\n",
       "      <td>1002102</td>\n",
       "      <td>Skylit Midtown Castle</td>\n",
       "      <td>52335172823</td>\n",
       "      <td>verified</td>\n",
       "      <td>Jenna</td>\n",
       "      <td>Manhattan</td>\n",
       "      <td>Midtown</td>\n",
       "      <td>40.75362</td>\n",
       "      <td>-73.98377</td>\n",
       "      <td>United States</td>\n",
       "      <td>...</td>\n",
       "      <td>$28</td>\n",
       "      <td>30.0</td>\n",
       "      <td>45.0</td>\n",
       "      <td>5/21/2022</td>\n",
       "      <td>0.38</td>\n",
       "      <td>4.0</td>\n",
       "      <td>2.0</td>\n",
       "      <td>228.0</td>\n",
       "      <td>Pet friendly but please confirm with me if the...</td>\n",
       "      <td>NaN</td>\n",
       "    </tr>\n",
       "    <tr>\n",
       "      <th>2</th>\n",
       "      <td>1002403</td>\n",
       "      <td>THE VILLAGE OF HARLEM....NEW YORK !</td>\n",
       "      <td>78829239556</td>\n",
       "      <td>NaN</td>\n",
       "      <td>Elise</td>\n",
       "      <td>Manhattan</td>\n",
       "      <td>Harlem</td>\n",
       "      <td>40.80902</td>\n",
       "      <td>-73.94190</td>\n",
       "      <td>United States</td>\n",
       "      <td>...</td>\n",
       "      <td>$124</td>\n",
       "      <td>3.0</td>\n",
       "      <td>0.0</td>\n",
       "      <td>NaN</td>\n",
       "      <td>NaN</td>\n",
       "      <td>5.0</td>\n",
       "      <td>1.0</td>\n",
       "      <td>352.0</td>\n",
       "      <td>I encourage you to use my kitchen, cooking and...</td>\n",
       "      <td>NaN</td>\n",
       "    </tr>\n",
       "    <tr>\n",
       "      <th>3</th>\n",
       "      <td>1002755</td>\n",
       "      <td>NaN</td>\n",
       "      <td>85098326012</td>\n",
       "      <td>unconfirmed</td>\n",
       "      <td>Garry</td>\n",
       "      <td>Brooklyn</td>\n",
       "      <td>Clinton Hill</td>\n",
       "      <td>40.68514</td>\n",
       "      <td>-73.95976</td>\n",
       "      <td>United States</td>\n",
       "      <td>...</td>\n",
       "      <td>$74</td>\n",
       "      <td>30.0</td>\n",
       "      <td>270.0</td>\n",
       "      <td>7/5/2019</td>\n",
       "      <td>4.64</td>\n",
       "      <td>4.0</td>\n",
       "      <td>1.0</td>\n",
       "      <td>322.0</td>\n",
       "      <td>NaN</td>\n",
       "      <td>NaN</td>\n",
       "    </tr>\n",
       "    <tr>\n",
       "      <th>4</th>\n",
       "      <td>1003689</td>\n",
       "      <td>Entire Apt: Spacious Studio/Loft by central park</td>\n",
       "      <td>92037596077</td>\n",
       "      <td>verified</td>\n",
       "      <td>Lyndon</td>\n",
       "      <td>Manhattan</td>\n",
       "      <td>East Harlem</td>\n",
       "      <td>40.79851</td>\n",
       "      <td>-73.94399</td>\n",
       "      <td>United States</td>\n",
       "      <td>...</td>\n",
       "      <td>$41</td>\n",
       "      <td>10.0</td>\n",
       "      <td>9.0</td>\n",
       "      <td>11/19/2018</td>\n",
       "      <td>0.10</td>\n",
       "      <td>3.0</td>\n",
       "      <td>1.0</td>\n",
       "      <td>289.0</td>\n",
       "      <td>Please no smoking in the house, porch or on th...</td>\n",
       "      <td>NaN</td>\n",
       "    </tr>\n",
       "  </tbody>\n",
       "</table>\n",
       "<p>5 rows × 26 columns</p>\n",
       "</div>"
      ],
      "text/plain": [
       "        id                                              NAME      host id  \\\n",
       "0  1001254                Clean & quiet apt home by the park  80014485718   \n",
       "1  1002102                             Skylit Midtown Castle  52335172823   \n",
       "2  1002403               THE VILLAGE OF HARLEM....NEW YORK !  78829239556   \n",
       "3  1002755                                               NaN  85098326012   \n",
       "4  1003689  Entire Apt: Spacious Studio/Loft by central park  92037596077   \n",
       "\n",
       "  host_identity_verified host name neighbourhood group neighbourhood  \\\n",
       "0            unconfirmed  Madaline            Brooklyn    Kensington   \n",
       "1               verified     Jenna           Manhattan       Midtown   \n",
       "2                    NaN     Elise           Manhattan        Harlem   \n",
       "3            unconfirmed     Garry            Brooklyn  Clinton Hill   \n",
       "4               verified    Lyndon           Manhattan   East Harlem   \n",
       "\n",
       "        lat      long        country  ... service fee minimum nights  \\\n",
       "0  40.64749 -73.97237  United States  ...       $193            10.0   \n",
       "1  40.75362 -73.98377  United States  ...        $28            30.0   \n",
       "2  40.80902 -73.94190  United States  ...       $124             3.0   \n",
       "3  40.68514 -73.95976  United States  ...        $74            30.0   \n",
       "4  40.79851 -73.94399  United States  ...        $41            10.0   \n",
       "\n",
       "  number of reviews last review  reviews per month review rate number  \\\n",
       "0               9.0  10/19/2021               0.21                4.0   \n",
       "1              45.0   5/21/2022               0.38                4.0   \n",
       "2               0.0         NaN                NaN                5.0   \n",
       "3             270.0    7/5/2019               4.64                4.0   \n",
       "4               9.0  11/19/2018               0.10                3.0   \n",
       "\n",
       "  calculated host listings count  availability 365  \\\n",
       "0                            6.0             286.0   \n",
       "1                            2.0             228.0   \n",
       "2                            1.0             352.0   \n",
       "3                            1.0             322.0   \n",
       "4                            1.0             289.0   \n",
       "\n",
       "                                         house_rules license  \n",
       "0  Clean up and treat the home the way you'd like...     NaN  \n",
       "1  Pet friendly but please confirm with me if the...     NaN  \n",
       "2  I encourage you to use my kitchen, cooking and...     NaN  \n",
       "3                                                NaN     NaN  \n",
       "4  Please no smoking in the house, porch or on th...     NaN  \n",
       "\n",
       "[5 rows x 26 columns]"
      ]
     },
     "execution_count": 119,
     "metadata": {},
     "output_type": "execute_result"
    }
   ],
   "source": [
    "airbnb_df.head()"
   ]
  },
  {
   "cell_type": "code",
   "execution_count": 120,
   "metadata": {},
   "outputs": [
    {
     "data": {
      "text/html": [
       "<div>\n",
       "<style scoped>\n",
       "    .dataframe tbody tr th:only-of-type {\n",
       "        vertical-align: middle;\n",
       "    }\n",
       "\n",
       "    .dataframe tbody tr th {\n",
       "        vertical-align: top;\n",
       "    }\n",
       "\n",
       "    .dataframe thead th {\n",
       "        text-align: right;\n",
       "    }\n",
       "</style>\n",
       "<table border=\"1\" class=\"dataframe\">\n",
       "  <thead>\n",
       "    <tr style=\"text-align: right;\">\n",
       "      <th></th>\n",
       "      <th>0</th>\n",
       "      <th>1</th>\n",
       "      <th>2</th>\n",
       "      <th>3</th>\n",
       "      <th>4</th>\n",
       "      <th>5</th>\n",
       "      <th>6</th>\n",
       "      <th>7</th>\n",
       "      <th>8</th>\n",
       "      <th>9</th>\n",
       "      <th>10</th>\n",
       "      <th>11</th>\n",
       "      <th>12</th>\n",
       "      <th>13</th>\n",
       "      <th>14</th>\n",
       "    </tr>\n",
       "  </thead>\n",
       "  <tbody>\n",
       "    <tr>\n",
       "      <th>id</th>\n",
       "      <td>1001254</td>\n",
       "      <td>1002102</td>\n",
       "      <td>1002403</td>\n",
       "      <td>1002755</td>\n",
       "      <td>1003689</td>\n",
       "      <td>1004098</td>\n",
       "      <td>1004650</td>\n",
       "      <td>1005202</td>\n",
       "      <td>1005754</td>\n",
       "      <td>1006307</td>\n",
       "      <td>1006859</td>\n",
       "      <td>1007411</td>\n",
       "      <td>1007964</td>\n",
       "      <td>1008516</td>\n",
       "      <td>1009068</td>\n",
       "    </tr>\n",
       "    <tr>\n",
       "      <th>NAME</th>\n",
       "      <td>Clean &amp; quiet apt home by the park</td>\n",
       "      <td>Skylit Midtown Castle</td>\n",
       "      <td>THE VILLAGE OF HARLEM....NEW YORK !</td>\n",
       "      <td>NaN</td>\n",
       "      <td>Entire Apt: Spacious Studio/Loft by central park</td>\n",
       "      <td>Large Cozy 1 BR Apartment In Midtown East</td>\n",
       "      <td>BlissArtsSpace!</td>\n",
       "      <td>BlissArtsSpace!</td>\n",
       "      <td>Large Furnished Room Near B'way</td>\n",
       "      <td>Cozy Clean Guest Room - Family Apt</td>\n",
       "      <td>Cute &amp; Cozy Lower East Side 1 bdrm</td>\n",
       "      <td>Beautiful 1br on Upper West Side</td>\n",
       "      <td>Central Manhattan/near Broadway</td>\n",
       "      <td>Lovely Room 1, Garden, Best Area, Legal rental</td>\n",
       "      <td>Wonderful Guest Bedroom in Manhattan for SINGLES</td>\n",
       "    </tr>\n",
       "    <tr>\n",
       "      <th>host id</th>\n",
       "      <td>80014485718</td>\n",
       "      <td>52335172823</td>\n",
       "      <td>78829239556</td>\n",
       "      <td>85098326012</td>\n",
       "      <td>92037596077</td>\n",
       "      <td>45498551794</td>\n",
       "      <td>61300605564</td>\n",
       "      <td>90821839709</td>\n",
       "      <td>79384379533</td>\n",
       "      <td>75527839483</td>\n",
       "      <td>1280143094</td>\n",
       "      <td>18824631834</td>\n",
       "      <td>88136055909</td>\n",
       "      <td>26802410424</td>\n",
       "      <td>88920244552</td>\n",
       "    </tr>\n",
       "    <tr>\n",
       "      <th>host_identity_verified</th>\n",
       "      <td>unconfirmed</td>\n",
       "      <td>verified</td>\n",
       "      <td>NaN</td>\n",
       "      <td>unconfirmed</td>\n",
       "      <td>verified</td>\n",
       "      <td>verified</td>\n",
       "      <td>NaN</td>\n",
       "      <td>unconfirmed</td>\n",
       "      <td>verified</td>\n",
       "      <td>unconfirmed</td>\n",
       "      <td>verified</td>\n",
       "      <td>verified</td>\n",
       "      <td>verified</td>\n",
       "      <td>verified</td>\n",
       "      <td>verified</td>\n",
       "    </tr>\n",
       "    <tr>\n",
       "      <th>host name</th>\n",
       "      <td>Madaline</td>\n",
       "      <td>Jenna</td>\n",
       "      <td>Elise</td>\n",
       "      <td>Garry</td>\n",
       "      <td>Lyndon</td>\n",
       "      <td>Michelle</td>\n",
       "      <td>Alberta</td>\n",
       "      <td>Emma</td>\n",
       "      <td>Evelyn</td>\n",
       "      <td>Carl</td>\n",
       "      <td>Miranda</td>\n",
       "      <td>Alan</td>\n",
       "      <td>NaN</td>\n",
       "      <td>Darcy</td>\n",
       "      <td>Leonardo</td>\n",
       "    </tr>\n",
       "    <tr>\n",
       "      <th>neighbourhood group</th>\n",
       "      <td>Brooklyn</td>\n",
       "      <td>Manhattan</td>\n",
       "      <td>Manhattan</td>\n",
       "      <td>Brooklyn</td>\n",
       "      <td>Manhattan</td>\n",
       "      <td>Manhattan</td>\n",
       "      <td>Brooklyn</td>\n",
       "      <td>Brooklyn</td>\n",
       "      <td>Manhattan</td>\n",
       "      <td>Manhattan</td>\n",
       "      <td>Manhattan</td>\n",
       "      <td>Manhattan</td>\n",
       "      <td>Manhattan</td>\n",
       "      <td>brookln</td>\n",
       "      <td>Manhattan</td>\n",
       "    </tr>\n",
       "    <tr>\n",
       "      <th>neighbourhood</th>\n",
       "      <td>Kensington</td>\n",
       "      <td>Midtown</td>\n",
       "      <td>Harlem</td>\n",
       "      <td>Clinton Hill</td>\n",
       "      <td>East Harlem</td>\n",
       "      <td>Murray Hill</td>\n",
       "      <td>Bedford-Stuyvesant</td>\n",
       "      <td>Bedford-Stuyvesant</td>\n",
       "      <td>Hell's Kitchen</td>\n",
       "      <td>Upper West Side</td>\n",
       "      <td>Chinatown</td>\n",
       "      <td>Upper West Side</td>\n",
       "      <td>Hell's Kitchen</td>\n",
       "      <td>South Slope</td>\n",
       "      <td>Upper West Side</td>\n",
       "    </tr>\n",
       "    <tr>\n",
       "      <th>lat</th>\n",
       "      <td>40.64749</td>\n",
       "      <td>40.75362</td>\n",
       "      <td>40.80902</td>\n",
       "      <td>40.68514</td>\n",
       "      <td>40.79851</td>\n",
       "      <td>40.74767</td>\n",
       "      <td>40.68688</td>\n",
       "      <td>40.68688</td>\n",
       "      <td>40.76489</td>\n",
       "      <td>40.80178</td>\n",
       "      <td>40.71344</td>\n",
       "      <td>40.80316</td>\n",
       "      <td>40.76076</td>\n",
       "      <td>40.66829</td>\n",
       "      <td>40.79826</td>\n",
       "    </tr>\n",
       "    <tr>\n",
       "      <th>long</th>\n",
       "      <td>-73.97237</td>\n",
       "      <td>-73.98377</td>\n",
       "      <td>-73.9419</td>\n",
       "      <td>-73.95976</td>\n",
       "      <td>-73.94399</td>\n",
       "      <td>-73.975</td>\n",
       "      <td>-73.95596</td>\n",
       "      <td>-73.95596</td>\n",
       "      <td>-73.98493</td>\n",
       "      <td>-73.96723</td>\n",
       "      <td>-73.99037</td>\n",
       "      <td>-73.96545</td>\n",
       "      <td>-73.98867</td>\n",
       "      <td>-73.98779</td>\n",
       "      <td>-73.96113</td>\n",
       "    </tr>\n",
       "    <tr>\n",
       "      <th>country</th>\n",
       "      <td>United States</td>\n",
       "      <td>United States</td>\n",
       "      <td>United States</td>\n",
       "      <td>United States</td>\n",
       "      <td>United States</td>\n",
       "      <td>United States</td>\n",
       "      <td>United States</td>\n",
       "      <td>United States</td>\n",
       "      <td>United States</td>\n",
       "      <td>United States</td>\n",
       "      <td>United States</td>\n",
       "      <td>United States</td>\n",
       "      <td>United States</td>\n",
       "      <td>United States</td>\n",
       "      <td>United States</td>\n",
       "    </tr>\n",
       "    <tr>\n",
       "      <th>country code</th>\n",
       "      <td>US</td>\n",
       "      <td>US</td>\n",
       "      <td>US</td>\n",
       "      <td>US</td>\n",
       "      <td>US</td>\n",
       "      <td>US</td>\n",
       "      <td>US</td>\n",
       "      <td>US</td>\n",
       "      <td>US</td>\n",
       "      <td>US</td>\n",
       "      <td>US</td>\n",
       "      <td>US</td>\n",
       "      <td>US</td>\n",
       "      <td>US</td>\n",
       "      <td>US</td>\n",
       "    </tr>\n",
       "    <tr>\n",
       "      <th>instant_bookable</th>\n",
       "      <td>False</td>\n",
       "      <td>False</td>\n",
       "      <td>True</td>\n",
       "      <td>True</td>\n",
       "      <td>False</td>\n",
       "      <td>True</td>\n",
       "      <td>False</td>\n",
       "      <td>False</td>\n",
       "      <td>True</td>\n",
       "      <td>False</td>\n",
       "      <td>False</td>\n",
       "      <td>True</td>\n",
       "      <td>False</td>\n",
       "      <td>True</td>\n",
       "      <td>False</td>\n",
       "    </tr>\n",
       "    <tr>\n",
       "      <th>cancellation_policy</th>\n",
       "      <td>strict</td>\n",
       "      <td>moderate</td>\n",
       "      <td>flexible</td>\n",
       "      <td>moderate</td>\n",
       "      <td>moderate</td>\n",
       "      <td>flexible</td>\n",
       "      <td>moderate</td>\n",
       "      <td>moderate</td>\n",
       "      <td>strict</td>\n",
       "      <td>strict</td>\n",
       "      <td>flexible</td>\n",
       "      <td>flexible</td>\n",
       "      <td>strict</td>\n",
       "      <td>moderate</td>\n",
       "      <td>flexible</td>\n",
       "    </tr>\n",
       "    <tr>\n",
       "      <th>room type</th>\n",
       "      <td>Private room</td>\n",
       "      <td>Entire home/apt</td>\n",
       "      <td>Private room</td>\n",
       "      <td>Entire home/apt</td>\n",
       "      <td>Entire home/apt</td>\n",
       "      <td>Entire home/apt</td>\n",
       "      <td>Private room</td>\n",
       "      <td>Private room</td>\n",
       "      <td>Private room</td>\n",
       "      <td>Private room</td>\n",
       "      <td>Entire home/apt</td>\n",
       "      <td>Entire home/apt</td>\n",
       "      <td>Private room</td>\n",
       "      <td>Private room</td>\n",
       "      <td>Private room</td>\n",
       "    </tr>\n",
       "    <tr>\n",
       "      <th>Construction year</th>\n",
       "      <td>2020.0</td>\n",
       "      <td>2007.0</td>\n",
       "      <td>2005.0</td>\n",
       "      <td>2005.0</td>\n",
       "      <td>2009.0</td>\n",
       "      <td>2013.0</td>\n",
       "      <td>2015.0</td>\n",
       "      <td>2009.0</td>\n",
       "      <td>2005.0</td>\n",
       "      <td>2015.0</td>\n",
       "      <td>2004.0</td>\n",
       "      <td>2008.0</td>\n",
       "      <td>2008.0</td>\n",
       "      <td>2010.0</td>\n",
       "      <td>2019.0</td>\n",
       "    </tr>\n",
       "    <tr>\n",
       "      <th>price</th>\n",
       "      <td>$966</td>\n",
       "      <td>$142</td>\n",
       "      <td>$620</td>\n",
       "      <td>$368</td>\n",
       "      <td>$204</td>\n",
       "      <td>$577</td>\n",
       "      <td>$71</td>\n",
       "      <td>$1,060</td>\n",
       "      <td>$1,018</td>\n",
       "      <td>$291</td>\n",
       "      <td>$319</td>\n",
       "      <td>$606</td>\n",
       "      <td>$714</td>\n",
       "      <td>$580</td>\n",
       "      <td>$149</td>\n",
       "    </tr>\n",
       "    <tr>\n",
       "      <th>service fee</th>\n",
       "      <td>$193</td>\n",
       "      <td>$28</td>\n",
       "      <td>$124</td>\n",
       "      <td>$74</td>\n",
       "      <td>$41</td>\n",
       "      <td>$115</td>\n",
       "      <td>$14</td>\n",
       "      <td>$212</td>\n",
       "      <td>$204</td>\n",
       "      <td>$58</td>\n",
       "      <td>$64</td>\n",
       "      <td>$121</td>\n",
       "      <td>$143</td>\n",
       "      <td>$116</td>\n",
       "      <td>$30</td>\n",
       "    </tr>\n",
       "    <tr>\n",
       "      <th>minimum nights</th>\n",
       "      <td>10.0</td>\n",
       "      <td>30.0</td>\n",
       "      <td>3.0</td>\n",
       "      <td>30.0</td>\n",
       "      <td>10.0</td>\n",
       "      <td>3.0</td>\n",
       "      <td>45.0</td>\n",
       "      <td>45.0</td>\n",
       "      <td>2.0</td>\n",
       "      <td>2.0</td>\n",
       "      <td>1.0</td>\n",
       "      <td>5.0</td>\n",
       "      <td>2.0</td>\n",
       "      <td>4.0</td>\n",
       "      <td>2.0</td>\n",
       "    </tr>\n",
       "    <tr>\n",
       "      <th>number of reviews</th>\n",
       "      <td>9.0</td>\n",
       "      <td>45.0</td>\n",
       "      <td>0.0</td>\n",
       "      <td>270.0</td>\n",
       "      <td>9.0</td>\n",
       "      <td>74.0</td>\n",
       "      <td>49.0</td>\n",
       "      <td>49.0</td>\n",
       "      <td>430.0</td>\n",
       "      <td>118.0</td>\n",
       "      <td>160.0</td>\n",
       "      <td>53.0</td>\n",
       "      <td>188.0</td>\n",
       "      <td>167.0</td>\n",
       "      <td>113.0</td>\n",
       "    </tr>\n",
       "    <tr>\n",
       "      <th>last review</th>\n",
       "      <td>10/19/2021</td>\n",
       "      <td>5/21/2022</td>\n",
       "      <td>NaN</td>\n",
       "      <td>7/5/2019</td>\n",
       "      <td>11/19/2018</td>\n",
       "      <td>6/22/2019</td>\n",
       "      <td>10/5/2017</td>\n",
       "      <td>10/5/2017</td>\n",
       "      <td>6/24/2019</td>\n",
       "      <td>7/21/2017</td>\n",
       "      <td>6/9/2019</td>\n",
       "      <td>6/22/2019</td>\n",
       "      <td>6/23/2019</td>\n",
       "      <td>6/24/2019</td>\n",
       "      <td>7/5/2019</td>\n",
       "    </tr>\n",
       "    <tr>\n",
       "      <th>reviews per month</th>\n",
       "      <td>0.21</td>\n",
       "      <td>0.38</td>\n",
       "      <td>NaN</td>\n",
       "      <td>4.64</td>\n",
       "      <td>0.1</td>\n",
       "      <td>0.59</td>\n",
       "      <td>0.4</td>\n",
       "      <td>0.4</td>\n",
       "      <td>3.47</td>\n",
       "      <td>0.99</td>\n",
       "      <td>1.33</td>\n",
       "      <td>0.43</td>\n",
       "      <td>1.5</td>\n",
       "      <td>1.34</td>\n",
       "      <td>0.91</td>\n",
       "    </tr>\n",
       "    <tr>\n",
       "      <th>review rate number</th>\n",
       "      <td>4.0</td>\n",
       "      <td>4.0</td>\n",
       "      <td>5.0</td>\n",
       "      <td>4.0</td>\n",
       "      <td>3.0</td>\n",
       "      <td>3.0</td>\n",
       "      <td>5.0</td>\n",
       "      <td>5.0</td>\n",
       "      <td>3.0</td>\n",
       "      <td>5.0</td>\n",
       "      <td>3.0</td>\n",
       "      <td>4.0</td>\n",
       "      <td>4.0</td>\n",
       "      <td>4.0</td>\n",
       "      <td>3.0</td>\n",
       "    </tr>\n",
       "    <tr>\n",
       "      <th>calculated host listings count</th>\n",
       "      <td>6.0</td>\n",
       "      <td>2.0</td>\n",
       "      <td>1.0</td>\n",
       "      <td>1.0</td>\n",
       "      <td>1.0</td>\n",
       "      <td>1.0</td>\n",
       "      <td>1.0</td>\n",
       "      <td>1.0</td>\n",
       "      <td>1.0</td>\n",
       "      <td>1.0</td>\n",
       "      <td>4.0</td>\n",
       "      <td>1.0</td>\n",
       "      <td>1.0</td>\n",
       "      <td>3.0</td>\n",
       "      <td>1.0</td>\n",
       "    </tr>\n",
       "    <tr>\n",
       "      <th>availability 365</th>\n",
       "      <td>286.0</td>\n",
       "      <td>228.0</td>\n",
       "      <td>352.0</td>\n",
       "      <td>322.0</td>\n",
       "      <td>289.0</td>\n",
       "      <td>374.0</td>\n",
       "      <td>224.0</td>\n",
       "      <td>219.0</td>\n",
       "      <td>180.0</td>\n",
       "      <td>375.0</td>\n",
       "      <td>1.0</td>\n",
       "      <td>163.0</td>\n",
       "      <td>258.0</td>\n",
       "      <td>47.0</td>\n",
       "      <td>68.0</td>\n",
       "    </tr>\n",
       "    <tr>\n",
       "      <th>house_rules</th>\n",
       "      <td>Clean up and treat the home the way you'd like...</td>\n",
       "      <td>Pet friendly but please confirm with me if the...</td>\n",
       "      <td>I encourage you to use my kitchen, cooking and...</td>\n",
       "      <td>NaN</td>\n",
       "      <td>Please no smoking in the house, porch or on th...</td>\n",
       "      <td>No smoking, please, and no drugs.</td>\n",
       "      <td>Please no shoes in the house so bring slippers...</td>\n",
       "      <td>House Guidelines for our BnB We are delighted ...</td>\n",
       "      <td>- Please clean up after yourself when using th...</td>\n",
       "      <td>NO SMOKING OR PETS ANYWHERE ON THE PROPERTY 1....</td>\n",
       "      <td>NaN</td>\n",
       "      <td>My ideal guests would be warm, friendly, and r...</td>\n",
       "      <td>- One of the bedroom closets is not accessible...</td>\n",
       "      <td>NaN</td>\n",
       "      <td>NaN</td>\n",
       "    </tr>\n",
       "    <tr>\n",
       "      <th>license</th>\n",
       "      <td>NaN</td>\n",
       "      <td>NaN</td>\n",
       "      <td>NaN</td>\n",
       "      <td>NaN</td>\n",
       "      <td>NaN</td>\n",
       "      <td>NaN</td>\n",
       "      <td>NaN</td>\n",
       "      <td>NaN</td>\n",
       "      <td>NaN</td>\n",
       "      <td>NaN</td>\n",
       "      <td>NaN</td>\n",
       "      <td>NaN</td>\n",
       "      <td>NaN</td>\n",
       "      <td>NaN</td>\n",
       "      <td>NaN</td>\n",
       "    </tr>\n",
       "  </tbody>\n",
       "</table>\n",
       "</div>"
      ],
      "text/plain": [
       "                                                                               0   \\\n",
       "id                                                                        1001254   \n",
       "NAME                                           Clean & quiet apt home by the park   \n",
       "host id                                                               80014485718   \n",
       "host_identity_verified                                                unconfirmed   \n",
       "host name                                                                Madaline   \n",
       "neighbourhood group                                                      Brooklyn   \n",
       "neighbourhood                                                          Kensington   \n",
       "lat                                                                      40.64749   \n",
       "long                                                                    -73.97237   \n",
       "country                                                             United States   \n",
       "country code                                                                   US   \n",
       "instant_bookable                                                            False   \n",
       "cancellation_policy                                                        strict   \n",
       "room type                                                            Private room   \n",
       "Construction year                                                          2020.0   \n",
       "price                                                                       $966    \n",
       "service fee                                                                 $193    \n",
       "minimum nights                                                               10.0   \n",
       "number of reviews                                                             9.0   \n",
       "last review                                                            10/19/2021   \n",
       "reviews per month                                                            0.21   \n",
       "review rate number                                                            4.0   \n",
       "calculated host listings count                                                6.0   \n",
       "availability 365                                                            286.0   \n",
       "house_rules                     Clean up and treat the home the way you'd like...   \n",
       "license                                                                       NaN   \n",
       "\n",
       "                                                                               1   \\\n",
       "id                                                                        1002102   \n",
       "NAME                                                        Skylit Midtown Castle   \n",
       "host id                                                               52335172823   \n",
       "host_identity_verified                                                   verified   \n",
       "host name                                                                   Jenna   \n",
       "neighbourhood group                                                     Manhattan   \n",
       "neighbourhood                                                             Midtown   \n",
       "lat                                                                      40.75362   \n",
       "long                                                                    -73.98377   \n",
       "country                                                             United States   \n",
       "country code                                                                   US   \n",
       "instant_bookable                                                            False   \n",
       "cancellation_policy                                                      moderate   \n",
       "room type                                                         Entire home/apt   \n",
       "Construction year                                                          2007.0   \n",
       "price                                                                       $142    \n",
       "service fee                                                                  $28    \n",
       "minimum nights                                                               30.0   \n",
       "number of reviews                                                            45.0   \n",
       "last review                                                             5/21/2022   \n",
       "reviews per month                                                            0.38   \n",
       "review rate number                                                            4.0   \n",
       "calculated host listings count                                                2.0   \n",
       "availability 365                                                            228.0   \n",
       "house_rules                     Pet friendly but please confirm with me if the...   \n",
       "license                                                                       NaN   \n",
       "\n",
       "                                                                               2   \\\n",
       "id                                                                        1002403   \n",
       "NAME                                          THE VILLAGE OF HARLEM....NEW YORK !   \n",
       "host id                                                               78829239556   \n",
       "host_identity_verified                                                        NaN   \n",
       "host name                                                                   Elise   \n",
       "neighbourhood group                                                     Manhattan   \n",
       "neighbourhood                                                              Harlem   \n",
       "lat                                                                      40.80902   \n",
       "long                                                                     -73.9419   \n",
       "country                                                             United States   \n",
       "country code                                                                   US   \n",
       "instant_bookable                                                             True   \n",
       "cancellation_policy                                                      flexible   \n",
       "room type                                                            Private room   \n",
       "Construction year                                                          2005.0   \n",
       "price                                                                       $620    \n",
       "service fee                                                                 $124    \n",
       "minimum nights                                                                3.0   \n",
       "number of reviews                                                             0.0   \n",
       "last review                                                                   NaN   \n",
       "reviews per month                                                             NaN   \n",
       "review rate number                                                            5.0   \n",
       "calculated host listings count                                                1.0   \n",
       "availability 365                                                            352.0   \n",
       "house_rules                     I encourage you to use my kitchen, cooking and...   \n",
       "license                                                                       NaN   \n",
       "\n",
       "                                             3   \\\n",
       "id                                      1002755   \n",
       "NAME                                        NaN   \n",
       "host id                             85098326012   \n",
       "host_identity_verified              unconfirmed   \n",
       "host name                                 Garry   \n",
       "neighbourhood group                    Brooklyn   \n",
       "neighbourhood                      Clinton Hill   \n",
       "lat                                    40.68514   \n",
       "long                                  -73.95976   \n",
       "country                           United States   \n",
       "country code                                 US   \n",
       "instant_bookable                           True   \n",
       "cancellation_policy                    moderate   \n",
       "room type                       Entire home/apt   \n",
       "Construction year                        2005.0   \n",
       "price                                     $368    \n",
       "service fee                                $74    \n",
       "minimum nights                             30.0   \n",
       "number of reviews                         270.0   \n",
       "last review                            7/5/2019   \n",
       "reviews per month                          4.64   \n",
       "review rate number                          4.0   \n",
       "calculated host listings count              1.0   \n",
       "availability 365                          322.0   \n",
       "house_rules                                 NaN   \n",
       "license                                     NaN   \n",
       "\n",
       "                                                                               4   \\\n",
       "id                                                                        1003689   \n",
       "NAME                             Entire Apt: Spacious Studio/Loft by central park   \n",
       "host id                                                               92037596077   \n",
       "host_identity_verified                                                   verified   \n",
       "host name                                                                  Lyndon   \n",
       "neighbourhood group                                                     Manhattan   \n",
       "neighbourhood                                                         East Harlem   \n",
       "lat                                                                      40.79851   \n",
       "long                                                                    -73.94399   \n",
       "country                                                             United States   \n",
       "country code                                                                   US   \n",
       "instant_bookable                                                            False   \n",
       "cancellation_policy                                                      moderate   \n",
       "room type                                                         Entire home/apt   \n",
       "Construction year                                                          2009.0   \n",
       "price                                                                       $204    \n",
       "service fee                                                                  $41    \n",
       "minimum nights                                                               10.0   \n",
       "number of reviews                                                             9.0   \n",
       "last review                                                            11/19/2018   \n",
       "reviews per month                                                             0.1   \n",
       "review rate number                                                            3.0   \n",
       "calculated host listings count                                                1.0   \n",
       "availability 365                                                            289.0   \n",
       "house_rules                     Please no smoking in the house, porch or on th...   \n",
       "license                                                                       NaN   \n",
       "\n",
       "                                                                       5   \\\n",
       "id                                                                1004098   \n",
       "NAME                            Large Cozy 1 BR Apartment In Midtown East   \n",
       "host id                                                       45498551794   \n",
       "host_identity_verified                                           verified   \n",
       "host name                                                        Michelle   \n",
       "neighbourhood group                                             Manhattan   \n",
       "neighbourhood                                                 Murray Hill   \n",
       "lat                                                              40.74767   \n",
       "long                                                              -73.975   \n",
       "country                                                     United States   \n",
       "country code                                                           US   \n",
       "instant_bookable                                                     True   \n",
       "cancellation_policy                                              flexible   \n",
       "room type                                                 Entire home/apt   \n",
       "Construction year                                                  2013.0   \n",
       "price                                                               $577    \n",
       "service fee                                                         $115    \n",
       "minimum nights                                                        3.0   \n",
       "number of reviews                                                    74.0   \n",
       "last review                                                     6/22/2019   \n",
       "reviews per month                                                    0.59   \n",
       "review rate number                                                    3.0   \n",
       "calculated host listings count                                        1.0   \n",
       "availability 365                                                    374.0   \n",
       "house_rules                             No smoking, please, and no drugs.   \n",
       "license                                                               NaN   \n",
       "\n",
       "                                                                               6   \\\n",
       "id                                                                        1004650   \n",
       "NAME                                                              BlissArtsSpace!   \n",
       "host id                                                               61300605564   \n",
       "host_identity_verified                                                        NaN   \n",
       "host name                                                                 Alberta   \n",
       "neighbourhood group                                                      Brooklyn   \n",
       "neighbourhood                                                  Bedford-Stuyvesant   \n",
       "lat                                                                      40.68688   \n",
       "long                                                                    -73.95596   \n",
       "country                                                             United States   \n",
       "country code                                                                   US   \n",
       "instant_bookable                                                            False   \n",
       "cancellation_policy                                                      moderate   \n",
       "room type                                                            Private room   \n",
       "Construction year                                                          2015.0   \n",
       "price                                                                        $71    \n",
       "service fee                                                                  $14    \n",
       "minimum nights                                                               45.0   \n",
       "number of reviews                                                            49.0   \n",
       "last review                                                             10/5/2017   \n",
       "reviews per month                                                             0.4   \n",
       "review rate number                                                            5.0   \n",
       "calculated host listings count                                                1.0   \n",
       "availability 365                                                            224.0   \n",
       "house_rules                     Please no shoes in the house so bring slippers...   \n",
       "license                                                                       NaN   \n",
       "\n",
       "                                                                               7   \\\n",
       "id                                                                        1005202   \n",
       "NAME                                                              BlissArtsSpace!   \n",
       "host id                                                               90821839709   \n",
       "host_identity_verified                                                unconfirmed   \n",
       "host name                                                                    Emma   \n",
       "neighbourhood group                                                      Brooklyn   \n",
       "neighbourhood                                                  Bedford-Stuyvesant   \n",
       "lat                                                                      40.68688   \n",
       "long                                                                    -73.95596   \n",
       "country                                                             United States   \n",
       "country code                                                                   US   \n",
       "instant_bookable                                                            False   \n",
       "cancellation_policy                                                      moderate   \n",
       "room type                                                            Private room   \n",
       "Construction year                                                          2009.0   \n",
       "price                                                                     $1,060    \n",
       "service fee                                                                 $212    \n",
       "minimum nights                                                               45.0   \n",
       "number of reviews                                                            49.0   \n",
       "last review                                                             10/5/2017   \n",
       "reviews per month                                                             0.4   \n",
       "review rate number                                                            5.0   \n",
       "calculated host listings count                                                1.0   \n",
       "availability 365                                                            219.0   \n",
       "house_rules                     House Guidelines for our BnB We are delighted ...   \n",
       "license                                                                       NaN   \n",
       "\n",
       "                                                                               8   \\\n",
       "id                                                                        1005754   \n",
       "NAME                                              Large Furnished Room Near B'way   \n",
       "host id                                                               79384379533   \n",
       "host_identity_verified                                                   verified   \n",
       "host name                                                                  Evelyn   \n",
       "neighbourhood group                                                     Manhattan   \n",
       "neighbourhood                                                      Hell's Kitchen   \n",
       "lat                                                                      40.76489   \n",
       "long                                                                    -73.98493   \n",
       "country                                                             United States   \n",
       "country code                                                                   US   \n",
       "instant_bookable                                                             True   \n",
       "cancellation_policy                                                        strict   \n",
       "room type                                                            Private room   \n",
       "Construction year                                                          2005.0   \n",
       "price                                                                     $1,018    \n",
       "service fee                                                                 $204    \n",
       "minimum nights                                                                2.0   \n",
       "number of reviews                                                           430.0   \n",
       "last review                                                             6/24/2019   \n",
       "reviews per month                                                            3.47   \n",
       "review rate number                                                            3.0   \n",
       "calculated host listings count                                                1.0   \n",
       "availability 365                                                            180.0   \n",
       "house_rules                     - Please clean up after yourself when using th...   \n",
       "license                                                                       NaN   \n",
       "\n",
       "                                                                               9   \\\n",
       "id                                                                        1006307   \n",
       "NAME                                           Cozy Clean Guest Room - Family Apt   \n",
       "host id                                                               75527839483   \n",
       "host_identity_verified                                                unconfirmed   \n",
       "host name                                                                    Carl   \n",
       "neighbourhood group                                                     Manhattan   \n",
       "neighbourhood                                                     Upper West Side   \n",
       "lat                                                                      40.80178   \n",
       "long                                                                    -73.96723   \n",
       "country                                                             United States   \n",
       "country code                                                                   US   \n",
       "instant_bookable                                                            False   \n",
       "cancellation_policy                                                        strict   \n",
       "room type                                                            Private room   \n",
       "Construction year                                                          2015.0   \n",
       "price                                                                       $291    \n",
       "service fee                                                                  $58    \n",
       "minimum nights                                                                2.0   \n",
       "number of reviews                                                           118.0   \n",
       "last review                                                             7/21/2017   \n",
       "reviews per month                                                            0.99   \n",
       "review rate number                                                            5.0   \n",
       "calculated host listings count                                                1.0   \n",
       "availability 365                                                            375.0   \n",
       "house_rules                     NO SMOKING OR PETS ANYWHERE ON THE PROPERTY 1....   \n",
       "license                                                                       NaN   \n",
       "\n",
       "                                                                10  \\\n",
       "id                                                         1006859   \n",
       "NAME                            Cute & Cozy Lower East Side 1 bdrm   \n",
       "host id                                                 1280143094   \n",
       "host_identity_verified                                    verified   \n",
       "host name                                                  Miranda   \n",
       "neighbourhood group                                      Manhattan   \n",
       "neighbourhood                                            Chinatown   \n",
       "lat                                                       40.71344   \n",
       "long                                                     -73.99037   \n",
       "country                                              United States   \n",
       "country code                                                    US   \n",
       "instant_bookable                                             False   \n",
       "cancellation_policy                                       flexible   \n",
       "room type                                          Entire home/apt   \n",
       "Construction year                                           2004.0   \n",
       "price                                                        $319    \n",
       "service fee                                                   $64    \n",
       "minimum nights                                                 1.0   \n",
       "number of reviews                                            160.0   \n",
       "last review                                               6/9/2019   \n",
       "reviews per month                                             1.33   \n",
       "review rate number                                             3.0   \n",
       "calculated host listings count                                 4.0   \n",
       "availability 365                                               1.0   \n",
       "house_rules                                                    NaN   \n",
       "license                                                        NaN   \n",
       "\n",
       "                                                                               11  \\\n",
       "id                                                                        1007411   \n",
       "NAME                                             Beautiful 1br on Upper West Side   \n",
       "host id                                                               18824631834   \n",
       "host_identity_verified                                                   verified   \n",
       "host name                                                                    Alan   \n",
       "neighbourhood group                                                     Manhattan   \n",
       "neighbourhood                                                     Upper West Side   \n",
       "lat                                                                      40.80316   \n",
       "long                                                                    -73.96545   \n",
       "country                                                             United States   \n",
       "country code                                                                   US   \n",
       "instant_bookable                                                             True   \n",
       "cancellation_policy                                                      flexible   \n",
       "room type                                                         Entire home/apt   \n",
       "Construction year                                                          2008.0   \n",
       "price                                                                       $606    \n",
       "service fee                                                                 $121    \n",
       "minimum nights                                                                5.0   \n",
       "number of reviews                                                            53.0   \n",
       "last review                                                             6/22/2019   \n",
       "reviews per month                                                            0.43   \n",
       "review rate number                                                            4.0   \n",
       "calculated host listings count                                                1.0   \n",
       "availability 365                                                            163.0   \n",
       "house_rules                     My ideal guests would be warm, friendly, and r...   \n",
       "license                                                                       NaN   \n",
       "\n",
       "                                                                               12  \\\n",
       "id                                                                        1007964   \n",
       "NAME                                              Central Manhattan/near Broadway   \n",
       "host id                                                               88136055909   \n",
       "host_identity_verified                                                   verified   \n",
       "host name                                                                     NaN   \n",
       "neighbourhood group                                                     Manhattan   \n",
       "neighbourhood                                                      Hell's Kitchen   \n",
       "lat                                                                      40.76076   \n",
       "long                                                                    -73.98867   \n",
       "country                                                             United States   \n",
       "country code                                                                   US   \n",
       "instant_bookable                                                            False   \n",
       "cancellation_policy                                                        strict   \n",
       "room type                                                            Private room   \n",
       "Construction year                                                          2008.0   \n",
       "price                                                                       $714    \n",
       "service fee                                                                 $143    \n",
       "minimum nights                                                                2.0   \n",
       "number of reviews                                                           188.0   \n",
       "last review                                                             6/23/2019   \n",
       "reviews per month                                                             1.5   \n",
       "review rate number                                                            4.0   \n",
       "calculated host listings count                                                1.0   \n",
       "availability 365                                                            258.0   \n",
       "house_rules                     - One of the bedroom closets is not accessible...   \n",
       "license                                                                       NaN   \n",
       "\n",
       "                                                                            13  \\\n",
       "id                                                                     1008516   \n",
       "NAME                            Lovely Room 1, Garden, Best Area, Legal rental   \n",
       "host id                                                            26802410424   \n",
       "host_identity_verified                                                verified   \n",
       "host name                                                                Darcy   \n",
       "neighbourhood group                                                    brookln   \n",
       "neighbourhood                                                      South Slope   \n",
       "lat                                                                   40.66829   \n",
       "long                                                                 -73.98779   \n",
       "country                                                          United States   \n",
       "country code                                                                US   \n",
       "instant_bookable                                                          True   \n",
       "cancellation_policy                                                   moderate   \n",
       "room type                                                         Private room   \n",
       "Construction year                                                       2010.0   \n",
       "price                                                                    $580    \n",
       "service fee                                                              $116    \n",
       "minimum nights                                                             4.0   \n",
       "number of reviews                                                        167.0   \n",
       "last review                                                          6/24/2019   \n",
       "reviews per month                                                         1.34   \n",
       "review rate number                                                         4.0   \n",
       "calculated host listings count                                             3.0   \n",
       "availability 365                                                          47.0   \n",
       "house_rules                                                                NaN   \n",
       "license                                                                    NaN   \n",
       "\n",
       "                                                                              14  \n",
       "id                                                                       1009068  \n",
       "NAME                            Wonderful Guest Bedroom in Manhattan for SINGLES  \n",
       "host id                                                              88920244552  \n",
       "host_identity_verified                                                  verified  \n",
       "host name                                                               Leonardo  \n",
       "neighbourhood group                                                    Manhattan  \n",
       "neighbourhood                                                    Upper West Side  \n",
       "lat                                                                     40.79826  \n",
       "long                                                                   -73.96113  \n",
       "country                                                            United States  \n",
       "country code                                                                  US  \n",
       "instant_bookable                                                           False  \n",
       "cancellation_policy                                                     flexible  \n",
       "room type                                                           Private room  \n",
       "Construction year                                                         2019.0  \n",
       "price                                                                      $149   \n",
       "service fee                                                                 $30   \n",
       "minimum nights                                                               2.0  \n",
       "number of reviews                                                          113.0  \n",
       "last review                                                             7/5/2019  \n",
       "reviews per month                                                           0.91  \n",
       "review rate number                                                           3.0  \n",
       "calculated host listings count                                               1.0  \n",
       "availability 365                                                            68.0  \n",
       "house_rules                                                                  NaN  \n",
       "license                                                                      NaN  "
      ]
     },
     "execution_count": 120,
     "metadata": {},
     "output_type": "execute_result"
    }
   ],
   "source": [
    "airbnb_df.head(15).T"
   ]
  },
  {
   "cell_type": "code",
   "execution_count": 121,
   "metadata": {},
   "outputs": [
    {
     "name": "stdout",
     "output_type": "stream",
     "text": [
      "<class 'pandas.core.frame.DataFrame'>\n",
      "RangeIndex: 102599 entries, 0 to 102598\n",
      "Data columns (total 26 columns):\n",
      " #   Column                          Non-Null Count   Dtype  \n",
      "---  ------                          --------------   -----  \n",
      " 0   id                              102599 non-null  int64  \n",
      " 1   NAME                            102349 non-null  object \n",
      " 2   host id                         102599 non-null  int64  \n",
      " 3   host_identity_verified          102310 non-null  object \n",
      " 4   host name                       102193 non-null  object \n",
      " 5   neighbourhood group             102570 non-null  object \n",
      " 6   neighbourhood                   102583 non-null  object \n",
      " 7   lat                             102591 non-null  float64\n",
      " 8   long                            102591 non-null  float64\n",
      " 9   country                         102067 non-null  object \n",
      " 10  country code                    102468 non-null  object \n",
      " 11  instant_bookable                102494 non-null  object \n",
      " 12  cancellation_policy             102523 non-null  object \n",
      " 13  room type                       102599 non-null  object \n",
      " 14  Construction year               102385 non-null  float64\n",
      " 15  price                           102352 non-null  object \n",
      " 16  service fee                     102326 non-null  object \n",
      " 17  minimum nights                  102190 non-null  float64\n",
      " 18  number of reviews               102416 non-null  float64\n",
      " 19  last review                     86706 non-null   object \n",
      " 20  reviews per month               86720 non-null   float64\n",
      " 21  review rate number              102273 non-null  float64\n",
      " 22  calculated host listings count  102280 non-null  float64\n",
      " 23  availability 365                102151 non-null  float64\n",
      " 24  house_rules                     50468 non-null   object \n",
      " 25  license                         2 non-null       object \n",
      "dtypes: float64(9), int64(2), object(15)\n",
      "memory usage: 20.4+ MB\n"
     ]
    }
   ],
   "source": [
    "airbnb_df.info()"
   ]
  },
  {
   "cell_type": "code",
   "execution_count": 122,
   "metadata": {},
   "outputs": [
    {
     "data": {
      "text/plain": [
       "id                                     0\n",
       "NAME                                 250\n",
       "host id                                0\n",
       "host_identity_verified               289\n",
       "host name                            406\n",
       "neighbourhood group                   29\n",
       "neighbourhood                         16\n",
       "lat                                    8\n",
       "long                                   8\n",
       "country                              532\n",
       "country code                         131\n",
       "instant_bookable                     105\n",
       "cancellation_policy                   76\n",
       "room type                              0\n",
       "Construction year                    214\n",
       "price                                247\n",
       "service fee                          273\n",
       "minimum nights                       409\n",
       "number of reviews                    183\n",
       "last review                        15893\n",
       "reviews per month                  15879\n",
       "review rate number                   326\n",
       "calculated host listings count       319\n",
       "availability 365                     448\n",
       "house_rules                        52131\n",
       "license                           102597\n",
       "dtype: int64"
      ]
     },
     "execution_count": 122,
     "metadata": {},
     "output_type": "execute_result"
    }
   ],
   "source": [
    "airbnb_df.isnull().sum()"
   ]
  },
  {
   "cell_type": "markdown",
   "metadata": {},
   "source": [
    "to check which is the problematic column:"
   ]
  },
  {
   "cell_type": "code",
   "execution_count": 123,
   "metadata": {},
   "outputs": [
    {
     "data": {
      "text/plain": [
       "Index(['id', 'NAME', 'host id', 'host_identity_verified', 'host name',\n",
       "       'neighbourhood group', 'neighbourhood', 'lat', 'long', 'country',\n",
       "       'country code', 'instant_bookable', 'cancellation_policy', 'room type',\n",
       "       'Construction year', 'price', 'service fee', 'minimum nights',\n",
       "       'number of reviews', 'last review', 'reviews per month',\n",
       "       'review rate number', 'calculated host listings count',\n",
       "       'availability 365', 'house_rules', 'license'],\n",
       "      dtype='object')"
      ]
     },
     "execution_count": 123,
     "metadata": {},
     "output_type": "execute_result"
    }
   ],
   "source": [
    "airbnb_df.columns"
   ]
  },
  {
   "cell_type": "markdown",
   "metadata": {},
   "source": [
    "vedo che gli indici di colonna devono essere sistemati, lo farò in seguito, ora proseguo con la ricerca dei valori problematici che sono contenuti nella 25esima colonna"
   ]
  },
  {
   "cell_type": "code",
   "execution_count": 124,
   "metadata": {},
   "outputs": [
    {
     "name": "stdout",
     "output_type": "stream",
     "text": [
      "house_rules\n"
     ]
    }
   ],
   "source": [
    "column25 = airbnb_df.columns[24]  # the first index is 0 so the 25th column has index 24\n",
    "print(column25)"
   ]
  },
  {
   "cell_type": "markdown",
   "metadata": {},
   "source": [
    "the problematic columns has name `house_rules`\n",
    "\n",
    "now I've to check her values to see what is the problem"
   ]
  },
  {
   "cell_type": "code",
   "execution_count": 125,
   "metadata": {},
   "outputs": [
    {
     "name": "stdout",
     "output_type": "stream",
     "text": [
      "percentage of house_rules NA value: \t\t\t50.81%\n"
     ]
    }
   ],
   "source": [
    "print(f\"percentage of house_rules NA value: \\t\\t\\t{(airbnb_df['house_rules'].isna().sum() / len(airbnb_df)) * 100:.2f}%\")"
   ]
  },
  {
   "cell_type": "code",
   "execution_count": 126,
   "metadata": {},
   "outputs": [
    {
     "data": {
      "text/plain": [
       "house_rules\n",
       "#NAME?                                                                                                                                                                                                                                                                                                                                                                                                                                                                                                                                                                                                                                                                                                                                                                                                                                                                                                                                                                                                                                      2712\n",
       "House Rules 1. Check-in is 4 pm local time. If the unit is ready earlier, we’ll let you know. Check-out is normally 11 am local time, but we’d be happy to extend it as long as we don’t have a cleaning scheduled. Just let us know.  2. All bookings require a security deposit of at least $300, which will be refunded within 7 days of your check-out. 3. For security measures we require all guests to provide proof of identification through ID verification on our own website. In order to check in we'll need a photo of your ID.  4. Our cancellation policy is as shown on our ad and defined by the site you are booking through.  5. Don’t let $300 go up in smoke. There's no smoking allowed in any Flatbook and a $300 fine for breaking this rule.  6. Unfortunately we don’t allow pets in any of our apartments. 7. Unless you’re staying in one of our specialty apartments, we don’t allow parties or excessive noise. 8. If we find the place very messy, we have to charge an extra $40 for every extra hour o     904\n",
       "Please remember that this is a residential building. The building rules, apartment occupancy restrictions and the year-round tenants must be respected.                                                                                                                                                                                                                                                                                                                                                                                                                                                                                                                                                                                                                                                                                                                                                                                                                                                                                      881\n",
       "No Smoking No Pets                                                                                                                                                                                                                                                                                                                                                                                                                                                                                                                                                                                                                                                                                                                                                                                                                                                                                                                                                                                                                           814\n",
       "Please remember that this is a residential building. The building rules, apartment occupancy restrictions and the year-round tenants must be respected.  Parties, pets and smoking are not allowed under any circumstances and incur significant fees.                                                                                                                                                                                                                                                                                                                                                                                                                                                                                                                                                                                                                                                                                                                                                                                       552\n",
       "                                                                                                                                                                                                                                                                                                                                                                                                                                                                                                                                                                                                                                                                                                                                                                                                                                                                                                                                                                                                                                            ... \n",
       "5 nights minimum stay, no smoking or pets.                                                                                                                                                                                                                                                                                                                                                                                                                                                                                                                                                                                                                                                                                                                                                                                                                                                                                                                                                                                                     1\n",
       "4 nights minimum stay No pets at any time No smoking Please be mindful of the furniture and personal belongings, it was all furnished with designer pieces and hard to replace things.                                                                                                                                                                                                                                                                                                                                                                                                                                                                                                                                                                                                                                                                                                                                                                                                                                                         1\n",
       "- Quiet time after 13                                                                                                                                                                                                                                                                                                                                                                                                                                                                                                                                                                                                                                                                                                                                                                                                                                                                                                                                                                                                                          1\n",
       "7 star treatment is given and expected.                                                                                                                                                                                                                                                                                                                                                                                                                                                                                                                                                                                                                                                                                                                                                                                                                                                                                                                                                                                                        1\n",
       "16 nights minimum stay, no smoking or pets.                                                                                                                                                                                                                                                                                                                                                                                                                                                                                                                                                                                                                                                                                                                                                                                                                                                                                                                                                                                                    1\n",
       "Name: count, Length: 1976, dtype: int64"
      ]
     },
     "execution_count": 126,
     "metadata": {},
     "output_type": "execute_result"
    }
   ],
   "source": [
    "airbnb_df.house_rules.value_counts()"
   ]
  },
  {
   "cell_type": "markdown",
   "metadata": {},
   "source": [
    "Since this dataset in column 25, that is the column house_rules, has the value #NAME? that is a different type from all other values in this column, I can choose one of this four options:\n",
    "* set low_memory=False when importing the csv file<br>    airbnb_df = pd.read_csv('Airbnb_Open_Data.csv', low_memory=False)<br>    --> however if I ever need to use this column during EDA I may have problems\n",
    "* replace the values #NAME? with null values NaN --><br>    airbnb_df=pd.read_csv('Airbnb_Open_Data.csv', na_values='#NAME?') <br>  or in this way <br>     airbnb_df=airbnb_df.replace('#NAME?', np.nan)<br>   --> I'll get more null values in the house_rules column\n",
    "* since all the other values in this column are strings, I can turn all the values (strings,NaN and #NAME?) into strings <br>    airbnb_df.house_rules=airbnb.house_rules.astype(str)<br>     --> I'll not have more null values in the column\n",
    "* drop the column house_rules because it is not is not relevant for this analysis<br>\n",
    "airbnb_df.drop( column = [\"house_rules\"], inplace = True)\n",
    "\n",
    "ELIMINO?"
   ]
  },
  {
   "cell_type": "markdown",
   "metadata": {},
   "source": [
    "as you cann se there's the value **#HOUSE?** that is problematic, it can cause some problems during the analysis so I can **replace** these values with *NaN*:"
   ]
  },
  {
   "cell_type": "code",
   "execution_count": 127,
   "metadata": {},
   "outputs": [],
   "source": [
    "airbnb_df=airbnb_df.replace('#NAME?', np.nan)"
   ]
  },
  {
   "cell_type": "code",
   "execution_count": 128,
   "metadata": {},
   "outputs": [
    {
     "name": "stdout",
     "output_type": "stream",
     "text": [
      "<class 'pandas.core.frame.DataFrame'>\n",
      "RangeIndex: 102599 entries, 0 to 102598\n",
      "Data columns (total 26 columns):\n",
      " #   Column                          Non-Null Count   Dtype  \n",
      "---  ------                          --------------   -----  \n",
      " 0   id                              102599 non-null  int64  \n",
      " 1   NAME                            102329 non-null  object \n",
      " 2   host id                         102599 non-null  int64  \n",
      " 3   host_identity_verified          102310 non-null  object \n",
      " 4   host name                       102191 non-null  object \n",
      " 5   neighbourhood group             102570 non-null  object \n",
      " 6   neighbourhood                   102583 non-null  object \n",
      " 7   lat                             102591 non-null  float64\n",
      " 8   long                            102591 non-null  float64\n",
      " 9   country                         102067 non-null  object \n",
      " 10  country code                    102468 non-null  object \n",
      " 11  instant_bookable                102494 non-null  object \n",
      " 12  cancellation_policy             102523 non-null  object \n",
      " 13  room type                       102599 non-null  object \n",
      " 14  Construction year               102385 non-null  float64\n",
      " 15  price                           102352 non-null  object \n",
      " 16  service fee                     102326 non-null  object \n",
      " 17  minimum nights                  102190 non-null  float64\n",
      " 18  number of reviews               102416 non-null  float64\n",
      " 19  last review                     86706 non-null   object \n",
      " 20  reviews per month               86720 non-null   float64\n",
      " 21  review rate number              102273 non-null  float64\n",
      " 22  calculated host listings count  102280 non-null  float64\n",
      " 23  availability 365                102151 non-null  float64\n",
      " 24  house_rules                     47756 non-null   object \n",
      " 25  license                         2 non-null       object \n",
      "dtypes: float64(9), int64(2), object(15)\n",
      "memory usage: 20.4+ MB\n"
     ]
    }
   ],
   "source": [
    "airbnb_df.info()"
   ]
  },
  {
   "cell_type": "markdown",
   "metadata": {},
   "source": [
    "now i have more null values in the `house_rules` column obviuosly"
   ]
  },
  {
   "cell_type": "code",
   "execution_count": 129,
   "metadata": {},
   "outputs": [
    {
     "data": {
      "text/plain": [
       "id                                     0\n",
       "NAME                                 270\n",
       "host id                                0\n",
       "host_identity_verified               289\n",
       "host name                            408\n",
       "neighbourhood group                   29\n",
       "neighbourhood                         16\n",
       "lat                                    8\n",
       "long                                   8\n",
       "country                              532\n",
       "country code                         131\n",
       "instant_bookable                     105\n",
       "cancellation_policy                   76\n",
       "room type                              0\n",
       "Construction year                    214\n",
       "price                                247\n",
       "service fee                          273\n",
       "minimum nights                       409\n",
       "number of reviews                    183\n",
       "last review                        15893\n",
       "reviews per month                  15879\n",
       "review rate number                   326\n",
       "calculated host listings count       319\n",
       "availability 365                     448\n",
       "house_rules                        54843\n",
       "license                           102597\n",
       "dtype: int64"
      ]
     },
     "execution_count": 129,
     "metadata": {},
     "output_type": "execute_result"
    }
   ],
   "source": [
    "airbnb_df.isnull().sum()"
   ]
  },
  {
   "cell_type": "markdown",
   "metadata": {},
   "source": [
    "I want to check that there are no more problematic values in the `house_rules` columns"
   ]
  },
  {
   "cell_type": "code",
   "execution_count": 130,
   "metadata": {},
   "outputs": [
    {
     "data": {
      "text/plain": [
       "house_rules\n",
       "House Rules 1. Check-in is 4 pm local time. If the unit is ready earlier, we’ll let you know. Check-out is normally 11 am local time, but we’d be happy to extend it as long as we don’t have a cleaning scheduled. Just let us know.  2. All bookings require a security deposit of at least $300, which will be refunded within 7 days of your check-out. 3. For security measures we require all guests to provide proof of identification through ID verification on our own website. In order to check in we'll need a photo of your ID.  4. Our cancellation policy is as shown on our ad and defined by the site you are booking through.  5. Don’t let $300 go up in smoke. There's no smoking allowed in any Flatbook and a $300 fine for breaking this rule.  6. Unfortunately we don’t allow pets in any of our apartments. 7. Unless you’re staying in one of our specialty apartments, we don’t allow parties or excessive noise. 8. If we find the place very messy, we have to charge an extra $40 for every extra hour o    904\n",
       "Please remember that this is a residential building. The building rules, apartment occupancy restrictions and the year-round tenants must be respected.                                                                                                                                                                                                                                                                                                                                                                                                                                                                                                                                                                                                                                                                                                                                                                                                                                                                                     881\n",
       "No Smoking No Pets                                                                                                                                                                                                                                                                                                                                                                                                                                                                                                                                                                                                                                                                                                                                                                                                                                                                                                                                                                                                                          814\n",
       "Please remember that this is a residential building. The building rules, apartment occupancy restrictions and the year-round tenants must be respected.  Parties, pets and smoking are not allowed under any circumstances and incur significant fees.                                                                                                                                                                                                                                                                                                                                                                                                                                                                                                                                                                                                                                                                                                                                                                                      552\n",
       "No Smoking                                                                                                                                                                                                                                                                                                                                                                                                                                                                                                                                                                                                                                                                                                                                                                                                                                                                                                                                                                                                                                  338\n",
       "                                                                                                                                                                                                                                                                                                                                                                                                                                                                                                                                                                                                                                                                                                                                                                                                                                                                                                                                                                                                                                           ... \n",
       "5 nights minimum stay, no smoking or pets.                                                                                                                                                                                                                                                                                                                                                                                                                                                                                                                                                                                                                                                                                                                                                                                                                                                                                                                                                                                                    1\n",
       "4 nights minimum stay No pets at any time No smoking Please be mindful of the furniture and personal belongings, it was all furnished with designer pieces and hard to replace things.                                                                                                                                                                                                                                                                                                                                                                                                                                                                                                                                                                                                                                                                                                                                                                                                                                                        1\n",
       "- Quiet time after 13                                                                                                                                                                                                                                                                                                                                                                                                                                                                                                                                                                                                                                                                                                                                                                                                                                                                                                                                                                                                                         1\n",
       "7 star treatment is given and expected.                                                                                                                                                                                                                                                                                                                                                                                                                                                                                                                                                                                                                                                                                                                                                                                                                                                                                                                                                                                                       1\n",
       "16 nights minimum stay, no smoking or pets.                                                                                                                                                                                                                                                                                                                                                                                                                                                                                                                                                                                                                                                                                                                                                                                                                                                                                                                                                                                                   1\n",
       "Name: count, Length: 1975, dtype: int64"
      ]
     },
     "execution_count": 130,
     "metadata": {},
     "output_type": "execute_result"
    }
   ],
   "source": [
    "airbnb_df.house_rules.value_counts()"
   ]
  },
  {
   "cell_type": "markdown",
   "metadata": {},
   "source": [
    "i don't have problematic values anymore and i can start my analysis.<br>As seen before, gli indici di colonna devono essere sistemati: "
   ]
  },
  {
   "cell_type": "code",
   "execution_count": 131,
   "metadata": {},
   "outputs": [],
   "source": [
    "airbnb_df.columns = airbnb_df.columns.map(lambda x: x.lower().replace(' ', '_'))"
   ]
  },
  {
   "cell_type": "code",
   "execution_count": 132,
   "metadata": {},
   "outputs": [
    {
     "data": {
      "text/plain": [
       "Index(['id', 'name', 'host_id', 'host_identity_verified', 'host_name',\n",
       "       'neighbourhood_group', 'neighbourhood', 'lat', 'long', 'country',\n",
       "       'country_code', 'instant_bookable', 'cancellation_policy', 'room_type',\n",
       "       'construction_year', 'price', 'service_fee', 'minimum_nights',\n",
       "       'number_of_reviews', 'last_review', 'reviews_per_month',\n",
       "       'review_rate_number', 'calculated_host_listings_count',\n",
       "       'availability_365', 'house_rules', 'license'],\n",
       "      dtype='object')"
      ]
     },
     "execution_count": 132,
     "metadata": {},
     "output_type": "execute_result"
    }
   ],
   "source": [
    "airbnb_df.columns"
   ]
  },
  {
   "cell_type": "code",
   "execution_count": 133,
   "metadata": {},
   "outputs": [
    {
     "name": "stdout",
     "output_type": "stream",
     "text": [
      "<class 'pandas.core.frame.DataFrame'>\n",
      "RangeIndex: 102599 entries, 0 to 102598\n",
      "Data columns (total 26 columns):\n",
      " #   Column                          Non-Null Count   Dtype  \n",
      "---  ------                          --------------   -----  \n",
      " 0   id                              102599 non-null  int64  \n",
      " 1   name                            102329 non-null  object \n",
      " 2   host_id                         102599 non-null  int64  \n",
      " 3   host_identity_verified          102310 non-null  object \n",
      " 4   host_name                       102191 non-null  object \n",
      " 5   neighbourhood_group             102570 non-null  object \n",
      " 6   neighbourhood                   102583 non-null  object \n",
      " 7   lat                             102591 non-null  float64\n",
      " 8   long                            102591 non-null  float64\n",
      " 9   country                         102067 non-null  object \n",
      " 10  country_code                    102468 non-null  object \n",
      " 11  instant_bookable                102494 non-null  object \n",
      " 12  cancellation_policy             102523 non-null  object \n",
      " 13  room_type                       102599 non-null  object \n",
      " 14  construction_year               102385 non-null  float64\n",
      " 15  price                           102352 non-null  object \n",
      " 16  service_fee                     102326 non-null  object \n",
      " 17  minimum_nights                  102190 non-null  float64\n",
      " 18  number_of_reviews               102416 non-null  float64\n",
      " 19  last_review                     86706 non-null   object \n",
      " 20  reviews_per_month               86720 non-null   float64\n",
      " 21  review_rate_number              102273 non-null  float64\n",
      " 22  calculated_host_listings_count  102280 non-null  float64\n",
      " 23  availability_365                102151 non-null  float64\n",
      " 24  house_rules                     47756 non-null   object \n",
      " 25  license                         2 non-null       object \n",
      "dtypes: float64(9), int64(2), object(15)\n",
      "memory usage: 20.4+ MB\n"
     ]
    }
   ],
   "source": [
    "airbnb_df.info()"
   ]
  },
  {
   "cell_type": "code",
   "execution_count": 134,
   "metadata": {},
   "outputs": [
    {
     "data": {
      "text/plain": [
       "(102599, 26)"
      ]
     },
     "execution_count": 134,
     "metadata": {},
     "output_type": "execute_result"
    }
   ],
   "source": [
    "airbnb_df.shape"
   ]
  },
  {
   "cell_type": "markdown",
   "metadata": {},
   "source": [
    "observing the size of the dataset it has 26 columns and 102599 rows, so I can see which variables have an eccessive number of NA values"
   ]
  },
  {
   "cell_type": "code",
   "execution_count": 135,
   "metadata": {},
   "outputs": [
    {
     "name": "stdout",
     "output_type": "stream",
     "text": [
      "193503\n",
      "541\n"
     ]
    }
   ],
   "source": [
    "print(sum(airbnb_df.isna().sum()))\n",
    "print(airbnb_df.duplicated().sum())"
   ]
  },
  {
   "cell_type": "markdown",
   "metadata": {},
   "source": [
    "# Null values"
   ]
  },
  {
   "cell_type": "markdown",
   "metadata": {},
   "source": [
    "to check in which columns I've more null values:"
   ]
  },
  {
   "cell_type": "code",
   "execution_count": 136,
   "metadata": {},
   "outputs": [
    {
     "data": {
      "text/plain": [
       "id                                     0\n",
       "name                                 270\n",
       "host_id                                0\n",
       "host_identity_verified               289\n",
       "host_name                            408\n",
       "neighbourhood_group                   29\n",
       "neighbourhood                         16\n",
       "lat                                    8\n",
       "long                                   8\n",
       "country                              532\n",
       "country_code                         131\n",
       "instant_bookable                     105\n",
       "cancellation_policy                   76\n",
       "room_type                              0\n",
       "construction_year                    214\n",
       "price                                247\n",
       "service_fee                          273\n",
       "minimum_nights                       409\n",
       "number_of_reviews                    183\n",
       "last_review                        15893\n",
       "reviews_per_month                  15879\n",
       "review_rate_number                   326\n",
       "calculated_host_listings_count       319\n",
       "availability_365                     448\n",
       "house_rules                        54843\n",
       "license                           102597\n",
       "dtype: int64"
      ]
     },
     "execution_count": 136,
     "metadata": {},
     "output_type": "execute_result"
    }
   ],
   "source": [
    "airbnb_df.isnull().sum()"
   ]
  },
  {
   "cell_type": "markdown",
   "metadata": {},
   "source": [
    "these columns are of different types: **object**, **float**, **integer**, so I prefer to divide them in order to see better which columns contain float values, integers and objects"
   ]
  },
  {
   "cell_type": "code",
   "execution_count": 137,
   "metadata": {},
   "outputs": [
    {
     "name": "stdout",
     "output_type": "stream",
     "text": [
      "Null values in columns of float type:\n",
      "lat                                   8\n",
      "long                                  8\n",
      "construction_year                   214\n",
      "minimum_nights                      409\n",
      "number_of_reviews                   183\n",
      "reviews_per_month                 15879\n",
      "review_rate_number                  326\n",
      "calculated_host_listings_count      319\n",
      "availability_365                    448\n",
      "dtype: int64\n",
      "\n",
      "Null values in columns of object type:\n",
      "name                         270\n",
      "host_identity_verified       289\n",
      "host_name                    408\n",
      "neighbourhood_group           29\n",
      "neighbourhood                 16\n",
      "country                      532\n",
      "country_code                 131\n",
      "instant_bookable             105\n",
      "cancellation_policy           76\n",
      "room_type                      0\n",
      "price                        247\n",
      "service_fee                  273\n",
      "last_review                15893\n",
      "house_rules                54843\n",
      "license                   102597\n",
      "dtype: int64\n",
      "\n",
      "Null values in columns of integer type:\n",
      "id         0\n",
      "host_id    0\n",
      "dtype: int64\n"
     ]
    }
   ],
   "source": [
    "# Null values in columns of float type\n",
    "null_float_columns = airbnb_df.select_dtypes(include=['float']).isnull().sum()\n",
    "print(\"Null values in columns of float type:\")\n",
    "print(null_float_columns)\n",
    "\n",
    "# Null values in columns of object type\n",
    "null_text_columns = airbnb_df.select_dtypes(include=['object']).isnull().sum()\n",
    "print(\"\\nNull values in columns of object type:\")\n",
    "print(null_text_columns)\n",
    "\n",
    "# Null values in columns of integer type\n",
    "null_int_columns = airbnb_df.select_dtypes(include=['int']).isnull().sum()\n",
    "print(\"\\nNull values in columns of integer type:\")\n",
    "print(null_int_columns)"
   ]
  },
  {
   "cell_type": "code",
   "execution_count": 138,
   "metadata": {},
   "outputs": [
    {
     "name": "stdout",
     "output_type": "stream",
     "text": [
      "Percentage of null values in columns of float type:\n",
      "percentage of lat NA value: \t\t\t\t\t\t0.01%\n",
      "percentage of long NA value: \t\t\t\t\t\t0.01%\n",
      "percentage of construction_year NA value: \t\t\t\t0.21%\n",
      "percentage of minimum_nights NA value: \t\t\t\t\t0.40%\n",
      "percentage of number_of_reviews NA value: \t\t\t\t0.18%\n",
      "percentage of reviews_per_month NA value: \t\t\t\t15.48%\n",
      "percentage of review_rate_number NA value: \t\t\t\t0.32%\n",
      "percentage of calculated_host_listings_count NA value: \t\t\t0.31%\n",
      "percentage of availability_365 NA value: \t\t\t\t0.44%\n"
     ]
    }
   ],
   "source": [
    "#for float variables\n",
    "print(\"Percentage of null values in columns of float type:\")\n",
    "print(f\"percentage of lat NA value: \\t\\t\\t\\t\\t\\t{(airbnb_df['lat'].isna().sum()/len(airbnb_df))*100:.2f}%\")\n",
    "print(f\"percentage of long NA value: \\t\\t\\t\\t\\t\\t{(airbnb_df['long'].isna().sum()/len(airbnb_df))*100:.2f}%\")\n",
    "print(f\"percentage of construction_year NA value: \\t\\t\\t\\t{(airbnb_df['construction_year'].isna().sum()/len(airbnb_df))*100:.2f}%\")\n",
    "print(f\"percentage of minimum_nights NA value: \\t\\t\\t\\t\\t{(airbnb_df['minimum_nights'].isna().sum()/len(airbnb_df))*100:.2f}%\")\n",
    "print(f\"percentage of number_of_reviews NA value: \\t\\t\\t\\t{(airbnb_df['number_of_reviews'].isna().sum()/len(airbnb_df))*100:.2f}%\")\n",
    "print(f\"percentage of reviews_per_month NA value: \\t\\t\\t\\t{(airbnb_df['reviews_per_month'].isna().sum()/len(airbnb_df))*100:.2f}%\")\n",
    "print(f\"percentage of review_rate_number NA value: \\t\\t\\t\\t{(airbnb_df['review_rate_number'].isna().sum()/len(airbnb_df))*100:.2f}%\")\n",
    "print(f\"percentage of calculated_host_listings_count NA value: \\t\\t\\t{(airbnb_df['calculated_host_listings_count'].isna().sum()/len(airbnb_df))*100:.2f}%\")\n",
    "print(f\"percentage of availability_365 NA value: \\t\\t\\t\\t{(airbnb_df['availability_365'].isna().sum()/len(airbnb_df))*100:.2f}%\")"
   ]
  },
  {
   "cell_type": "markdown",
   "metadata": {},
   "source": [
    "based on these information the null values related to *float* data can be **replaced** with their **mean value** because the percentage are aroud? 0,<br>\n",
    "**Remove** the variable `reviews_per_month`,  from the variable itself. The percentage of null values is excessive and would not lead to useful information for the entire population of the dataset."
   ]
  },
  {
   "cell_type": "code",
   "execution_count": 139,
   "metadata": {},
   "outputs": [],
   "source": [
    "lat_mean = airbnb_df['lat'].mean()\n",
    "airbnb_df['lat'].fillna(lat_mean, inplace=True)\n",
    "\n",
    "long_mean = airbnb_df['long'].mean()\n",
    "airbnb_df['long'].fillna(long_mean, inplace=True)\n",
    "\n",
    "construction_year_mean = airbnb_df['construction_year'].mean()\n",
    "airbnb_df['construction_year'].fillna(construction_year_mean, inplace=True)\n",
    "\n",
    "minimum_nights_mean = airbnb_df['minimum_nights'].mean()\n",
    "airbnb_df['minimum_nights'].fillna(minimum_nights_mean, inplace=True)\n",
    "\n",
    "number_of_reviews_mean = airbnb_df['number_of_reviews'].mean()\n",
    "airbnb_df['number_of_reviews'].fillna(number_of_reviews_mean, inplace=True)\n",
    "\n",
    "review_rate_number_mean = airbnb_df['review_rate_number'].mean()\n",
    "airbnb_df['review_rate_number'].fillna(review_rate_number_mean, inplace=True)\n",
    "\n",
    "calculated_host_listings_count_mean = airbnb_df['calculated_host_listings_count'].mean()\n",
    "airbnb_df['calculated_host_listings_count'].fillna(calculated_host_listings_count_mean, inplace=True)\n",
    "\n",
    "availability_365_mean = airbnb_df['availability_365'].mean()\n",
    "airbnb_df['availability_365'].fillna(availability_365_mean, inplace=True)"
   ]
  },
  {
   "cell_type": "code",
   "execution_count": 140,
   "metadata": {},
   "outputs": [],
   "source": [
    "airbnb_df.drop(columns = [ \"reviews_per_month\"], axis=1, inplace = True)"
   ]
  },
  {
   "cell_type": "code",
   "execution_count": 141,
   "metadata": {},
   "outputs": [
    {
     "name": "stdout",
     "output_type": "stream",
     "text": [
      "Percentage of null values in columns of text or object type:\n",
      "\n",
      "percentage of name NA value: \t\t\t\t0.26%\n",
      "percentage of host_identity_verified NA value:\t\t 0.28%\n",
      "percentage of host_name NA value:\t\t\t 0.40%\n",
      "percentage of neighbourhood_group NA value:\t\t 0.03%\n",
      "percentage of neighbourhood NA value: \t\t\t0.02%\n",
      "percentage of country NA value:\t\t\t\t 0.52%\n",
      "percentage of country_code NA value: \t\t\t0.13%\n",
      "percentage of instant_bookable NA value:\t\t 0.10%\n",
      "percentage of cancellation_policy NA value:\t\t0.07%\n",
      "percentage of price NA value:\t\t\t\t 0.24%\n",
      "percentage of service_fee NA value:\t\t\t 0.27%\n",
      "percentage of last_review NA value: \t\t\t15.49%\n",
      "percentage of house_rules NA value: \t\t\t53.45%\n",
      "percentage of license NA value: \t\t\t99.998%\n"
     ]
    }
   ],
   "source": [
    "# for object type\n",
    "print(\"Percentage of null values in columns of text or object type:\")\n",
    "print(f\"\\npercentage of name NA value: \\t\\t\\t\\t{(airbnb_df['name'].isna().sum() / len(airbnb_df)) * 100:.2f}%\")\n",
    "print(f\"percentage of host_identity_verified NA value:\\t\\t {(airbnb_df['host_identity_verified'].isna().sum() / len(airbnb_df)) * 100:.2f}%\")\n",
    "print(f\"percentage of host_name NA value:\\t\\t\\t {(airbnb_df['host_name'].isna().sum() / len(airbnb_df)) * 100:.2f}%\")\n",
    "print(f\"percentage of neighbourhood_group NA value:\\t\\t {(airbnb_df['neighbourhood_group'].isna().sum() / len(airbnb_df)) * 100:.2f}%\")\n",
    "print(f\"percentage of neighbourhood NA value: \\t\\t\\t{(airbnb_df['neighbourhood'].isna().sum() / len(airbnb_df)) * 100:.2f}%\")\n",
    "print(f\"percentage of country NA value:\\t\\t\\t\\t {(airbnb_df['country'].isna().sum() / len(airbnb_df)) * 100:.2f}%\")\n",
    "print(f\"percentage of country_code NA value: \\t\\t\\t{(airbnb_df['country_code'].isna().sum() / len(airbnb_df)) * 100:.2f}%\")\n",
    "print(f\"percentage of instant_bookable NA value:\\t\\t {(airbnb_df['instant_bookable'].isna().sum() / len(airbnb_df)) * 100:.2f}%\")\n",
    "print(f\"percentage of cancellation_policy NA value:\\t\\t{(airbnb_df['cancellation_policy'].isna().sum() / len(airbnb_df)) * 100:.2f}%\")\n",
    "print(f\"percentage of price NA value:\\t\\t\\t\\t {(airbnb_df['price'].isna().sum() / len(airbnb_df)) * 100:.2f}%\")\n",
    "print(f\"percentage of service_fee NA value:\\t\\t\\t {(airbnb_df['service_fee'].isna().sum() / len(airbnb_df)) * 100:.2f}%\")\n",
    "print(f\"percentage of last_review NA value: \\t\\t\\t{(airbnb_df['last_review'].isna().sum() / len(airbnb_df)) * 100:.2f}%\")\n",
    "print(f\"percentage of house_rules NA value: \\t\\t\\t{(airbnb_df['house_rules'].isna().sum() / len(airbnb_df)) * 100:.2f}%\")\n",
    "print(f\"percentage of license NA value: \\t\\t\\t{(airbnb_df['license'].isna().sum() / len(airbnb_df)) * 100:.3f}%\")"
   ]
  },
  {
   "cell_type": "markdown",
   "metadata": {},
   "source": [
    "The percentage of null values in the `last_review`, `house_rules` (as seen before) and `license` variables is excessive and would not lead to useful information so I can **drop** these columns.\n",
    "<br>The `house_rules` column è quella in cui erano presenti valori problematici che ho sostituito con valori nulli, essendo nulli più della metà dei valori di questa variabile, significa che posso eliminare la colonna."
   ]
  },
  {
   "cell_type": "code",
   "execution_count": 142,
   "metadata": {},
   "outputs": [],
   "source": [
    "airbnb_df.drop(columns = [\"license\",\"house_rules\", \"last_review\"], axis=1, inplace = True)"
   ]
  },
  {
   "cell_type": "code",
   "execution_count": 143,
   "metadata": {},
   "outputs": [
    {
     "data": {
      "text/plain": [
       "(102599, 22)"
      ]
     },
     "execution_count": 143,
     "metadata": {},
     "output_type": "execute_result"
    }
   ],
   "source": [
    "airbnb_df.shape"
   ]
  },
  {
   "cell_type": "markdown",
   "metadata": {},
   "source": [
    "Vedo che le dimensioni del dataframe si sono ridotte dopo aver eliminato le quattro colonne indesiderate.<br>\n",
    "The null values related to *object* variables can be replaced with the **mode** that is the value that occurs the most in the variable, so it doesn't change the distribution a lot"
   ]
  },
  {
   "cell_type": "code",
   "execution_count": 144,
   "metadata": {},
   "outputs": [],
   "source": [
    "name_mode = airbnb_df['name'].mode()[0]\n",
    "airbnb_df['name'].fillna(name_mode, inplace=True)\n",
    "\n",
    "host_identity_verified_mode = airbnb_df['host_identity_verified'].mode()[0]\n",
    "airbnb_df['host_identity_verified'].fillna(host_identity_verified_mode, inplace=True)\n",
    "\n",
    "host_name_mode = airbnb_df['host_name'].mode()[0]\n",
    "airbnb_df['host_name'].fillna(host_name_mode, inplace=True)\n",
    "\n",
    "neighbourhood_group_mode = airbnb_df['neighbourhood_group'].mode()[0]\n",
    "airbnb_df['neighbourhood_group'].fillna(neighbourhood_group_mode, inplace=True)\n",
    "\n",
    "neighbourhood_mode = airbnb_df['neighbourhood'].mode()[0]\n",
    "airbnb_df['neighbourhood'].fillna(neighbourhood_mode, inplace=True)\n",
    "\n",
    "country_mode = airbnb_df['country'].mode()[0]\n",
    "airbnb_df['country'].fillna(country_mode, inplace=True)\n",
    "\n",
    "country_code_mode = airbnb_df['country_code'].mode()[0]\n",
    "airbnb_df['country_code'].fillna(country_code_mode, inplace=True)\n",
    "\n",
    "instant_bookable_mode = airbnb_df['instant_bookable'].mode()[0]\n",
    "airbnb_df['instant_bookable'].fillna(instant_bookable_mode, inplace=True)\n",
    "\n",
    "cancellation_policy_mode = airbnb_df['cancellation_policy'].mode()[0]\n",
    "airbnb_df['cancellation_policy'].fillna(cancellation_policy_mode, inplace=True)\n",
    "\n",
    "room_type_mode = airbnb_df['room_type'].mode()[0]\n",
    "airbnb_df['room_type'].fillna(room_type_mode, inplace=True)\n",
    "\n",
    "price_mode = airbnb_df['price'].mode()[0]\n",
    "airbnb_df['price'].fillna(price_mode, inplace=True)\n",
    "\n",
    "service_fee_mode = airbnb_df['service_fee'].mode()[0]\n",
    "airbnb_df['service_fee'].fillna(service_fee_mode, inplace=True)"
   ]
  },
  {
   "cell_type": "markdown",
   "metadata": {},
   "source": [
    "Now I check againg for NA values as I did before"
   ]
  },
  {
   "cell_type": "code",
   "execution_count": 145,
   "metadata": {},
   "outputs": [
    {
     "data": {
      "text/plain": [
       "id                                0\n",
       "name                              0\n",
       "host_id                           0\n",
       "host_identity_verified            0\n",
       "host_name                         0\n",
       "neighbourhood_group               0\n",
       "neighbourhood                     0\n",
       "lat                               0\n",
       "long                              0\n",
       "country                           0\n",
       "country_code                      0\n",
       "instant_bookable                  0\n",
       "cancellation_policy               0\n",
       "room_type                         0\n",
       "construction_year                 0\n",
       "price                             0\n",
       "service_fee                       0\n",
       "minimum_nights                    0\n",
       "number_of_reviews                 0\n",
       "review_rate_number                0\n",
       "calculated_host_listings_count    0\n",
       "availability_365                  0\n",
       "dtype: int64"
      ]
     },
     "execution_count": 145,
     "metadata": {},
     "output_type": "execute_result"
    }
   ],
   "source": [
    "airbnb_df.isnull().sum()"
   ]
  },
  {
   "cell_type": "markdown",
   "metadata": {},
   "source": [
    "Now that all the null values are settled i can proceed with the understanding of the values in the dataset, finding correlations between them. "
   ]
  },
  {
   "cell_type": "markdown",
   "metadata": {},
   "source": [
    "# Analysis of the values"
   ]
  },
  {
   "cell_type": "markdown",
   "metadata": {},
   "source": [
    "At this point I want to understand how the data are distributed within the main variables in order to find the most significant variables and some interesting aspects to analyze later."
   ]
  },
  {
   "cell_type": "markdown",
   "metadata": {},
   "source": [
    "GUARDO SE CI SONO OUTLIERS"
   ]
  },
  {
   "cell_type": "markdown",
   "metadata": {},
   "source": [
    "controllo un po i valori delle variabili che mi possono interessare in seguito"
   ]
  },
  {
   "cell_type": "code",
   "execution_count": 146,
   "metadata": {},
   "outputs": [
    {
     "data": {
      "text/plain": [
       "neighbourhood_group\n",
       "Manhattan        43821\n",
       "Brooklyn         41842\n",
       "Queens           13267\n",
       "Bronx             2712\n",
       "Staten Island      955\n",
       "brookln              1\n",
       "manhatan             1\n",
       "Name: count, dtype: int64"
      ]
     },
     "execution_count": 146,
     "metadata": {},
     "output_type": "execute_result"
    }
   ],
   "source": [
    "airbnb_df.neighbourhood_group.value_counts()"
   ]
  },
  {
   "cell_type": "markdown",
   "metadata": {},
   "source": [
    "I can see that brookln corrisponde a Brooklyn quindi voglio unire quei valori e anche manhattan con Manhattan"
   ]
  },
  {
   "cell_type": "code",
   "execution_count": 147,
   "metadata": {},
   "outputs": [
    {
     "name": "stdout",
     "output_type": "stream",
     "text": [
      "The value brookln is in the row with index: 13\n",
      "The value manhatan is in the row with index: 18\n"
     ]
    }
   ],
   "source": [
    "value_to_find='brookln'\n",
    "index_row = (airbnb_df == value_to_find).any(axis=1).idxmax()\n",
    "print(\"The value\", value_to_find, \"is in the row with index:\", index_row)\n",
    "value2_to_find='manhatan'\n",
    "index2_row = (airbnb_df == value2_to_find).any(axis=1).idxmax()\n",
    "print(\"The value\", value2_to_find, \"is in the row with index:\", index2_row)\n"
   ]
  },
  {
   "cell_type": "markdown",
   "metadata": {},
   "source": [
    "lo modifico:"
   ]
  },
  {
   "cell_type": "code",
   "execution_count": 148,
   "metadata": {},
   "outputs": [],
   "source": [
    "airbnb_df['neighbourhood_group'][13] = 'Brooklyn'\n",
    "airbnb_df['neighbourhood_group'][18] = 'Manhattan'"
   ]
  },
  {
   "cell_type": "code",
   "execution_count": 149,
   "metadata": {},
   "outputs": [
    {
     "data": {
      "text/plain": [
       "neighbourhood_group\n",
       "Manhattan        43822\n",
       "Brooklyn         41843\n",
       "Queens           13267\n",
       "Bronx             2712\n",
       "Staten Island      955\n",
       "Name: count, dtype: int64"
      ]
     },
     "execution_count": 149,
     "metadata": {},
     "output_type": "execute_result"
    }
   ],
   "source": [
    "airbnb_df.neighbourhood_group.value_counts()"
   ]
  },
  {
   "cell_type": "code",
   "execution_count": 150,
   "metadata": {},
   "outputs": [
    {
     "data": {
      "text/plain": [
       "neighbourhood\n",
       "Bedford-Stuyvesant        7953\n",
       "Williamsburg              7775\n",
       "Harlem                    5466\n",
       "Bushwick                  4982\n",
       "Hell's Kitchen            3965\n",
       "                          ... \n",
       "Rossville                    3\n",
       "Lighthouse Hill              3\n",
       "Fort Wadsworth               2\n",
       "Glen Oaks                    2\n",
       "Chelsea, Staten Island       1\n",
       "Name: count, Length: 224, dtype: int64"
      ]
     },
     "execution_count": 150,
     "metadata": {},
     "output_type": "execute_result"
    }
   ],
   "source": [
    "airbnb_df.neighbourhood.value_counts()"
   ]
  },
  {
   "cell_type": "code",
   "execution_count": 151,
   "metadata": {},
   "outputs": [
    {
     "data": {
      "text/plain": [
       "country\n",
       "United States    102599\n",
       "Name: count, dtype: int64"
      ]
     },
     "execution_count": 151,
     "metadata": {},
     "output_type": "execute_result"
    }
   ],
   "source": [
    "airbnb_df.country.value_counts()"
   ]
  },
  {
   "cell_type": "markdown",
   "metadata": {},
   "source": [
    "Ovviamnete, siccome si tratta di un dataset riguardante gli airbnb di new york tutti si trovano negli stati uniti"
   ]
  },
  {
   "cell_type": "code",
   "execution_count": 152,
   "metadata": {},
   "outputs": [
    {
     "data": {
      "text/plain": [
       "room_type\n",
       "Entire home/apt    53701\n",
       "Private room       46556\n",
       "Shared room         2226\n",
       "Hotel room           116\n",
       "Name: count, dtype: int64"
      ]
     },
     "execution_count": 152,
     "metadata": {},
     "output_type": "execute_result"
    }
   ],
   "source": [
    "airbnb_df.room_type.value_counts()"
   ]
  },
  {
   "cell_type": "markdown",
   "metadata": {},
   "source": [
    "POTREI FARE QUALCOSA CON QUESTE TIPOLOGIE DI CAMERE"
   ]
  },
  {
   "cell_type": "code",
   "execution_count": 153,
   "metadata": {},
   "outputs": [
    {
     "data": {
      "text/plain": [
       "construction_year\n",
       "2014.000000    5243\n",
       "2008.000000    5225\n",
       "2006.000000    5223\n",
       "2019.000000    5201\n",
       "2009.000000    5166\n",
       "2020.000000    5158\n",
       "2010.000000    5155\n",
       "2022.000000    5134\n",
       "2005.000000    5132\n",
       "2012.000000    5131\n",
       "2003.000000    5125\n",
       "2007.000000    5106\n",
       "2015.000000    5094\n",
       "2017.000000    5066\n",
       "2011.000000    5058\n",
       "2018.000000    5057\n",
       "2021.000000    5039\n",
       "2004.000000    5037\n",
       "2013.000000    5018\n",
       "2016.000000    5017\n",
       "2012.487464     214\n",
       "Name: count, dtype: int64"
      ]
     },
     "execution_count": 153,
     "metadata": {},
     "output_type": "execute_result"
    }
   ],
   "source": [
    "airbnb_df.construction_year.value_counts()"
   ]
  },
  {
   "cell_type": "code",
   "execution_count": 154,
   "metadata": {},
   "outputs": [
    {
     "data": {
      "text/plain": [
       "dtype('float64')"
      ]
     },
     "execution_count": 154,
     "metadata": {},
     "output_type": "execute_result"
    }
   ],
   "source": [
    "airbnb_df.construction_year.dtype"
   ]
  },
  {
   "cell_type": "code",
   "execution_count": 155,
   "metadata": {},
   "outputs": [],
   "source": [
    "airbnb_df.construction_year = airbnb_df.construction_year.astype(int)"
   ]
  },
  {
   "cell_type": "code",
   "execution_count": 156,
   "metadata": {},
   "outputs": [
    {
     "data": {
      "text/plain": [
       "construction_year\n",
       "2012    5345\n",
       "2014    5243\n",
       "2008    5225\n",
       "2006    5223\n",
       "2019    5201\n",
       "2009    5166\n",
       "2020    5158\n",
       "2010    5155\n",
       "2022    5134\n",
       "2005    5132\n",
       "2003    5125\n",
       "2007    5106\n",
       "2015    5094\n",
       "2017    5066\n",
       "2011    5058\n",
       "2018    5057\n",
       "2021    5039\n",
       "2004    5037\n",
       "2013    5018\n",
       "2016    5017\n",
       "Name: count, dtype: int64"
      ]
     },
     "execution_count": 156,
     "metadata": {},
     "output_type": "execute_result"
    }
   ],
   "source": [
    "airbnb_df.construction_year.value_counts()"
   ]
  },
  {
   "cell_type": "markdown",
   "metadata": {},
   "source": [
    "ho convertito da float a interi i valori riguardanti la variabile construction_year "
   ]
  },
  {
   "cell_type": "markdown",
   "metadata": {},
   "source": [
    "Prima di tutto vorrei trasformare i valori della colonna contrsuction_year in interi e non float e poi potrei studiare tipo quale anno sono stati costrutiti piu airbnbn appartamenti e vedere che effettivmaente si va sempre in crescendo man mano che passano gli anni vengono costruiti sempre piu appartamenti che poi si affidano alla piattFORMA AIRBNB PER ospitare"
   ]
  },
  {
   "cell_type": "code",
   "execution_count": 157,
   "metadata": {},
   "outputs": [
    {
     "data": {
      "text/plain": [
       "minimum_nights\n",
       " 1.0      25421\n",
       " 2.0      23604\n",
       " 3.0      16113\n",
       " 30.0     11653\n",
       " 4.0       6625\n",
       "          ...  \n",
       "-3.0          1\n",
       " 273.0        1\n",
       " 175.0        1\n",
       " 98.0         1\n",
       " 825.0        1\n",
       "Name: count, Length: 154, dtype: int64"
      ]
     },
     "execution_count": 157,
     "metadata": {},
     "output_type": "execute_result"
    }
   ],
   "source": [
    "airbnb_df.minimum_nights.value_counts()"
   ]
  },
  {
   "cell_type": "markdown",
   "metadata": {},
   "source": [
    "probabilmente in questa colonna ci sono outliers perche non è possibile che il numero minimo di notti in cui si puo alloggiare sia negativo e altri valori invece sembrano troppo grandi STUDIO OUTLIERS\n",
    "indetificare gli outliers helps us find potential mistakes in the dataset "
   ]
  },
  {
   "cell_type": "code",
   "execution_count": 158,
   "metadata": {},
   "outputs": [
    {
     "name": "stdout",
     "output_type": "stream",
     "text": [
      "             id                                               name  \\\n",
      "42446  24444262            Cozy room in bright, spacious apartment   \n",
      "42500  24474086  2bd BOUTIQUE  Apartament in the heart of MANHA...   \n",
      "42538  24495073                   Newly Renovated Garden Apartment   \n",
      "69749  39523709                Amazing location! 10ft from L train   \n",
      "\n",
      "           host_id host_identity_verified           host_name  \\\n",
      "42446  84040511136               verified              Steven   \n",
      "42500   2679070022            unconfirmed                 Tom   \n",
      "42538  98469733112               verified              Margie   \n",
      "69749  62132542936               verified  Giorgia & Benjamin   \n",
      "\n",
      "      neighbourhood_group       neighbourhood       lat      long  \\\n",
      "42446               Bronx         Hunts Point  40.81731 -73.89052   \n",
      "42500           Manhattan      Hell's Kitchen  40.76694 -73.98773   \n",
      "42538            Brooklyn  Bedford-Stuyvesant  40.68470 -73.94350   \n",
      "69749            Brooklyn        Williamsburg  40.71534 -73.94906   \n",
      "\n",
      "             country  ... cancellation_policy        room_type  \\\n",
      "42446  United States  ...            moderate     Private room   \n",
      "42500  United States  ...            flexible  Entire home/apt   \n",
      "42538  United States  ...            moderate  Entire home/apt   \n",
      "69749  United States  ...            moderate     Private room   \n",
      "\n",
      "      construction_year    price  service_fee minimum_nights  \\\n",
      "42446              2003  $1,200         $240         -1223.0   \n",
      "42500              2009    $711         $142          -365.0   \n",
      "42538              2022     $85          $17          -200.0   \n",
      "69749              2012    $328          $66          -125.0   \n",
      "\n",
      "      number_of_reviews  review_rate_number  calculated_host_listings_count  \\\n",
      "42446               0.0                 2.0                             4.0   \n",
      "42500              13.0                 4.0                             4.0   \n",
      "42538               3.0                 2.0                             1.0   \n",
      "69749             146.0                 1.0                             1.0   \n",
      "\n",
      "       availability_365  \n",
      "42446             341.0  \n",
      "42500               0.0  \n",
      "42538             157.0  \n",
      "69749              46.0  \n",
      "\n",
      "[4 rows x 22 columns]\n"
     ]
    }
   ],
   "source": [
    "#to study the outliers: calculate mean and standard deviation\n",
    "mean_minimum_nights = airbnb_df.minimum_nights.mean()\n",
    "std_minimum_nights = airbnb_df.minimum_nights.std()\n",
    "\n",
    "#calculate upper and lower bound\n",
    "upper_bound = mean_minimum_nights+2*std_minimum_nights\n",
    "lower_bound = mean_minimum_nights-2*std_minimum_nights\n",
    "\n",
    "#display outliers using boolean masks\n",
    "outliers = airbnb_df[airbnb_df['minimum_nights']>upper_bound]\n",
    "outliers = airbnb_df[airbnb_df['minimum_nights']<lower_bound]\n",
    "print(outliers)\n",
    "\n"
   ]
  },
  {
   "cell_type": "markdown",
   "metadata": {},
   "source": [
    "GUARDA CHE VALORI HANNO IL MINIMO NOTTI IN QUESTI E CONTORLAL SU CHAT GPT COME SI FA"
   ]
  },
  {
   "cell_type": "code",
   "execution_count": 159,
   "metadata": {},
   "outputs": [
    {
     "data": {
      "text/plain": [
       "-365.0"
      ]
     },
     "execution_count": 159,
     "metadata": {},
     "output_type": "execute_result"
    }
   ],
   "source": [
    "#DA ELIMINAREEEEE\n",
    "airbnb_df['minimum_nights'][42500]"
   ]
  },
  {
   "cell_type": "code",
   "execution_count": 160,
   "metadata": {},
   "outputs": [
    {
     "name": "stdout",
     "output_type": "stream",
     "text": [
      "The value -3.0 is in the row with index: 525\n"
     ]
    }
   ],
   "source": [
    "#DA ELIMINAREEEEEEEE\n",
    "alue_to_find=-3.0\n",
    "indexx_row = (airbnb_df == alue_to_find).any(axis=1).idxmax()\n",
    "print(\"The value\", alue_to_find, \"is in the row with index:\", indexx_row)"
   ]
  },
  {
   "cell_type": "code",
   "execution_count": 161,
   "metadata": {},
   "outputs": [
    {
     "data": {
      "text/html": [
       "<div>\n",
       "<style scoped>\n",
       "    .dataframe tbody tr th:only-of-type {\n",
       "        vertical-align: middle;\n",
       "    }\n",
       "\n",
       "    .dataframe tbody tr th {\n",
       "        vertical-align: top;\n",
       "    }\n",
       "\n",
       "    .dataframe thead th {\n",
       "        text-align: right;\n",
       "    }\n",
       "</style>\n",
       "<table border=\"1\" class=\"dataframe\">\n",
       "  <thead>\n",
       "    <tr style=\"text-align: right;\">\n",
       "      <th></th>\n",
       "      <th>id</th>\n",
       "      <th>name</th>\n",
       "      <th>host_id</th>\n",
       "      <th>host_identity_verified</th>\n",
       "      <th>host_name</th>\n",
       "      <th>neighbourhood_group</th>\n",
       "      <th>neighbourhood</th>\n",
       "      <th>lat</th>\n",
       "      <th>long</th>\n",
       "      <th>country</th>\n",
       "      <th>...</th>\n",
       "      <th>cancellation_policy</th>\n",
       "      <th>room_type</th>\n",
       "      <th>construction_year</th>\n",
       "      <th>price</th>\n",
       "      <th>service_fee</th>\n",
       "      <th>minimum_nights</th>\n",
       "      <th>number_of_reviews</th>\n",
       "      <th>review_rate_number</th>\n",
       "      <th>calculated_host_listings_count</th>\n",
       "      <th>availability_365</th>\n",
       "    </tr>\n",
       "  </thead>\n",
       "  <tbody>\n",
       "    <tr>\n",
       "      <th>176</th>\n",
       "      <td>1098541</td>\n",
       "      <td>BROOKLYN VICTORIAN STYLE SUITE.....</td>\n",
       "      <td>83631499592</td>\n",
       "      <td>unconfirmed</td>\n",
       "      <td>Frederick</td>\n",
       "      <td>Brooklyn</td>\n",
       "      <td>Fort Greene</td>\n",
       "      <td>40.69098</td>\n",
       "      <td>-73.97113</td>\n",
       "      <td>United States</td>\n",
       "      <td>...</td>\n",
       "      <td>flexible</td>\n",
       "      <td>Private room</td>\n",
       "      <td>2008</td>\n",
       "      <td>$1,155</td>\n",
       "      <td>$231</td>\n",
       "      <td>-10.0</td>\n",
       "      <td>213.0</td>\n",
       "      <td>5.0</td>\n",
       "      <td>2.0</td>\n",
       "      <td>19.0</td>\n",
       "    </tr>\n",
       "    <tr>\n",
       "      <th>352</th>\n",
       "      <td>1195746</td>\n",
       "      <td>Beautiful, Bright’s, Warm &amp; Spacious 1.5BR Apt</td>\n",
       "      <td>2227683633</td>\n",
       "      <td>unconfirmed</td>\n",
       "      <td>Grant</td>\n",
       "      <td>Brooklyn</td>\n",
       "      <td>Crown Heights</td>\n",
       "      <td>40.67174</td>\n",
       "      <td>-73.95663</td>\n",
       "      <td>United States</td>\n",
       "      <td>...</td>\n",
       "      <td>moderate</td>\n",
       "      <td>Entire home/apt</td>\n",
       "      <td>2009</td>\n",
       "      <td>$73</td>\n",
       "      <td>$15</td>\n",
       "      <td>-5.0</td>\n",
       "      <td>104.0</td>\n",
       "      <td>5.0</td>\n",
       "      <td>1.0</td>\n",
       "      <td>31.0</td>\n",
       "    </tr>\n",
       "    <tr>\n",
       "      <th>398</th>\n",
       "      <td>1221151</td>\n",
       "      <td>SUPER BIG AND COZY PRIVATE BEDROOM</td>\n",
       "      <td>50336791874</td>\n",
       "      <td>verified</td>\n",
       "      <td>Tucker</td>\n",
       "      <td>Brooklyn</td>\n",
       "      <td>Kensington</td>\n",
       "      <td>40.64302</td>\n",
       "      <td>-73.97255</td>\n",
       "      <td>United States</td>\n",
       "      <td>...</td>\n",
       "      <td>flexible</td>\n",
       "      <td>Private room</td>\n",
       "      <td>2015</td>\n",
       "      <td>$779</td>\n",
       "      <td>$156</td>\n",
       "      <td>-1.0</td>\n",
       "      <td>82.0</td>\n",
       "      <td>2.0</td>\n",
       "      <td>2.0</td>\n",
       "      <td>131.0</td>\n",
       "    </tr>\n",
       "    <tr>\n",
       "      <th>421</th>\n",
       "      <td>1233854</td>\n",
       "      <td>Charming Nolita Apartment!!</td>\n",
       "      <td>7389895192</td>\n",
       "      <td>verified</td>\n",
       "      <td>Belinda</td>\n",
       "      <td>Manhattan</td>\n",
       "      <td>Nolita</td>\n",
       "      <td>40.72094</td>\n",
       "      <td>-73.99706</td>\n",
       "      <td>United States</td>\n",
       "      <td>...</td>\n",
       "      <td>flexible</td>\n",
       "      <td>Entire home/apt</td>\n",
       "      <td>2008</td>\n",
       "      <td>$874</td>\n",
       "      <td>$175</td>\n",
       "      <td>-10.0</td>\n",
       "      <td>68.0</td>\n",
       "      <td>5.0</td>\n",
       "      <td>1.0</td>\n",
       "      <td>13.0</td>\n",
       "    </tr>\n",
       "    <tr>\n",
       "      <th>441</th>\n",
       "      <td>1244900</td>\n",
       "      <td>Cozy apartment in a brownstone</td>\n",
       "      <td>81186886194</td>\n",
       "      <td>verified</td>\n",
       "      <td>Adelaide</td>\n",
       "      <td>Manhattan</td>\n",
       "      <td>Harlem</td>\n",
       "      <td>40.80497</td>\n",
       "      <td>-73.95016</td>\n",
       "      <td>United States</td>\n",
       "      <td>...</td>\n",
       "      <td>moderate</td>\n",
       "      <td>Entire home/apt</td>\n",
       "      <td>2021</td>\n",
       "      <td>$920</td>\n",
       "      <td>$184</td>\n",
       "      <td>-12.0</td>\n",
       "      <td>203.0</td>\n",
       "      <td>5.0</td>\n",
       "      <td>3.0</td>\n",
       "      <td>77.0</td>\n",
       "    </tr>\n",
       "  </tbody>\n",
       "</table>\n",
       "<p>5 rows × 22 columns</p>\n",
       "</div>"
      ],
      "text/plain": [
       "          id                                            name      host_id  \\\n",
       "176  1098541             BROOKLYN VICTORIAN STYLE SUITE.....  83631499592   \n",
       "352  1195746  Beautiful, Bright’s, Warm & Spacious 1.5BR Apt   2227683633   \n",
       "398  1221151              SUPER BIG AND COZY PRIVATE BEDROOM  50336791874   \n",
       "421  1233854                     Charming Nolita Apartment!!   7389895192   \n",
       "441  1244900                  Cozy apartment in a brownstone  81186886194   \n",
       "\n",
       "    host_identity_verified  host_name neighbourhood_group  neighbourhood  \\\n",
       "176            unconfirmed  Frederick            Brooklyn    Fort Greene   \n",
       "352            unconfirmed      Grant            Brooklyn  Crown Heights   \n",
       "398               verified     Tucker            Brooklyn     Kensington   \n",
       "421               verified    Belinda           Manhattan         Nolita   \n",
       "441               verified   Adelaide           Manhattan         Harlem   \n",
       "\n",
       "          lat      long        country  ... cancellation_policy  \\\n",
       "176  40.69098 -73.97113  United States  ...            flexible   \n",
       "352  40.67174 -73.95663  United States  ...            moderate   \n",
       "398  40.64302 -73.97255  United States  ...            flexible   \n",
       "421  40.72094 -73.99706  United States  ...            flexible   \n",
       "441  40.80497 -73.95016  United States  ...            moderate   \n",
       "\n",
       "           room_type construction_year    price  service_fee minimum_nights  \\\n",
       "176     Private room              2008  $1,155         $231           -10.0   \n",
       "352  Entire home/apt              2009     $73          $15            -5.0   \n",
       "398     Private room              2015    $779         $156            -1.0   \n",
       "421  Entire home/apt              2008    $874         $175           -10.0   \n",
       "441  Entire home/apt              2021    $920         $184           -12.0   \n",
       "\n",
       "    number_of_reviews  review_rate_number  calculated_host_listings_count  \\\n",
       "176             213.0                 5.0                             2.0   \n",
       "352             104.0                 5.0                             1.0   \n",
       "398              82.0                 2.0                             2.0   \n",
       "421              68.0                 5.0                             1.0   \n",
       "441             203.0                 5.0                             3.0   \n",
       "\n",
       "     availability_365  \n",
       "176              19.0  \n",
       "352              31.0  \n",
       "398             131.0  \n",
       "421              13.0  \n",
       "441              77.0  \n",
       "\n",
       "[5 rows x 22 columns]"
      ]
     },
     "execution_count": 161,
     "metadata": {},
     "output_type": "execute_result"
    }
   ],
   "source": [
    "airbnb_df[airbnb_df['minimum_nights']<0].head(5)"
   ]
  },
  {
   "cell_type": "markdown",
   "metadata": {},
   "source": [
    "questi valori indicano inconsistenza nei dati e devo rimuovere queste righe oppure rimpiazzare le celle negative with 0\n",
    "\n",
    "OPTO PER METTERE 0"
   ]
  },
  {
   "cell_type": "code",
   "execution_count": 162,
   "metadata": {},
   "outputs": [],
   "source": [
    "# Seleziona le righe con 'minimum_nights' negativo e assegna loro il valore 0 nella colonna minimum_night\n",
    "airbnb_df.loc[airbnb_df['minimum_nights'] < 0, 'minimum_nights'] = 0"
   ]
  },
  {
   "cell_type": "code",
   "execution_count": 163,
   "metadata": {},
   "outputs": [
    {
     "data": {
      "text/plain": [
       "minimum_nights\n",
       "1.0      25421\n",
       "2.0      23604\n",
       "3.0      16113\n",
       "30.0     11653\n",
       "4.0       6625\n",
       "         ...  \n",
       "131.0        1\n",
       "122.0        1\n",
       "175.0        1\n",
       "98.0         1\n",
       "825.0        1\n",
       "Name: count, Length: 145, dtype: int64"
      ]
     },
     "execution_count": 163,
     "metadata": {},
     "output_type": "execute_result"
    }
   ],
   "source": [
    "airbnb_df.minimum_nights.value_counts()"
   ]
  },
  {
   "cell_type": "code",
   "execution_count": 164,
   "metadata": {},
   "outputs": [
    {
     "data": {
      "text/html": [
       "<div>\n",
       "<style scoped>\n",
       "    .dataframe tbody tr th:only-of-type {\n",
       "        vertical-align: middle;\n",
       "    }\n",
       "\n",
       "    .dataframe tbody tr th {\n",
       "        vertical-align: top;\n",
       "    }\n",
       "\n",
       "    .dataframe thead th {\n",
       "        text-align: right;\n",
       "    }\n",
       "</style>\n",
       "<table border=\"1\" class=\"dataframe\">\n",
       "  <thead>\n",
       "    <tr style=\"text-align: right;\">\n",
       "      <th></th>\n",
       "      <th>id</th>\n",
       "      <th>name</th>\n",
       "      <th>host_id</th>\n",
       "      <th>host_identity_verified</th>\n",
       "      <th>host_name</th>\n",
       "      <th>neighbourhood_group</th>\n",
       "      <th>neighbourhood</th>\n",
       "      <th>lat</th>\n",
       "      <th>long</th>\n",
       "      <th>country</th>\n",
       "      <th>...</th>\n",
       "      <th>cancellation_policy</th>\n",
       "      <th>room_type</th>\n",
       "      <th>construction_year</th>\n",
       "      <th>price</th>\n",
       "      <th>service_fee</th>\n",
       "      <th>minimum_nights</th>\n",
       "      <th>number_of_reviews</th>\n",
       "      <th>review_rate_number</th>\n",
       "      <th>calculated_host_listings_count</th>\n",
       "      <th>availability_365</th>\n",
       "    </tr>\n",
       "  </thead>\n",
       "  <tbody>\n",
       "  </tbody>\n",
       "</table>\n",
       "<p>0 rows × 22 columns</p>\n",
       "</div>"
      ],
      "text/plain": [
       "Empty DataFrame\n",
       "Columns: [id, name, host_id, host_identity_verified, host_name, neighbourhood_group, neighbourhood, lat, long, country, country_code, instant_bookable, cancellation_policy, room_type, construction_year, price, service_fee, minimum_nights, number_of_reviews, review_rate_number, calculated_host_listings_count, availability_365]\n",
       "Index: []\n",
       "\n",
       "[0 rows x 22 columns]"
      ]
     },
     "execution_count": 164,
     "metadata": {},
     "output_type": "execute_result"
    }
   ],
   "source": [
    "airbnb_df[airbnb_df['minimum_nights']<0]"
   ]
  },
  {
   "cell_type": "markdown",
   "metadata": {},
   "source": [
    "vedo che ora non ho più inconsistenza nella varibaile minimum_night"
   ]
  },
  {
   "cell_type": "code",
   "execution_count": 165,
   "metadata": {},
   "outputs": [
    {
     "data": {
      "text/plain": [
       "number_of_reviews\n",
       "0.0      15734\n",
       "1.0      10408\n",
       "2.0       7175\n",
       "3.0       5375\n",
       "4.0       4151\n",
       "         ...  \n",
       "638.0        1\n",
       "385.0        1\n",
       "469.0        1\n",
       "406.0        1\n",
       "300.0        1\n",
       "Name: count, Length: 477, dtype: int64"
      ]
     },
     "execution_count": 165,
     "metadata": {},
     "output_type": "execute_result"
    }
   ],
   "source": [
    "airbnb_df.number_of_reviews.value_counts()"
   ]
  },
  {
   "cell_type": "code",
   "execution_count": 166,
   "metadata": {},
   "outputs": [
    {
     "data": {
      "text/plain": [
       "review_rate_number\n",
       "5.000000    23369\n",
       "4.000000    23329\n",
       "3.000000    23265\n",
       "2.000000    23098\n",
       "1.000000     9212\n",
       "3.279106      326\n",
       "Name: count, dtype: int64"
      ]
     },
     "execution_count": 166,
     "metadata": {},
     "output_type": "execute_result"
    }
   ],
   "source": [
    "airbnb_df.review_rate_number.value_counts()"
   ]
  },
  {
   "cell_type": "markdown",
   "metadata": {},
   "source": [
    "questo è interessante sicuro posso utilizzarlo in seguito"
   ]
  },
  {
   "cell_type": "code",
   "execution_count": 167,
   "metadata": {},
   "outputs": [
    {
     "data": {
      "text/plain": [
       "calculated_host_listings_count\n",
       "1.0     63429\n",
       "2.0     14445\n",
       "3.0      6577\n",
       "4.0      3552\n",
       "5.0      1995\n",
       "        ...  \n",
       "86.0       21\n",
       "22.0       20\n",
       "55.0       15\n",
       "46.0        9\n",
       "80.0        7\n",
       "Name: count, Length: 79, dtype: int64"
      ]
     },
     "execution_count": 167,
     "metadata": {},
     "output_type": "execute_result"
    }
   ],
   "source": [
    "airbnb_df.calculated_host_listings_count.value_counts()"
   ]
  },
  {
   "cell_type": "markdown",
   "metadata": {},
   "source": [
    "63429 hosts hanno 1 listing mentre 7 hosts hanno 80 listing"
   ]
  },
  {
   "cell_type": "markdown",
   "metadata": {},
   "source": [
    "ORA CORRELAZIONE TRA VARIABILI"
   ]
  },
  {
   "cell_type": "code",
   "execution_count": 168,
   "metadata": {},
   "outputs": [
    {
     "data": {
      "text/html": [
       "<div>\n",
       "<style scoped>\n",
       "    .dataframe tbody tr th:only-of-type {\n",
       "        vertical-align: middle;\n",
       "    }\n",
       "\n",
       "    .dataframe tbody tr th {\n",
       "        vertical-align: top;\n",
       "    }\n",
       "\n",
       "    .dataframe thead th {\n",
       "        text-align: right;\n",
       "    }\n",
       "</style>\n",
       "<table border=\"1\" class=\"dataframe\">\n",
       "  <thead>\n",
       "    <tr style=\"text-align: right;\">\n",
       "      <th></th>\n",
       "      <th>id</th>\n",
       "      <th>host_id</th>\n",
       "      <th>lat</th>\n",
       "      <th>long</th>\n",
       "      <th>instant_bookable</th>\n",
       "      <th>construction_year</th>\n",
       "      <th>minimum_nights</th>\n",
       "      <th>number_of_reviews</th>\n",
       "      <th>review_rate_number</th>\n",
       "      <th>calculated_host_listings_count</th>\n",
       "      <th>availability_365</th>\n",
       "    </tr>\n",
       "  </thead>\n",
       "  <tbody>\n",
       "    <tr>\n",
       "      <th>id</th>\n",
       "      <td>1.000000</td>\n",
       "      <td>-0.000830</td>\n",
       "      <td>-0.008831</td>\n",
       "      <td>0.042542</td>\n",
       "      <td>0.005925</td>\n",
       "      <td>0.001267</td>\n",
       "      <td>0.005550</td>\n",
       "      <td>-0.041510</td>\n",
       "      <td>0.036553</td>\n",
       "      <td>0.024242</td>\n",
       "      <td>-0.138899</td>\n",
       "    </tr>\n",
       "    <tr>\n",
       "      <th>host_id</th>\n",
       "      <td>-0.000830</td>\n",
       "      <td>1.000000</td>\n",
       "      <td>0.000661</td>\n",
       "      <td>-0.008999</td>\n",
       "      <td>0.003728</td>\n",
       "      <td>0.004870</td>\n",
       "      <td>-0.001866</td>\n",
       "      <td>-0.004499</td>\n",
       "      <td>0.003453</td>\n",
       "      <td>0.001719</td>\n",
       "      <td>-0.002040</td>\n",
       "    </tr>\n",
       "    <tr>\n",
       "      <th>lat</th>\n",
       "      <td>-0.008831</td>\n",
       "      <td>0.000661</td>\n",
       "      <td>1.000000</td>\n",
       "      <td>0.074348</td>\n",
       "      <td>0.001128</td>\n",
       "      <td>0.005693</td>\n",
       "      <td>0.015648</td>\n",
       "      <td>-0.025218</td>\n",
       "      <td>-0.003910</td>\n",
       "      <td>0.032408</td>\n",
       "      <td>-0.005000</td>\n",
       "    </tr>\n",
       "    <tr>\n",
       "      <th>long</th>\n",
       "      <td>0.042542</td>\n",
       "      <td>-0.008999</td>\n",
       "      <td>0.074348</td>\n",
       "      <td>1.000000</td>\n",
       "      <td>-0.004006</td>\n",
       "      <td>0.000881</td>\n",
       "      <td>-0.039541</td>\n",
       "      <td>0.069121</td>\n",
       "      <td>0.015254</td>\n",
       "      <td>-0.104033</td>\n",
       "      <td>0.058319</td>\n",
       "    </tr>\n",
       "    <tr>\n",
       "      <th>instant_bookable</th>\n",
       "      <td>0.005925</td>\n",
       "      <td>0.003728</td>\n",
       "      <td>0.001128</td>\n",
       "      <td>-0.004006</td>\n",
       "      <td>1.000000</td>\n",
       "      <td>0.002601</td>\n",
       "      <td>-0.002934</td>\n",
       "      <td>0.000803</td>\n",
       "      <td>0.002977</td>\n",
       "      <td>-0.000055</td>\n",
       "      <td>-0.004655</td>\n",
       "    </tr>\n",
       "    <tr>\n",
       "      <th>construction_year</th>\n",
       "      <td>0.001267</td>\n",
       "      <td>0.004870</td>\n",
       "      <td>0.005693</td>\n",
       "      <td>0.000881</td>\n",
       "      <td>0.002601</td>\n",
       "      <td>1.000000</td>\n",
       "      <td>-0.001109</td>\n",
       "      <td>0.001864</td>\n",
       "      <td>0.004772</td>\n",
       "      <td>-0.002715</td>\n",
       "      <td>-0.008272</td>\n",
       "    </tr>\n",
       "    <tr>\n",
       "      <th>minimum_nights</th>\n",
       "      <td>0.005550</td>\n",
       "      <td>-0.001866</td>\n",
       "      <td>0.015648</td>\n",
       "      <td>-0.039541</td>\n",
       "      <td>-0.002934</td>\n",
       "      <td>-0.001109</td>\n",
       "      <td>1.000000</td>\n",
       "      <td>-0.050397</td>\n",
       "      <td>-0.002630</td>\n",
       "      <td>0.085267</td>\n",
       "      <td>0.060231</td>\n",
       "    </tr>\n",
       "    <tr>\n",
       "      <th>number_of_reviews</th>\n",
       "      <td>-0.041510</td>\n",
       "      <td>-0.004499</td>\n",
       "      <td>-0.025218</td>\n",
       "      <td>0.069121</td>\n",
       "      <td>0.000803</td>\n",
       "      <td>0.001864</td>\n",
       "      <td>-0.050397</td>\n",
       "      <td>1.000000</td>\n",
       "      <td>-0.018317</td>\n",
       "      <td>-0.080787</td>\n",
       "      <td>0.098712</td>\n",
       "    </tr>\n",
       "    <tr>\n",
       "      <th>review_rate_number</th>\n",
       "      <td>0.036553</td>\n",
       "      <td>0.003453</td>\n",
       "      <td>-0.003910</td>\n",
       "      <td>0.015254</td>\n",
       "      <td>0.002977</td>\n",
       "      <td>0.004772</td>\n",
       "      <td>-0.002630</td>\n",
       "      <td>-0.018317</td>\n",
       "      <td>1.000000</td>\n",
       "      <td>0.024214</td>\n",
       "      <td>-0.006195</td>\n",
       "    </tr>\n",
       "    <tr>\n",
       "      <th>calculated_host_listings_count</th>\n",
       "      <td>0.024242</td>\n",
       "      <td>0.001719</td>\n",
       "      <td>0.032408</td>\n",
       "      <td>-0.104033</td>\n",
       "      <td>-0.000055</td>\n",
       "      <td>-0.002715</td>\n",
       "      <td>0.085267</td>\n",
       "      <td>-0.080787</td>\n",
       "      <td>0.024214</td>\n",
       "      <td>1.000000</td>\n",
       "      <td>0.158814</td>\n",
       "    </tr>\n",
       "    <tr>\n",
       "      <th>availability_365</th>\n",
       "      <td>-0.138899</td>\n",
       "      <td>-0.002040</td>\n",
       "      <td>-0.005000</td>\n",
       "      <td>0.058319</td>\n",
       "      <td>-0.004655</td>\n",
       "      <td>-0.008272</td>\n",
       "      <td>0.060231</td>\n",
       "      <td>0.098712</td>\n",
       "      <td>-0.006195</td>\n",
       "      <td>0.158814</td>\n",
       "      <td>1.000000</td>\n",
       "    </tr>\n",
       "  </tbody>\n",
       "</table>\n",
       "</div>"
      ],
      "text/plain": [
       "                                      id   host_id       lat      long  \\\n",
       "id                              1.000000 -0.000830 -0.008831  0.042542   \n",
       "host_id                        -0.000830  1.000000  0.000661 -0.008999   \n",
       "lat                            -0.008831  0.000661  1.000000  0.074348   \n",
       "long                            0.042542 -0.008999  0.074348  1.000000   \n",
       "instant_bookable                0.005925  0.003728  0.001128 -0.004006   \n",
       "construction_year               0.001267  0.004870  0.005693  0.000881   \n",
       "minimum_nights                  0.005550 -0.001866  0.015648 -0.039541   \n",
       "number_of_reviews              -0.041510 -0.004499 -0.025218  0.069121   \n",
       "review_rate_number              0.036553  0.003453 -0.003910  0.015254   \n",
       "calculated_host_listings_count  0.024242  0.001719  0.032408 -0.104033   \n",
       "availability_365               -0.138899 -0.002040 -0.005000  0.058319   \n",
       "\n",
       "                                instant_bookable  construction_year  \\\n",
       "id                                      0.005925           0.001267   \n",
       "host_id                                 0.003728           0.004870   \n",
       "lat                                     0.001128           0.005693   \n",
       "long                                   -0.004006           0.000881   \n",
       "instant_bookable                        1.000000           0.002601   \n",
       "construction_year                       0.002601           1.000000   \n",
       "minimum_nights                         -0.002934          -0.001109   \n",
       "number_of_reviews                       0.000803           0.001864   \n",
       "review_rate_number                      0.002977           0.004772   \n",
       "calculated_host_listings_count         -0.000055          -0.002715   \n",
       "availability_365                       -0.004655          -0.008272   \n",
       "\n",
       "                                minimum_nights  number_of_reviews  \\\n",
       "id                                    0.005550          -0.041510   \n",
       "host_id                              -0.001866          -0.004499   \n",
       "lat                                   0.015648          -0.025218   \n",
       "long                                 -0.039541           0.069121   \n",
       "instant_bookable                     -0.002934           0.000803   \n",
       "construction_year                    -0.001109           0.001864   \n",
       "minimum_nights                        1.000000          -0.050397   \n",
       "number_of_reviews                    -0.050397           1.000000   \n",
       "review_rate_number                   -0.002630          -0.018317   \n",
       "calculated_host_listings_count        0.085267          -0.080787   \n",
       "availability_365                      0.060231           0.098712   \n",
       "\n",
       "                                review_rate_number  \\\n",
       "id                                        0.036553   \n",
       "host_id                                   0.003453   \n",
       "lat                                      -0.003910   \n",
       "long                                      0.015254   \n",
       "instant_bookable                          0.002977   \n",
       "construction_year                         0.004772   \n",
       "minimum_nights                           -0.002630   \n",
       "number_of_reviews                        -0.018317   \n",
       "review_rate_number                        1.000000   \n",
       "calculated_host_listings_count            0.024214   \n",
       "availability_365                         -0.006195   \n",
       "\n",
       "                                calculated_host_listings_count  \\\n",
       "id                                                    0.024242   \n",
       "host_id                                               0.001719   \n",
       "lat                                                   0.032408   \n",
       "long                                                 -0.104033   \n",
       "instant_bookable                                     -0.000055   \n",
       "construction_year                                    -0.002715   \n",
       "minimum_nights                                        0.085267   \n",
       "number_of_reviews                                    -0.080787   \n",
       "review_rate_number                                    0.024214   \n",
       "calculated_host_listings_count                        1.000000   \n",
       "availability_365                                      0.158814   \n",
       "\n",
       "                                availability_365  \n",
       "id                                     -0.138899  \n",
       "host_id                                -0.002040  \n",
       "lat                                    -0.005000  \n",
       "long                                    0.058319  \n",
       "instant_bookable                       -0.004655  \n",
       "construction_year                      -0.008272  \n",
       "minimum_nights                          0.060231  \n",
       "number_of_reviews                       0.098712  \n",
       "review_rate_number                     -0.006195  \n",
       "calculated_host_listings_count          0.158814  \n",
       "availability_365                        1.000000  "
      ]
     },
     "execution_count": 168,
     "metadata": {},
     "output_type": "execute_result"
    }
   ],
   "source": [
    "airbnb_df_corr = airbnb_df.corr(numeric_only=True)\n",
    "airbnb_df_corr"
   ]
  },
  {
   "cell_type": "code",
   "execution_count": 186,
   "metadata": {},
   "outputs": [
    {
     "data": {
      "text/plain": [
       "<function matplotlib.pyplot.show(close=None, block=None)>"
      ]
     },
     "execution_count": 186,
     "metadata": {},
     "output_type": "execute_result"
    },
    {
     "data": {
      "image/png": "[encoded data removed]",
      "text/plain": [
       "<Figure size 900x800 with 2 Axes>"
      ]
     },
     "metadata": {},
     "output_type": "display_data"
    }
   ],
   "source": [
    "plt.figure(figsize=(9,8))\n",
    "sns.heatmap(airbnb_df_corr, annot=True, cmap=\"BuPu\")\n",
    "plt.show"
   ]
  },
  {
   "cell_type": "markdown",
   "metadata": {},
   "source": [
    "vedo che sono scorrelate le varibaili numeriche tra loro"
   ]
  },
  {
   "cell_type": "markdown",
   "metadata": {},
   "source": [
    "SCATTER PLOT useful to visualize the relatioship between two continuous variables and I can use the Seaborn's scatterplot() function to create them."
   ]
  },
  {
   "cell_type": "markdown",
   "metadata": {},
   "source": [
    "per le vairbaili categoriche (object) posso usare scatterplots per studiare la distribuzione dele varibaili e osservarne la correlazione graficamente con quelle numeriche  piu interessanti"
   ]
  },
  {
   "cell_type": "markdown",
   "metadata": {},
   "source": [
    "tipo construction year vs host id e vedere per lat, per long, neighoordo group e neighboorood, room type per vedere se ce una relazione tra ò host e l anno di costruzione con il neighoordoo o la tipologia di camere"
   ]
  },
  {
   "cell_type": "markdown",
   "metadata": {},
   "source": [
    "guarda correlazione tra reveiws rate number e host_name"
   ]
  },
  {
   "cell_type": "markdown",
   "metadata": {},
   "source": [
    "poi qualcosa tra price e service fee"
   ]
  },
  {
   "cell_type": "markdown",
   "metadata": {},
   "source": [
    "per neighboorood group fai bar plot\n"
   ]
  },
  {
   "cell_type": "markdown",
   "metadata": {},
   "source": [
    "cerca correlazione tra neighboorod e price o con plot o con scatter e anche tra review_rate e price per vedere se all aumentare del numero di rece cambia wualcosa nel prezzo"
   ]
  },
  {
   "cell_type": "code",
   "execution_count": null,
   "metadata": {},
   "outputs": [],
   "source": []
  }
 ],
 "metadata": {
  "kernelspec": {
   "display_name": "Python 3",
   "language": "python",
   "name": "python3"
  },
  "language_info": {
   "codemirror_mode": {
    "name": "ipython",
    "version": 3
   },
   "file_extension": ".py",
   "mimetype": "text/x-python",
   "name": "python",
   "nbconvert_exporter": "python",
   "pygments_lexer": "ipython3",
   "version": "3.9.0"
  }
 },
 "nbformat": 4,
 "nbformat_minor": 2
}
